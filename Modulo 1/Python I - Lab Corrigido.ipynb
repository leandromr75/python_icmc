{
 "cells": [
  {
   "cell_type": "markdown",
   "metadata": {},
   "source": [
    "# <span style=\"color:blue\">Programação Python para Ciência de Dados</span>\n",
    "\n",
    "## <span style=\"color:blue\">Exercícios Python I: CORREÇÃO</span>"
   ]
  },
  {
   "cell_type": "markdown",
   "metadata": {},
   "source": [
    "#### 1) Declare uma variável *preco_dolar* e outra *preco_celular* com os valores 3.98 e 849, respectivamente. Realize a conversão do preço desse celular para real e imprima o resultado"
   ]
  },
  {
   "cell_type": "code",
   "execution_count": 1,
   "metadata": {},
   "outputs": [
    {
     "name": "stdout",
     "output_type": "stream",
     "text": [
      "3379.02\n"
     ]
    }
   ],
   "source": [
    "# Declarando as variáveis\n",
    "preco_dolar = 3.98\n",
    "preco_celular = 849\n",
    "\n",
    "# Calculando o preço em reais\n",
    "preco_celular_reais = preco_dolar * preco_celular\n",
    "\n",
    "# Imprimindo preço celular em reais\n",
    "print(preco_celular_reais)"
   ]
  },
  {
   "cell_type": "markdown",
   "metadata": {},
   "source": [
    "#### 2) Supondo produtos que custam 35.90, 23.40 e 12.49 calcule a média de preço entre eles utilizando os operadores do Python"
   ]
  },
  {
   "cell_type": "code",
   "execution_count": 2,
   "metadata": {},
   "outputs": [
    {
     "name": "stdout",
     "output_type": "stream",
     "text": [
      "23.896666666666665\n"
     ]
    }
   ],
   "source": [
    "# Solução 1: mais direta, porém não ideal\n",
    "\n",
    "# Declarando cada preço em uma variável\n",
    "preco1 = 35.90\n",
    "preco2 = 23.40\n",
    "preco3 = 12.39\n",
    "\n",
    "# Calculando a média\n",
    "media_precos = (preco1 + preco2 + preco3)/3\n",
    "\n",
    "# Imprimindo a média\n",
    "print(media_precos)"
   ]
  },
  {
   "cell_type": "code",
   "execution_count": 3,
   "metadata": {},
   "outputs": [
    {
     "name": "stdout",
     "output_type": "stream",
     "text": [
      "23.896666666666665\n"
     ]
    }
   ],
   "source": [
    "# Solução 2: melhor, pois não limita o número de elementos da média caso\n",
    "# seja necessária alguma mudança (podemos aumentar o tamanho da lista),\n",
    "# porém ainda é não ideal em termos de eficiência e facilidade\n",
    "\n",
    "# Declarando uma lista com os preços\n",
    "precos = [35.90, 23.40, 12.39]\n",
    "\n",
    "# Calculando o total\n",
    "total = 0\n",
    "for preco in precos:\n",
    "    total = total + preco\n",
    "    \n",
    "# Média é o total dividido pelo numero de elementos\n",
    "media_precos = total / len(precos)\n",
    "\n",
    "# Imprimindo a média\n",
    "print(media_precos)"
   ]
  },
  {
   "cell_type": "code",
   "execution_count": 4,
   "metadata": {},
   "outputs": [
    {
     "name": "stdout",
     "output_type": "stream",
     "text": [
      "23.896666666666665\n"
     ]
    }
   ],
   "source": [
    "# Solução 3: mais eficiente e mais facil de se utilizar\n",
    "\n",
    "# Muitas vezes os módulos do python tem funções implementadas\n",
    "# média (e outras medidas estatísticas são um exemplos disso)\n",
    "from statistics import mean\n",
    "\n",
    "# Declarando uma lista com os preços\n",
    "precos = [35.90, 23.40, 12.39]\n",
    "\n",
    "# A própria função do python (que é mais eficiente) faz o cálculo para nós\n",
    "media_precos = mean(precos)\n",
    "\n",
    "# Imprimindo a média\n",
    "print(media_precos)"
   ]
  },
  {
   "cell_type": "markdown",
   "metadata": {},
   "source": [
    "#### 3) Imprima os primeiros quatro elementos da lista a seguir"
   ]
  },
  {
   "cell_type": "code",
   "execution_count": 5,
   "metadata": {},
   "outputs": [],
   "source": [
    "minha_lista = ['python', 'java', 'c++', 'javascript', 'c#', 'go', 'r']"
   ]
  },
  {
   "cell_type": "code",
   "execution_count": 6,
   "metadata": {},
   "outputs": [
    {
     "name": "stdout",
     "output_type": "stream",
     "text": [
      "python\n",
      "java\n",
      "c++\n",
      "javascript\n"
     ]
    }
   ],
   "source": [
    "# Solução 1: Parando o laço apos imprimir o quarto elemento\n",
    "\n",
    "# len(minha_lista) retora o tamanho da lista\n",
    "# range(N) retorna uma sequencia de 0 até N -1\n",
    "# Então i receberá, a cada iteração, um índice da lista\n",
    "for i in range(len(minha_lista)):\n",
    "    if i == 4: # Antes de imprimir o quinto elemento (lembre-se que o indice começa no 0)\n",
    "        break # Para a execução do laço\n",
    "    print(minha_lista[i])"
   ]
  },
  {
   "cell_type": "code",
   "execution_count": 7,
   "metadata": {},
   "outputs": [
    {
     "name": "stdout",
     "output_type": "stream",
     "text": [
      "python\n",
      "java\n",
      "c++\n",
      "javascript\n"
     ]
    }
   ],
   "source": [
    "# Solução 2: Usar um laço que itera em uma versão da lista só com os quatro primeiros elementos\n",
    "\n",
    "quatro_primeiros_lista = minha_lista[:4] # Slicing: do começo até o elemento 4-1\n",
    "\n",
    "for palavra in quatro_primeiros_lista:\n",
    "    print(palavra)"
   ]
  },
  {
   "cell_type": "code",
   "execution_count": 8,
   "metadata": {},
   "outputs": [
    {
     "name": "stdout",
     "output_type": "stream",
     "text": [
      "python\n",
      "java\n",
      "c++\n",
      "javascript\n"
     ]
    }
   ],
   "source": [
    "# Solução 3: Igual a Solução 2, mas podemos fazer o slicing direto na estrutura de repetição\n",
    "\n",
    "for palavra in minha_lista[:4]:\n",
    "    print(palavra)"
   ]
  },
  {
   "cell_type": "markdown",
   "metadata": {},
   "source": [
    "#### 4) Dada a seguinte lista com valores calcule e imprima a soma total"
   ]
  },
  {
   "cell_type": "code",
   "execution_count": 9,
   "metadata": {},
   "outputs": [],
   "source": [
    "lista_valores = [4, 6, 2, 34, 76, 123, 1, 9, 5, 76, 32]"
   ]
  },
  {
   "cell_type": "code",
   "execution_count": 10,
   "metadata": {
    "scrolled": true
   },
   "outputs": [
    {
     "name": "stdout",
     "output_type": "stream",
     "text": [
      "368\n"
     ]
    }
   ],
   "source": [
    "# Solução 1: Mais simples e pouco eficiente\n",
    "\n",
    "# Total começa como 0\n",
    "total = 0\n",
    "\n",
    "# Para cada valor na nossa lista\n",
    "for valor in lista_valores:\n",
    "    # Incrementar total pelo nosso valor atual\n",
    "    total = total + valor\n",
    "\n",
    "# Imprimindo resultado\n",
    "print(total)"
   ]
  },
  {
   "cell_type": "code",
   "execution_count": 11,
   "metadata": {},
   "outputs": [
    {
     "name": "stdout",
     "output_type": "stream",
     "text": [
      "368\n"
     ]
    }
   ],
   "source": [
    "# Solução 2: Pequena modificação na Solução 2 \n",
    "# Incrementar uma variável pode ser feito com os simbolos += (Decrementar -=)\n",
    "\n",
    "# Total começa como 0\n",
    "total = 0\n",
    "\n",
    "# Para cada valor na nossa lista\n",
    "for valor in lista_valores:\n",
    "    # Incrementar total pelo nosso valor atual\n",
    "    total += valor\n",
    "\n",
    "# Imprimindo resultado\n",
    "print(total)"
   ]
  },
  {
   "cell_type": "code",
   "execution_count": 12,
   "metadata": {},
   "outputs": [
    {
     "name": "stdout",
     "output_type": "stream",
     "text": [
      "368\n"
     ]
    }
   ],
   "source": [
    "# Solução 3: Solução eficiente e prática\n",
    "\n",
    "# Existe uma função do proprio python que calcula a soma dos elementos de uma lista\n",
    "total = sum(lista_valores)\n",
    "\n",
    "# Imprimindo resultado\n",
    "print(total)"
   ]
  },
  {
   "cell_type": "markdown",
   "metadata": {},
   "source": [
    "#### 5) Dada lista de nomes a seguir:"
   ]
  },
  {
   "cell_type": "code",
   "execution_count": 13,
   "metadata": {},
   "outputs": [],
   "source": [
    "meus_nomes = ['Matheus', 'Gabriel', 'Gustavo', 'Hugo', 'Ricardo', 'Rui', 'Guilherme', 'Luiz']"
   ]
  },
  {
   "cell_type": "markdown",
   "metadata": {},
   "source": [
    "##### a) Imprima apenas nomes que começam com a letra G"
   ]
  },
  {
   "cell_type": "code",
   "execution_count": 14,
   "metadata": {},
   "outputs": [
    {
     "name": "stdout",
     "output_type": "stream",
     "text": [
      "Gabriel\n",
      "Gustavo\n",
      "Guilherme\n"
     ]
    }
   ],
   "source": [
    "# Para cada nome da nossa lista\n",
    "for nome in meus_nomes:\n",
    "    # Se nome começa com G\n",
    "    if nome[0] == 'G':\n",
    "        print(nome)\n",
    "        \n",
    "# (atenção com a indentação)"
   ]
  },
  {
   "cell_type": "markdown",
   "metadata": {},
   "source": [
    "##### b) Imprima apenas nomes que começam com seis ou menos letras"
   ]
  },
  {
   "cell_type": "code",
   "execution_count": 15,
   "metadata": {},
   "outputs": [
    {
     "name": "stdout",
     "output_type": "stream",
     "text": [
      "Hugo\n",
      "Rui\n",
      "Luiz\n"
     ]
    }
   ],
   "source": [
    "# Para cada nome da nossa lista\n",
    "for nome in meus_nomes:\n",
    "    # Se nome começa com G\n",
    "    if len(nome) <= 6:\n",
    "        print(nome)\n",
    "        \n",
    "# (atenção com a indentação)"
   ]
  },
  {
   "cell_type": "markdown",
   "metadata": {},
   "source": [
    "#### 6) Dada a lista de números a seguir, crie uma lista apenas com os números multiplos de 3"
   ]
  },
  {
   "cell_type": "code",
   "execution_count": 16,
   "metadata": {},
   "outputs": [
    {
     "name": "stdout",
     "output_type": "stream",
     "text": [
      "[342, 12, 45, 123, 567]\n"
     ]
    }
   ],
   "source": [
    "meus_numeros = [1, 56, 342, 12, 781, 23, 43, 45, 123, 567]\n",
    "\n",
    "# Criando nova lista onde iremos guardar os multiplos de 3\n",
    "nova_lista = []\n",
    "\n",
    "# Iterando na nossa lista original\n",
    "for numero in meus_numeros:\n",
    "    # Se o resto da divisão do número por 3 for 0 significa que é um múltiplo\n",
    "    if numero % 3 == 0:\n",
    "        # Colocamos ele na nova lista\n",
    "        nova_lista.append(numero)\n",
    "        \n",
    "print(nova_lista)"
   ]
  },
  {
   "cell_type": "markdown",
   "metadata": {},
   "source": [
    "#### 7) Considerando uma lista onde cada elemento é uma lista que representa notas dadas a um produto, calcule a média de notas de cada produto, salvando o resultado em uma nova lista"
   ]
  },
  {
   "cell_type": "code",
   "execution_count": 17,
   "metadata": {},
   "outputs": [],
   "source": [
    "minhas_notas = [[2.3, 4.5, 1.2], # Notas do produto 1\n",
    "                [5.4, 3.6, 7.9, 6.2], # Notas do produto 2\n",
    "                [8.1, 8.9, 6.5, 7.9, 9.4], # ...\n",
    "                [9.8, 7.6],\n",
    "                [3.2, 4.5, 1.6, 4.8]]"
   ]
  },
  {
   "cell_type": "code",
   "execution_count": 18,
   "metadata": {},
   "outputs": [
    {
     "name": "stdout",
     "output_type": "stream",
     "text": [
      "[2.3, 4.5, 1.2]\n",
      "[5.4, 3.6, 7.9, 6.2]\n",
      "[8.1, 8.9, 6.5, 7.9, 9.4]\n",
      "[9.8, 7.6]\n",
      "[3.2, 4.5, 1.6, 4.8]\n"
     ]
    }
   ],
   "source": [
    "# Podemos pensar nessa lista de listas como uma tabela (ou uma planilha), onde cada linha\n",
    "# representa um aluno e cada coluna suas notas em cada prova\n",
    "\n",
    "# Então primeiramente vamos iterar nessa lista para entender melhor o que está acontecendo\n",
    "\n",
    "# Para cada linha dessa tabela\n",
    "for aluno in minhas_notas:\n",
    "    # Imprimir a linha\n",
    "    print(aluno)"
   ]
  },
  {
   "cell_type": "code",
   "execution_count": 19,
   "metadata": {},
   "outputs": [
    {
     "name": "stdout",
     "output_type": "stream",
     "text": [
      "[2.6666666666666665, 5.775, 8.16, 8.7, 3.525]\n"
     ]
    }
   ],
   "source": [
    "# Já sabemos que o Python possui uma função pronta para o cálculo da média\n",
    "from statistics import mean\n",
    "\n",
    "# Vamos criar uma lista (por enquanto vazia) onde guardaremos as médias de cada aluno\n",
    "medias_alunos = []\n",
    "\n",
    "# Para cada aluno\n",
    "for aluno in minhas_notas:\n",
    "    # Lembre-se: a variável aluno está guardando uma lista de notas do aluno\n",
    "    # Calculando a média do aluno\n",
    "    media = mean(aluno)\n",
    "    \n",
    "    # Colocando a média do aluno na lista de médias\n",
    "    medias_alunos.append(media)\n",
    "    \n",
    "    \n",
    "# Imprimindo as médias que calculamos\n",
    "print(medias_alunos)"
   ]
  },
  {
   "cell_type": "markdown",
   "metadata": {},
   "source": [
    "#### 8) Dado o dicionário abaixo, o qual contém preços de imóveis em uma cidade, escreva códigos para encontrar:"
   ]
  },
  {
   "cell_type": "code",
   "execution_count": 20,
   "metadata": {},
   "outputs": [],
   "source": [
    "preco_imoveis = {'Apartamento centro': 1250000,\n",
    "               'Apartamento suburbio': 500000,\n",
    "               'Casa cinco quartos': 750000,\n",
    "               'Casa com garagem': 300000,\n",
    "               'Casa com piscina': 1200000,\n",
    "               'Sitio pequeno': 3000000,\n",
    "               'Sitio com lago': 5500000}"
   ]
  },
  {
   "cell_type": "code",
   "execution_count": 21,
   "metadata": {},
   "outputs": [],
   "source": [
    "# Existem três formas de iterar em um dicionário:\n",
    "# - Em suas chaves\n",
    "# - Em seus valores\n",
    "# - Em seus pares chave-valor"
   ]
  },
  {
   "cell_type": "markdown",
   "metadata": {},
   "source": [
    "##### a) Qual é o preço total?"
   ]
  },
  {
   "cell_type": "code",
   "execution_count": 22,
   "metadata": {},
   "outputs": [
    {
     "name": "stdout",
     "output_type": "stream",
     "text": [
      "12500000\n"
     ]
    }
   ],
   "source": [
    "# Como queremos saber o preço total precisamos apenas dos valores do dicionário, que nesse caso são os preços\n",
    "precos = preco_imoveis.values()\n",
    "\n",
    "# Já vimos como calcular a soma de uma sequencia\n",
    "total = sum(precos)\n",
    "\n",
    "# Imprimindo o resultado\n",
    "print(total)"
   ]
  },
  {
   "cell_type": "markdown",
   "metadata": {},
   "source": [
    "##### b) Quem possui o maior preço?"
   ]
  },
  {
   "cell_type": "code",
   "execution_count": 23,
   "metadata": {},
   "outputs": [
    {
     "name": "stdout",
     "output_type": "stream",
     "text": [
      "Sitio com lago\n"
     ]
    }
   ],
   "source": [
    "# Nesse caso precisamos do par (imovel, preco)\n",
    "\n",
    "# Variáveis que guardam imovel mais caro e seu preço\n",
    "mais_caro = None # Ainda não temos\n",
    "maior_preco = 0 # Definimos esse valor inicial como algo menor que todos os preços do dicionario\n",
    "\n",
    "# Para cada imovel e seu preço do dicionário\n",
    "for imovel, preco in preco_imoveis.items():\n",
    "    # Se o imóvel que estou olhando agora é mais caro que o mais caro que já vi, então:\n",
    "    if preco > maior_preco:\n",
    "        mais_caro = imovel # Mais caro agora é esse\n",
    "        maior_preco = preco # Maior preço passa a ser o preço atual\n",
    "\n",
    "# Imprimindo o resultado\n",
    "print(mais_caro)"
   ]
  },
  {
   "cell_type": "markdown",
   "metadata": {},
   "source": [
    "#### 9) Escreva código para contar o número de ocorrencias de cada letra na string fornecida"
   ]
  },
  {
   "cell_type": "code",
   "execution_count": 24,
   "metadata": {},
   "outputs": [],
   "source": [
    "minha_string = \"scientia vinces\""
   ]
  },
  {
   "cell_type": "code",
   "execution_count": 25,
   "metadata": {},
   "outputs": [
    {
     "name": "stdout",
     "output_type": "stream",
     "text": [
      "{'s': 2, 'c': 2, 'i': 3, 'e': 2, 'n': 2, 't': 1, 'a': 1, ' ': 1, 'v': 1}\n"
     ]
    }
   ],
   "source": [
    "# Solução 1: Utilizar um dicionário.\n",
    "# Podemos utilizar um dicionário onde a chave é uma letra e seu valor armazenado é o número de vezes que \n",
    "# essa letra ocorre. Caminhamos letra por letra atualizando os valores\n",
    "\n",
    "# Criando dicionário vazio onde guardaremos as ocorrencias\n",
    "ocorrencias = {}\n",
    "\n",
    "# Para cada letra que aparece na string (lembre-se que uma string também é uma sequencia)\n",
    "for letra in minha_string:\n",
    "    # Se a letra ainda não está no dicionário preciso coloca-la\n",
    "    if letra not in ocorrencias:\n",
    "        ocorrencias[letra] = 1\n",
    "    else:\n",
    "        ocorrencias[letra] += 1 # Caso já esteja no dicionário incrementamos seu numero de ocorrencias\n",
    "        \n",
    "# Imprimindo o dicionário com as ocorrencias\n",
    "print(ocorrencias)"
   ]
  },
  {
   "cell_type": "code",
   "execution_count": 26,
   "metadata": {},
   "outputs": [
    {
     "name": "stdout",
     "output_type": "stream",
     "text": [
      "Counter({'i': 3, 's': 2, 'c': 2, 'e': 2, 'n': 2, 't': 1, 'a': 1, ' ': 1, 'v': 1})\n"
     ]
    }
   ],
   "source": [
    "# Solução 2: Existe a implementação da contagem de ocorrencias já pronta em um módulo do Python :)\n",
    "\n",
    "# Imporantando o que estamos precisando\n",
    "from collections import Counter\n",
    "\n",
    "# Temos apenas que utilizar o que já está pronto\n",
    "ocorrencias = Counter(minha_string)\n",
    "\n",
    "# Imprimindo o dicionário com as ocorrencias\n",
    "print(ocorrencias)"
   ]
  },
  {
   "cell_type": "markdown",
   "metadata": {},
   "source": [
    "#### 10) Escreva código que seleciona aleatóriamente um nome da lista de nomes fornecida"
   ]
  },
  {
   "cell_type": "code",
   "execution_count": 27,
   "metadata": {},
   "outputs": [],
   "source": [
    "meus_nomes = ['Waldir Peres', 'Luizinho', 'Oscar', \n",
    "              'Junior', 'Leandro', 'Cerezo', \n",
    "              'Falcão', 'Éder', 'Zico', 'Sócrates', 'Serginho']"
   ]
  },
  {
   "cell_type": "code",
   "execution_count": 28,
   "metadata": {},
   "outputs": [],
   "source": [
    "# Sabemos que por estarmos lidando com aleatoriedade teremos que usar o modulo random do Python\n",
    "import random"
   ]
  },
  {
   "cell_type": "code",
   "execution_count": 29,
   "metadata": {},
   "outputs": [
    {
     "name": "stdout",
     "output_type": "stream",
     "text": [
      "Éder\n"
     ]
    }
   ],
   "source": [
    "# Solução 1: Gerando um indice aleatório para o nosso vetor\n",
    "\n",
    "# random.randint(a, b) gera um número aleatório a, b. \n",
    "# Então como nosso vetor é indexado de 0 até n-1 usamos len(meus_nomes) - 1\n",
    "indice_aleatorio = random.randint(0, len(meus_nomes) - 1)\n",
    "\n",
    "# Pegando o nome aleatorio usando o indice que geramos\n",
    "nome_aleatorio = meus_nomes[indice_aleatorio]\n",
    "\n",
    "# Imprimindo o nome aletório\n",
    "print(nome_aleatorio)"
   ]
  },
  {
   "cell_type": "code",
   "execution_count": 30,
   "metadata": {},
   "outputs": [
    {
     "name": "stdout",
     "output_type": "stream",
     "text": [
      "Sócrates\n"
     ]
    }
   ],
   "source": [
    "# Solução 2: O modulo random já possui uma função que seleciona um elemento de um vetor aleatoriamente\n",
    "\n",
    "# random.choice recebe uma sequência e retorna um elemento aleatório da mesma\n",
    "nome_aleatorio = random.choice(meus_nomes)\n",
    "\n",
    "# Imprimindo o nome aletório\n",
    "print(nome_aleatorio)"
   ]
  }
 ],
 "metadata": {
  "kernelspec": {
   "display_name": "Python 3",
   "language": "python",
   "name": "python3"
  },
  "language_info": {
   "codemirror_mode": {
    "name": "ipython",
    "version": 3
   },
   "file_extension": ".py",
   "mimetype": "text/x-python",
   "name": "python",
   "nbconvert_exporter": "python",
   "pygments_lexer": "ipython3",
   "version": "3.6.8"
  },
  "toc": {
   "base_numbering": 1,
   "nav_menu": {},
   "number_sections": true,
   "sideBar": true,
   "skip_h1_title": false,
   "title_cell": "Table of Contents",
   "title_sidebar": "Contents",
   "toc_cell": false,
   "toc_position": {},
   "toc_section_display": true,
   "toc_window_display": false
  }
 },
 "nbformat": 4,
 "nbformat_minor": 2
}

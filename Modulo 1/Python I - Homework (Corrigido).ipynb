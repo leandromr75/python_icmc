{
 "cells": [
  {
   "cell_type": "markdown",
   "metadata": {},
   "source": [
    "# Programação Python para Ciência de Dados\n",
    "\n",
    "## Homework Python I\n",
    "\n",
    "Nesses exercícios estaremos lidando com dados reais de gastos de deputados. Temos informações referentes a diversos pedidos de reembolso, tendo o nome do deputado, seu estado, seu partido e o valor do reembolso solicitado.\n",
    "\n",
    "\n",
    "Estaremos usando uma versão tratada da seguinte base de dados:\n",
    "\n",
    "https://www.kaggle.com/epattaro/brazils-house-of-deputies-reimbursements"
   ]
  },
  {
   "cell_type": "markdown",
   "metadata": {},
   "source": [
    "Ignore o código a seguir por enquanto, estamos somente carregando os dados. Logo veremos tudo que é necessário para entender como ele funciona."
   ]
  },
  {
   "cell_type": "code",
   "execution_count": 5,
   "metadata": {},
   "outputs": [],
   "source": [
    "def carregar_dados():\n",
    "    \"\"\"\n",
    "    Função que carrega a base de dados como uma lista de tuplas\n",
    "    \"\"\"\n",
    "    with open('gastos_deputados.csv', 'r') as f:\n",
    "        content = f.readlines()\n",
    "    content = [x.strip() for x in content]\n",
    "    data = [line.split(',') for line in content]\n",
    "    for line in data:\n",
    "        line[-1] = float(line[-1])\n",
    "    data = [tuple(line) for line in data]\n",
    "\n",
    "    return data"
   ]
  },
  {
   "cell_type": "markdown",
   "metadata": {},
   "source": [
    "O código abaixo carrega os dados que iremos trabalhar. Eles estão organizados em uma lista de tuplas, onde cada tupla contém as informações de um reembolso. Como a seguir:\n",
    "\n",
    "```python\n",
    "dados = [(NOME, ESTADO, PARTIDO, VALOR),\n",
    "         (NOME, ESTADO, PARTIDO, VALOR),\n",
    "         ...\n",
    "         (NOME, ESTADO, PARTIDO, VALOR)]\n",
    "```"
   ]
  },
  {
   "cell_type": "code",
   "execution_count": 6,
   "metadata": {},
   "outputs": [],
   "source": [
    "dados = carregar_dados()"
   ]
  },
  {
   "cell_type": "markdown",
   "metadata": {},
   "source": [
    "### Perguntas\n",
    "#### 1- Qual é o valor total solicitado em reembolsos?\n",
    "#### 2- Qual é o valor médio solicitado em reembolsos?\n",
    "#### 3- Qual estado possui um valor total maior em reembolsos, GO ou MT?\n",
    "#### 4- Qual região possui um valor médio menor em reembolsos, sul ou sudeste?\n",
    "#### 6- Qual o total de pedidos realizados por deputados do DEM-RJ?\n",
    "#### 7- Crie uma lista apenas com os pedidos maiores que 500 reais\n",
    "#### 8- Qual é o número de pedidos realizados por cada partido?\n",
    "#### 9- Liste todos os partidos presentes na base (dica: pesquise pelo tipo de dados *set*)\n",
    "#### 10- Liste os deputados que possuem solicitações de reembolso maiores que 10 mil reais\n"
   ]
  },
  {
   "cell_type": "code",
   "execution_count": 15,
   "metadata": {},
   "outputs": [
    {
     "name": "stdout",
     "output_type": "stream",
     "text": [
      "2041293.079999996\n",
      "2041293.079999996\n",
      "2041293.079999996\n"
     ]
    }
   ],
   "source": [
    "#### 1- Qual é o valor total solicitado em reembolsos?\n",
    "\n",
    "soma = 0\n",
    "for _, _, _, valor in dados:\n",
    "    soma += valor\n",
    "print(soma)\n",
    "\n",
    "# OU\n",
    "\n",
    "soma = 0\n",
    "for pedido in dados:\n",
    "    valor = pedido[3]\n",
    "    soma += valor\n",
    "print(soma)\n",
    "\n",
    "# OU\n",
    "\n",
    "print(sum(r[3] for r in dados))\n",
    "    "
   ]
  },
  {
   "cell_type": "code",
   "execution_count": 11,
   "metadata": {},
   "outputs": [
    {
     "data": {
      "text/plain": [
       "603.5757185097564"
      ]
     },
     "execution_count": 11,
     "metadata": {},
     "output_type": "execute_result"
    }
   ],
   "source": [
    "#### 2- Qual é o valor médio solicitado em reembolsos?\n",
    "soma / len(dados)"
   ]
  },
  {
   "cell_type": "code",
   "execution_count": 12,
   "metadata": {},
   "outputs": [
    {
     "name": "stdout",
     "output_type": "stream",
     "text": [
      "GO\n"
     ]
    }
   ],
   "source": [
    "#### 3- Qual estado possui um valor total maior em reembolsos, GO ou MT?\n",
    "soma_go = 0\n",
    "soma_mt = 0\n",
    "\n",
    "for _, estado, _, valor in dados:\n",
    "    if estado == 'GO':\n",
    "        soma_go += valor\n",
    "    elif estado == 'MT':\n",
    "        soma_mt += valor\n",
    "\n",
    "maior_estado = 'GO' if soma_go > soma_mt else 'MT'\n",
    "print(maior_estado)\n"
   ]
  },
  {
   "cell_type": "code",
   "execution_count": 13,
   "metadata": {},
   "outputs": [
    {
     "name": "stdout",
     "output_type": "stream",
     "text": [
      "Sul\n",
      "Sul\n"
     ]
    }
   ],
   "source": [
    "#### 4- Qual região possui um valor médio menor em reembolsos, sul ou sudeste?\n",
    "\n",
    "s = ['RS', 'PN', 'SC'] \n",
    "se = ['SP', 'RJ', 'MG', 'ES']\n",
    "soma_s = 0\n",
    "soma_se = 0\n",
    "\n",
    "for _, estado, _, valor in dados:\n",
    "    if estado == 'RS' or estado == 'PN' or estado == 'SC':\n",
    "        soma_s += valor\n",
    "    elif estado == 'SP' or estado == 'RJ' or estado == 'MG' or estado == 'ES':\n",
    "        soma_se += valor\n",
    "        \n",
    "menor_regiao = 'Sul' if soma_s < soma_se else 'Sudeste'\n",
    "print(menor_regiao)\n",
    "  \n",
    "    \n",
    "# OU (Solução mais avançada)       \n",
    "\n",
    "s = {'RS', 'PN', 'SC'} # obs: sets permitem rápidas operações de verificar existência (in) dentro do conjunto\n",
    "se = {'SP', 'RJ', 'MG', 'ES'}\n",
    "soma_s = 0\n",
    "soma_se = 0\n",
    "\n",
    "for _, estado, _, valor in dados:\n",
    "    if estado in s:\n",
    "        soma_s += valor\n",
    "    elif estado in se:\n",
    "        soma_se += valor\n",
    "\n",
    "menor_regiao = 'Sul' if soma_s < soma_se else 'Sudeste'   \n",
    "print(menor_regiao)"
   ]
  },
  {
   "cell_type": "code",
   "execution_count": 20,
   "metadata": {},
   "outputs": [
    {
     "name": "stdout",
     "output_type": "stream",
     "text": [
      "32\n"
     ]
    }
   ],
   "source": [
    "#### 6 (cadê o 5? :c)- Qual o total de pedidos realizados por deputados do DEM-RJ?\n",
    "\n",
    "total = 0\n",
    "for _, estado, partido, _ in dados:\n",
    "    if partido == 'DEM' and estado == 'RJ':\n",
    "        total += 1\n",
    "print(total)\n",
    "    "
   ]
  },
  {
   "cell_type": "code",
   "execution_count": 25,
   "metadata": {},
   "outputs": [
    {
     "name": "stdout",
     "output_type": "stream",
     "text": [
      "[('MAURO MARIANI', 'SC', 'PMDB', 526.68), ('BETINHO GOMES', 'PE', 'PSDB', 12000.0), ('PAULO ABI-ACKEL', 'MG', 'PSDB', 972.72), ('ADELMO CARNEIRO LEÃO', 'MG', 'PT', 709.72), ('HISSA ABRAHÃO', 'AM', 'PDT', 1379.58), ('PAES LANDIM', 'PI', 'PTB', 1091.66), ('ELIZIANE GAMA', 'MA', 'PPS', 546.73), ('LUIZ COUTO', 'PB', 'PT', 868.83), ('EZEQUIEL TEIXEIRA', 'RJ', 'PTN', 710.45), ('ANDERSON FERREIRA', 'PE', 'PR', 665.63)]\n",
      "\n",
      "[('MAURO MARIANI', 'SC', 'PMDB', 526.68), ('BETINHO GOMES', 'PE', 'PSDB', 12000.0), ('PAULO ABI-ACKEL', 'MG', 'PSDB', 972.72), ('ADELMO CARNEIRO LEÃO', 'MG', 'PT', 709.72), ('HISSA ABRAHÃO', 'AM', 'PDT', 1379.58), ('PAES LANDIM', 'PI', 'PTB', 1091.66), ('ELIZIANE GAMA', 'MA', 'PPS', 546.73), ('LUIZ COUTO', 'PB', 'PT', 868.83), ('EZEQUIEL TEIXEIRA', 'RJ', 'PTN', 710.45), ('ANDERSON FERREIRA', 'PE', 'PR', 665.63)]\n"
     ]
    }
   ],
   "source": [
    "#### 7- Crie uma lista apenas com os pedidos maiores que 500 reais\n",
    "pedidos500 = []\n",
    "for pedido in dados:\n",
    "    if pedido[3] > 500:\n",
    "        pedidos500.append(pedido)\n",
    "        \n",
    "print(pedidos500[:10]) # Não vou printar tudo, o [:10] pra não poluir a tela\n",
    "print()\n",
    "\n",
    "# OU\n",
    "\n",
    "pedidos500 = [pedido for pedido in dados if pedido[3] > 500]\n",
    "print(pedidos500[:10]) # Não vou printar tudo, o [:10] pra não poluir a tela"
   ]
  },
  {
   "cell_type": "code",
   "execution_count": 28,
   "metadata": {},
   "outputs": [
    {
     "name": "stdout",
     "output_type": "stream",
     "text": [
      "{'PSB': 207, 'PTB': 114, 'PMDB': 429, 'PSOL': 36, 'SD': 83, 'PSDB': 349, 'PTN': 90, 'PT': 485, 'PDT': 116, 'PPS': 61, 'PP': 320, 'PR': 283, 'PSD': 173, 'PROS': 33, 'PRB': 129, 'PHS': 50, 'DEM': 160, 'REDE': 26, 'PV': 54, 'PCdoB': 96, 'PMB': 6, 'PSC': 29, 'PTdoB': 19, 'PEN': 10, 'PRP': 3, 'PSL': 18, 'PRTB': 3}\n"
     ]
    }
   ],
   "source": [
    "#### 8- Qual é o número de pedidos realizados por cada partido?\n",
    "pedidos_partidos = dict()\n",
    "for pedido in dados:\n",
    "    partido = pedido[2]\n",
    "    if partido in pedidos_partidos:\n",
    "        pedidos_partidos[partido] += 1\n",
    "    else:\n",
    "        pedidos_partidos[partido] = 1\n",
    "print(pedidos_partidos)        "
   ]
  },
  {
   "cell_type": "code",
   "execution_count": 31,
   "metadata": {},
   "outputs": [
    {
     "name": "stdout",
     "output_type": "stream",
     "text": [
      "{'PRB', 'REDE', 'PSD', 'PTdoB', 'PMB', 'PSOL', 'PSL', 'PTB', 'SD', 'PMDB', 'PHS', 'PSC', 'DEM', 'PT', 'PEN', 'PR', 'PSDB', 'PP', 'PDT', 'PRP', 'PROS', 'PRTB', 'PTN', 'PCdoB', 'PSB', 'PV', 'PPS'}\n",
      "\n",
      "{'PRB', 'REDE', 'PSD', 'PTdoB', 'PMB', 'PSOL', 'PSL', 'PTB', 'SD', 'PMDB', 'PHS', 'PSC', 'DEM', 'PT', 'PEN', 'PR', 'PSDB', 'PP', 'PDT', 'PRP', 'PROS', 'PRTB', 'PTN', 'PCdoB', 'PSB', 'PV', 'PPS'}\n"
     ]
    }
   ],
   "source": [
    "#### 9- Liste todos os partidos presentes na base (dica: pesquise pelo tipo de dados *set*)\n",
    "\n",
    "partidos = set()\n",
    "for pedido in dados:\n",
    "    partidos.add(pedido[2])\n",
    "print(partidos)\n",
    "print()\n",
    "\n",
    "# OU\n",
    "\n",
    "partidos = {pedido[2] for pedido in dados}\n",
    "print(partidos)"
   ]
  },
  {
   "cell_type": "code",
   "execution_count": 53,
   "metadata": {},
   "outputs": [
    {
     "name": "stdout",
     "output_type": "stream",
     "text": [
      "{'SANDRO ALEX', 'JOÃO CASTELO', 'BETINHO GOMES', 'CRISTIANE BRASIL', 'MOISÉS DINIZ', 'OSMAR SERRAGLIO', 'JÚLIA MARINHO', 'TAKAYAMA', 'GORETE PEREIRA', 'BENITO GAMA', 'RODRIGO MAIA', 'WALDENOR PEREIRA', 'JHONATAN DE JESUS', 'ALEXANDRE BALDY', 'AFONSO FLORENCE'}\n",
      "\n",
      "{'SANDRO ALEX', 'JOÃO CASTELO', 'BETINHO GOMES', 'CRISTIANE BRASIL', 'MOISÉS DINIZ', 'OSMAR SERRAGLIO', 'JÚLIA MARINHO', 'TAKAYAMA', 'GORETE PEREIRA', 'BENITO GAMA', 'RODRIGO MAIA', 'WALDENOR PEREIRA', 'JHONATAN DE JESUS', 'ALEXANDRE BALDY', 'AFONSO FLORENCE'}\n",
      "\n",
      "Considerando total:\n",
      " ['BENITO GAMA', 'MAJOR OLIMPIO', 'BETINHO GOMES', 'PAULO ABI-ACKEL', 'ADELMO CARNEIRO LEÃO', 'JOZI ARAÚJO', 'ELIZIANE GAMA', 'ZECA DIRCEU', 'CRISTIANE BRASIL', 'WALDENOR PEREIRA', 'RODRIGO MAIA', 'MARCO MAIA', 'MÁRIO HERINGER', 'LEÔNIDAS CRISTINO', 'MISAEL VARELLA', 'SANDRO ALEX', 'MÁRIO NEGROMONTE JR.', 'ELIZEU DIONIZIO', 'OTAVIO LEITE', 'DR. JORGE SILVA', 'LUIS CARLOS HEINZE', 'ADALBERTO CAVALCANTI', 'JÉSSICA SALES', 'JUSCELINO FILHO', 'MARCELO SQUASSONI', 'GORETE PEREIRA', 'EFRAIM FILHO', 'AFONSO FLORENCE', 'JÚLIA MARINHO', 'DANIEL ALMEIDA', 'MOISÉS DINIZ', 'OSMAR SERRAGLIO', 'JOÃO RODRIGUES', 'ORLANDO SILVA', 'NELSON MARCHEZAN JUNIOR', 'JONY MARCOS', 'JOSÉ CARLOS ALELUIA', 'JEAN WYLLYS', 'ALEXANDRE BALDY', 'ROBERTO ALVES', 'HIRAN GONÇALVES', 'MILTON MONTI', 'TAKAYAMA', 'FÁBIO MITIDIERI', 'JOÃO CASTELO', 'JHONATAN DE JESUS']\n"
     ]
    }
   ],
   "source": [
    "#### 10- Liste os deputados que possuem solicitações de reembolso maiores que 10 mil reais\n",
    "\n",
    "\n",
    "# Se for para encontrar apenas os deputados que tiveram um reembolso ÚNICO maior que 10 mil então:\n",
    "\n",
    "deputados = set()\n",
    "for nome, _, _, valor in dados:\n",
    "    if valor > 10_000 :\n",
    "        deputados.add(nome)\n",
    "print(deputados)\n",
    "print()\n",
    "\n",
    "# ou\n",
    "\n",
    "deputados = {nome for nome, _, _, valor in dados if valor > 10_000}\n",
    "print(deputados)\n",
    "print()\n",
    "\n",
    "\n",
    "\n",
    "\n",
    "# Se for para encontrar apenas os deputados que tiveram um reembolso TOTAL maior que 10 mil então:\n",
    "\n",
    "totais = dict()\n",
    "for nome, _, _, valor in dados:\n",
    "    if nome in totais:\n",
    "        totais[nome] += valor\n",
    "    else:\n",
    "        totais[nome] = valor\n",
    "deputados = [deputado for deputado, total in totais.items() if total > 10_000]\n",
    "# OBS note que aqui não é necessário usar um set para encontrar os deputados com valor total maior que 10k\n",
    "# porque um dicionário já garante que cada deputado aparece uma única vez\n",
    "print('Considerando total:\\n', deputados)\n"
   ]
  }
 ],
 "metadata": {
  "kernelspec": {
   "display_name": "Python 3",
   "language": "python",
   "name": "python3"
  },
  "language_info": {
   "codemirror_mode": {
    "name": "ipython",
    "version": 3
   },
   "file_extension": ".py",
   "mimetype": "text/x-python",
   "name": "python",
   "nbconvert_exporter": "python",
   "pygments_lexer": "ipython3",
   "version": "3.7.4"
  }
 },
 "nbformat": 4,
 "nbformat_minor": 2
}

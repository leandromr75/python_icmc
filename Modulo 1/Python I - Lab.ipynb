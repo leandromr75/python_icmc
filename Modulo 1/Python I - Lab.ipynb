{
 "cells": [
  {
   "cell_type": "markdown",
   "metadata": {},
   "source": [
    "# <span style=\"color:blue\">Programação Python para Ciência de Dados</span>\n",
    "\n",
    "## <span style=\"color:blue\">Exercícios Python I</span>"
   ]
  },
  {
   "cell_type": "markdown",
   "metadata": {},
   "source": [
    "#### 1) Declare uma variável *preco_dolar* e outra *preco_celular* com os valores 3.98 e 849, respectivamente. Realize a conversão do preço desse celular para real e imprima o resultado"
   ]
  },
  {
   "cell_type": "code",
   "execution_count": null,
   "metadata": {},
   "outputs": [],
   "source": []
  },
  {
   "cell_type": "markdown",
   "metadata": {},
   "source": [
    "#### 2) Supondo produtos que custam 35.90, 23.40 e 12.49 calcule a média de preço entre eles utilizando os operadores do Python"
   ]
  },
  {
   "cell_type": "code",
   "execution_count": null,
   "metadata": {},
   "outputs": [],
   "source": []
  },
  {
   "cell_type": "markdown",
   "metadata": {},
   "source": [
    "#### 3) Imprima os primeiros quatro elementos da lista a seguir"
   ]
  },
  {
   "cell_type": "code",
   "execution_count": null,
   "metadata": {},
   "outputs": [],
   "source": [
    "minha_lista = ['python', 'java', 'c++', 'javascript', 'c#', 'go', 'r']\n",
    "\n",
    "# Insira seu código a partir daqui"
   ]
  },
  {
   "cell_type": "markdown",
   "metadata": {},
   "source": [
    "#### 4) Dada a seguinte lista com valores calcule e imprima a soma total"
   ]
  },
  {
   "cell_type": "code",
   "execution_count": null,
   "metadata": {},
   "outputs": [],
   "source": [
    "lista_valores = [4, 6, 2, 34, 76, 123, 1, 9, 5, 76, 32]\n",
    "\n",
    "# Insira seu código a partir daqui"
   ]
  },
  {
   "cell_type": "markdown",
   "metadata": {},
   "source": [
    "#### 5) Dada lista de nomes a seguir:"
   ]
  },
  {
   "cell_type": "code",
   "execution_count": null,
   "metadata": {},
   "outputs": [],
   "source": [
    "meus_nomes = ['Matheus', 'Gabriel', 'Gustavo', 'Hugo', 'Ricardo', 'Rui', 'Guilherme', 'Luiz']"
   ]
  },
  {
   "cell_type": "markdown",
   "metadata": {},
   "source": [
    "##### a) Imprima apenas nomes que começam com a letra G"
   ]
  },
  {
   "cell_type": "code",
   "execution_count": null,
   "metadata": {},
   "outputs": [],
   "source": []
  },
  {
   "cell_type": "markdown",
   "metadata": {},
   "source": [
    "##### b) Imprima apenas nomes que começam com seis ou menos letras"
   ]
  },
  {
   "cell_type": "code",
   "execution_count": null,
   "metadata": {},
   "outputs": [],
   "source": []
  },
  {
   "cell_type": "markdown",
   "metadata": {},
   "source": [
    "#### 6) Dada a lista de números a seguir, crie uma lista apenas com os números multiplos de 3"
   ]
  },
  {
   "cell_type": "code",
   "execution_count": null,
   "metadata": {},
   "outputs": [],
   "source": [
    "meus_numeros = [1, 56, 342, 12, 781, 23, 43, 45, 123, 567]\n",
    "\n",
    "# Insira seu código a partir daqui"
   ]
  },
  {
   "cell_type": "markdown",
   "metadata": {},
   "source": [
    "#### 7) Considerando uma lista onde cada elemento é uma lista que representa notas dadas a um produto, calcule a média de notas de cada produto, salvando o resultado em uma nova lista"
   ]
  },
  {
   "cell_type": "code",
   "execution_count": null,
   "metadata": {},
   "outputs": [],
   "source": [
    "minhas_notas = [[2.3, 4.5, 1.2], # Notas do produto 1\n",
    "                [5.4, 3.6, 7.9, 6.2], # Notas do produto 2\n",
    "                [8.1, 8.9, 6.5, 7.9, 9.4], # ...\n",
    "                [9.8, 7.6],\n",
    "                [3.2, 4.5, 1.6, 4.8]]\n",
    "\n",
    "# Insira seu código a partir daqui"
   ]
  },
  {
   "cell_type": "markdown",
   "metadata": {},
   "source": [
    "#### 8) Dado o dicionário abaixo, o qual contém preços de imóveis em uma cidade, escreva códigos para encontrar:"
   ]
  },
  {
   "cell_type": "code",
   "execution_count": null,
   "metadata": {},
   "outputs": [],
   "source": [
    "preco_imoveis = {'Apartamento centro': 1250000,\n",
    "               'Apartamento suburbio': 500000,\n",
    "               'Casa cinco quartos': 750000,\n",
    "               'Casa com garagem': 300000,\n",
    "               'Casa com piscina': 1200000,\n",
    "               'Sitio pequeno': 3000000,\n",
    "               'Sitio com lago': 5500000}"
   ]
  },
  {
   "cell_type": "markdown",
   "metadata": {},
   "source": [
    "##### a) Qual é o preço total?"
   ]
  },
  {
   "cell_type": "code",
   "execution_count": null,
   "metadata": {},
   "outputs": [],
   "source": []
  },
  {
   "cell_type": "markdown",
   "metadata": {},
   "source": [
    "##### b) Quem possui o maior preço?"
   ]
  },
  {
   "cell_type": "code",
   "execution_count": null,
   "metadata": {},
   "outputs": [],
   "source": []
  },
  {
   "cell_type": "markdown",
   "metadata": {},
   "source": [
    "#### 9) Escreva código para contar o número de ocorrencias de cada letra na string fornecida"
   ]
  },
  {
   "cell_type": "code",
   "execution_count": null,
   "metadata": {},
   "outputs": [],
   "source": [
    "minha_string = \"scientia vinces\"\n",
    "\n",
    "# Insira seu código a partir daqui"
   ]
  },
  {
   "cell_type": "markdown",
   "metadata": {},
   "source": [
    "#### 10) Escreva código que seleciona aleatóriamente um nome da lista de nomes fornecida"
   ]
  },
  {
   "cell_type": "code",
   "execution_count": null,
   "metadata": {},
   "outputs": [],
   "source": [
    "meus_nomes = ['Waldir Peres', 'Luizinho', 'Oscar', \n",
    "              'Junior', 'Leandro', 'Cerezo', \n",
    "              'Falcão', 'Éder', 'Zico', 'Sócrates', 'Serginho']\n",
    "\n",
    "# Insira seu código a partir daqui"
   ]
  }
 ],
 "metadata": {
  "kernelspec": {
   "display_name": "Python 3",
   "language": "python",
   "name": "python3"
  },
  "language_info": {
   "codemirror_mode": {
    "name": "ipython",
    "version": 3
   },
   "file_extension": ".py",
   "mimetype": "text/x-python",
   "name": "python",
   "nbconvert_exporter": "python",
   "pygments_lexer": "ipython3",
   "version": "3.7.1"
  },
  "toc": {
   "base_numbering": 1,
   "nav_menu": {},
   "number_sections": true,
   "sideBar": true,
   "skip_h1_title": false,
   "title_cell": "Table of Contents",
   "title_sidebar": "Contents",
   "toc_cell": false,
   "toc_position": {},
   "toc_section_display": true,
   "toc_window_display": false
  }
 },
 "nbformat": 4,
 "nbformat_minor": 2
}

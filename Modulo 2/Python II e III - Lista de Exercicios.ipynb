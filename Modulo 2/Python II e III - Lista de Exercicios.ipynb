{
 "cells": [
  {
   "cell_type": "markdown",
   "metadata": {},
   "source": [
    "# Programação Python para Ciência de Dados\n",
    "\n",
    "## Homework Python II e III"
   ]
  },
  {
   "cell_type": "markdown",
   "metadata": {},
   "source": [
    "#### 1) Considere a matriz (lista de listas) abaixo:"
   ]
  },
  {
   "cell_type": "code",
   "execution_count": null,
   "metadata": {},
   "outputs": [],
   "source": [
    "mat = [\n",
    "    ['supervisor', 'producao', 'Carlos'],\n",
    "    ['assistente', 'producao', 'Lucas'],\n",
    "    ['iniciante', 'pesquisador', 'Jeremias'],\n",
    "    ['supervisor', 'manufatura', 'Alberto'],\n",
    "    ['gerente', 'manufatura', 'Ricardo'],\n",
    "    ['engenheiro', 'manufatura', 'Fernando'],\n",
    "]"
   ]
  },
  {
   "cell_type": "markdown",
   "metadata": {},
   "source": [
    "##### a) Utilize list comprehension para gerar uma lista que contenha o nome dos funcionários que não são pesquisadores. Se o funcionário for gerente, inclua '_g' no final de seu nome.\n",
    "\n",
    "_Dica: lembre que é possível iterar vários elementos de uma vez usando um_ `for` _. Exemplo:_\n",
    "\n",
    "```python\n",
    "var = [\n",
    "    [1, 0],\n",
    "    [0, 2],\n",
    "    [0, 0]\n",
    "]\n",
    "for a, b in var:\n",
    "    print(b, a)\n",
    "```\n",
    "    output:\n",
    "    0 1\n",
    "    2 0\n",
    "    0 0"
   ]
  },
  {
   "cell_type": "code",
   "execution_count": null,
   "metadata": {},
   "outputs": [],
   "source": []
  },
  {
   "cell_type": "markdown",
   "metadata": {},
   "source": [
    "##### b) Refaça o exercício anterior, porém utilizando os comando `map` e `filter` em vez de  list comprehension"
   ]
  },
  {
   "cell_type": "code",
   "execution_count": null,
   "metadata": {},
   "outputs": [],
   "source": []
  },
  {
   "cell_type": "markdown",
   "metadata": {},
   "source": [
    "##### c) Crie um dicionário da forma `nome:(cargo, area)`. Utilize comprehension para isso."
   ]
  },
  {
   "cell_type": "code",
   "execution_count": null,
   "metadata": {},
   "outputs": [],
   "source": []
  },
  {
   "cell_type": "markdown",
   "metadata": {},
   "source": [
    "#### d) Construa uma versão modificada da matriz `mat` de maneira que o nome apareça antes de cargo e área de atuação em cada entrada.\n"
   ]
  },
  {
   "cell_type": "code",
   "execution_count": null,
   "metadata": {},
   "outputs": [],
   "source": []
  },
  {
   "cell_type": "markdown",
   "metadata": {},
   "source": [
    "#### 2) Utilize list comprehension para gerar a seguinte matriz\n",
    "\n",
    "```python\n",
    "[[1, 0, 0, 0],\n",
    " [0, 2, 0, 0],\n",
    " [0, 0, 3, 0],\n",
    " [0, 0, 0, 4]]\n",
    "\n",
    "```"
   ]
  },
  {
   "cell_type": "code",
   "execution_count": null,
   "metadata": {},
   "outputs": [],
   "source": []
  },
  {
   "cell_type": "markdown",
   "metadata": {},
   "source": [
    "#### 3) Utilize list comprehension para gerar a seguinte estrutura\n",
    "\n",
    "```python\n",
    "[[1],\n",
    " [1, 2],\n",
    " [1, 2, 3],\n",
    " [1, 2, 3, 4]]\n",
    "\n",
    "```"
   ]
  },
  {
   "cell_type": "code",
   "execution_count": null,
   "metadata": {},
   "outputs": [],
   "source": []
  },
  {
   "cell_type": "markdown",
   "metadata": {},
   "source": [
    "#### 4) Construa uma função que gera um dicionário onde as chaves são todas as variações de uma palavra com um caracter removido, e o valor é a palavra original. Por exemplo:\n",
    "\n",
    "- casa<br>\n",
    "dicionario gerado:<br>\n",
    "asa: casa<br>\n",
    "csa: casa<br>\n",
    "caa: casa<br>\n",
    "cas: casa<br>"
   ]
  },
  {
   "cell_type": "code",
   "execution_count": null,
   "metadata": {},
   "outputs": [],
   "source": []
  },
  {
   "cell_type": "markdown",
   "metadata": {},
   "source": [
    "#### 5) Construa uma função que recebe dois dicionários como parâmetros e concatena ambos em um único dicionário contendo as chaves e valores dos dois  dicionários enviados como parâmetros."
   ]
  },
  {
   "cell_type": "code",
   "execution_count": null,
   "metadata": {},
   "outputs": [],
   "source": []
  },
  {
   "cell_type": "markdown",
   "metadata": {},
   "source": [
    "#### 6)** Construa uma classe chamada `Corretor` com as seguintes especificações:\n",
    "- o construtor da classe carrega o arquivo de palavras _corpus.txt_ (contém uma palavra por linha) e gera um dicionário como descrito no exercício 4). Para isso, a classe deve possuir métodos combinando as funções desenvolvidas no exercíos 4) e 5), gerando um único dicionário para todas as palavras lidas do arquivo. \n",
    "- a classe deve possuir um método chamado `sugere`, onde, dada uma palavra presente no arquivo _corpus.txt_, verifica a ortografia da mesma. Caso a palavra não esteja correta (um caracter faltante), o método deve apontar a ortografia correta.\n",
    "\n",
    "#### Crie um arquivo chamado YYY.py contendo a classe gerada."
   ]
  },
  {
   "cell_type": "code",
   "execution_count": null,
   "metadata": {},
   "outputs": [],
   "source": []
  },
  {
   "cell_type": "markdown",
   "metadata": {},
   "source": [
    "#### 7) O código abaixo deve resultar em uma lista onde todas as entradas são \"True\"."
   ]
  },
  {
   "cell_type": "code",
   "execution_count": null,
   "metadata": {},
   "outputs": [],
   "source": [
    "import YYY as Y\n",
    "\n",
    "results = []\n",
    "x = Y.Corretor('corpus.dict')\n",
    "results.append(x.sugere('paavra') == 'palavra')\n",
    "results.append(x.sugere('cienci') == 'ciencia')\n",
    "results.append(x.sugere('daos') == 'dados')\n",
    "results.append(x.sugere('aditorio') == 'auditorio')\n",
    "results.append(x.sugere('estdo') == 'estudo')\n",
    "results.append(x.sugere('concntracao') == 'concentracao')\n",
    "\n",
    "print(results)"
   ]
  },
  {
   "cell_type": "markdown",
   "metadata": {},
   "source": [
    "__Extra:__\n",
    "\n",
    "O algoritmo acima só permite encontrar a sugestão de palavra correta quando apenas um caracter tenha sido removido. A versão completa desse algoritmo chama-se __SymSpell__ e permite encontrar sugestões mesmo quando uma letra trocou de posição com outra. \n",
    "\n",
    "Para mais detalhes veja:\n",
    "\n",
    "- https://medium.com/@wolfgarbe/1000x-faster-spelling-correction-algorithm-2012-8701fcd87a5f\n",
    "\n",
    "- https://github.com/wolfgarbe/SymSpell"
   ]
  },
  {
   "cell_type": "markdown",
   "metadata": {},
   "source": [
    "__** faça upload de um notebook com a solução da questão 6 no google drive no diretório:__ <br><br>\n",
    "[http://tiny.cc/jadkdz](http://tiny.cc/jadkdz)\n",
    "\n",
    "O nome do notebook deve ser: <br><br>\n",
    "_seuprimeironome-seuultimonome-modulo2.ipynb_\n",
    "\n",
    "Por exemplo: _gustavo-nonato-modulo2.ipynb_"
   ]
  }
 ],
 "metadata": {
  "kernelspec": {
   "display_name": "Python 3",
   "language": "python",
   "name": "python3"
  },
  "language_info": {
   "codemirror_mode": {
    "name": "ipython",
    "version": 3
   },
   "file_extension": ".py",
   "mimetype": "text/x-python",
   "name": "python",
   "nbconvert_exporter": "python",
   "pygments_lexer": "ipython3",
   "version": "3.7.4"
  }
 },
 "nbformat": 4,
 "nbformat_minor": 2
}

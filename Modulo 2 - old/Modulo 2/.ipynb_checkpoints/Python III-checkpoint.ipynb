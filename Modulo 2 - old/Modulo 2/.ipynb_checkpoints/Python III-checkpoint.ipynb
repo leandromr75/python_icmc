{
 "cells": [
  {
   "cell_type": "markdown",
   "metadata": {},
   "source": [
    "# <span style=\"color:blue\">Programação Python para Ciência de Dados</span>\n",
    "## <span style=\"color:blue\">Módulo 2: Python III</span>\n",
    "---"
   ]
  },
  {
   "cell_type": "markdown",
   "metadata": {},
   "source": [
    "__Conteúdos:__\n",
    "- Progamação Orientada a Objeto\n",
    "- Classes e Objetos\n",
    "- Exceções\n",
    "- Módulos e Pacotes\n",
    "\n",
    "__Referências:__\n",
    "- Mark Lutz, Learning Python, O'Reilly, 2013\n",
    "- Eric Matthes, Python Crash Course: A Hands-On, Project-Based Introduction to Programming, No Starch Press, 2015"
   ]
  },
  {
   "cell_type": "markdown",
   "metadata": {},
   "source": [
    "---\n",
    "## Programação Orientada a Objeto\n",
    "Três conceitos principais:\n",
    "- Objetos\n",
    "- Classes\n",
    "- Herança"
   ]
  },
  {
   "cell_type": "markdown",
   "metadata": {},
   "source": [
    "### Objetos\n",
    "Um objeto agrega dois conceitos:\n",
    "- Estado\n",
    "- Comportamento\n",
    "\n",
    "\n",
    "_Estado_ diz respeio às informações salvas nos _atributos_ do objeto\n",
    "<br><br>\n",
    "_Comportamento_ é manifestado através de funções (_métodos_) associadas ao objeto\n",
    "\n",
    "Várias linguagens de programação escondem estados internos e os fazem acessíveis apenas através de métodos<br>\n",
    "\n",
    "Python não faz isso. Tudo é exposto!!"
   ]
  },
  {
   "cell_type": "markdown",
   "metadata": {},
   "source": [
    "### Classes\n",
    "Uma classe é um protótipo para criar um objeto. Quando um objeto é criado a partir de um protótipo, diz-se que ele foi instaciado.\n",
    "\n",
    "Em termos de programação, uma classe especifica os atributos e métodos do objeto, que pode se manifestar em várias instâncias.\n",
    "\n",
    "__OBS__: Apesar de que _objetos_ e _instâncias_ não são a mesma coisa, nós usaremos as duas palavras como sinônimas. "
   ]
  },
  {
   "cell_type": "markdown",
   "metadata": {},
   "source": [
    "### Herança\n",
    "Classes são capazes de herdar estados e comportamentos de outras classes.<br>\n",
    "Uma classe que herda de outra classe é chamada subclasse. <br>\n",
    "Uma classe que é herdada por outra é chamada de superclasse ou classe base.\n"
   ]
  },
  {
   "cell_type": "markdown",
   "metadata": {},
   "source": [
    "---\n",
    "## Classes em Python\n",
    "__Sintaxe__\n",
    "```python\n",
    "class name_of_the_class(superclass,...)\n",
    "      attribute1 = value1\n",
    "      attribute2 = value2\n",
    "      :\n",
    "      :\n",
    "      def __init__(self,...):  # construtor da classe\n",
    "         … default code …\n",
    "            \n",
    "      def method1(self,...):\n",
    "         self.attribute1 = value\n",
    "```    \n",
    "Um _atributo de classe_ é uma variável que é acessível por qualquer instância da classe.<br>\n",
    "Um _atributo de uma instância_ só é acessível pela intância que o criou (como uma variável local)."
   ]
  },
  {
   "cell_type": "code",
   "execution_count": 18,
   "metadata": {},
   "outputs": [],
   "source": [
    "class bicycle():\n",
    "    def __init__(self,bike_type = None,n_gears = 1,handlebar = 'Drop'):\n",
    "        print(\"...building the object...\")\n",
    "        self.bicycle_type = bike_type\n",
    "        self.number_of_gears = n_gears\n",
    "        self.handlebar_type = handlebar\n",
    "        self.handle_options = ['Drop','Cruiser','Flat','Bullhorn']\n",
    "    \n",
    "    def get_handlebar_options(self,k=4):\n",
    "        print(self.handle_options[:k])\n",
    "        \n",
    "    def __repr__(self):\n",
    "        return('Type: '+str(self.bicycle_type)+'\\n'\n",
    "               'Gears: '+str(self.number_of_gears)+'\\n'\n",
    "               'Handle: '+str(self.handlebar_type))"
   ]
  },
  {
   "cell_type": "code",
   "execution_count": 19,
   "metadata": {},
   "outputs": [
    {
     "name": "stdout",
     "output_type": "stream",
     "text": [
      "...building the object...\n",
      "['Drop', 'Cruiser', 'Flat', 'Bullhorn']\n",
      "['Drop', 'Cruiser']\n",
      "...building the object...\n",
      "Type: Speed\n",
      "Gears: 1\n",
      "Handle: Bullhorn\n"
     ]
    }
   ],
   "source": [
    "my_bike = bicycle() # objeto da classe bicycle é instanciado\n",
    "\n",
    "my_bike.bicycle_type = 'Cruise' # acessando variável da instância\n",
    "my_bike.number_of_gears = 3     \n",
    "\n",
    "my_bike.get_handlebar_options() # acessando método da instância\n",
    "my_bike.get_handlebar_options(2)\n",
    "\n",
    "thy_bike = bicycle(bike_type='Speed',handlebar='Bullhorn') # instanciando com parâmetros\n",
    "\n",
    "print(thy_bike)"
   ]
  },
  {
   "cell_type": "code",
   "execution_count": 20,
   "metadata": {},
   "outputs": [],
   "source": [
    "class mountain_bike(bicycle): # herda bicycle como superclasse\n",
    "    def __init__(self):\n",
    "        bicycle.__init__(self,bike_type='Mountain',n_gears = 10,handlebar='Bullhorn')\n",
    "        self.set_handlebar_options()\n",
    "        \n",
    "    def set_handlebar_options(self): \n",
    "        self.handle_options.remove('Cruiser')"
   ]
  },
  {
   "cell_type": "code",
   "execution_count": 21,
   "metadata": {},
   "outputs": [
    {
     "name": "stdout",
     "output_type": "stream",
     "text": [
      "...building the object...\n",
      "['Drop', 'Flat', 'Bullhorn']\n",
      "Type: Mountain\n",
      "Gears: 10\n",
      "Handle: Bullhorn\n"
     ]
    }
   ],
   "source": [
    "my_mountain_bike = mountain_bike()\n",
    "my_mountain_bike.get_handlebar_options()\n",
    "\n",
    "print(my_mountain_bike)"
   ]
  },
  {
   "cell_type": "markdown",
   "metadata": {},
   "source": [
    "### Sobrecarga de operador (Operator Overloading)\n",
    "Classes podem interceptar operadores especiais em Python. Métodos com nomes entre duplo underscore são casos especiais.\n",
    "\n",
    "Classes podem sobrepor a maioria das operações padrão de tipos\n",
    "- \\__init\\__ construtor de objeto object constructor\n",
    "- \\__repr\\__ chamado quanto objeto é escrito ou covertido em string (ex: print(instancia))\n",
    "- \\__add\\__ para o operador de soma +\n",
    "- \\__lt\\__, \\__gt\\__, para comparações X < Y, X > Y\n",
    "- e outras..."
   ]
  },
  {
   "cell_type": "code",
   "execution_count": 5,
   "metadata": {},
   "outputs": [],
   "source": [
    "class bicycle():\n",
    "    def __init__(self,bike_type = None,n_gears = 1,handlebar = 'Drop'):\n",
    "        print(\"...building the object...\")\n",
    "        self.bicycle_type = bike_type\n",
    "        self.number_of_gears = n_gears\n",
    "        self.handlebar_type = handlebar\n",
    "        self.handle_options = ['Drop','Cruiser','Flat','Bullhorn']\n",
    "    \n",
    "    def __repr__(self):      # including a default print in the superclass\n",
    "        return('Type: '+self.bicycle_type+'\\n'+\n",
    "               'Gears: '+str(self.number_of_gears)+'\\n'+\n",
    "               'Handlebar: '+self.handlebar_type)\n",
    "    \n",
    "    def get_handlebar_options(self,k=4):\n",
    "        print(self.handle_options[:k])"
   ]
  },
  {
   "cell_type": "code",
   "execution_count": 6,
   "metadata": {},
   "outputs": [],
   "source": [
    "class mountain_bike(bicycle): # inherit bicycle as superclass\n",
    "    def __init__(self,suspension = None):\n",
    "        bicycle.__init__(self,bike_type='Mountain',n_gears = 10,handlebar='Bullhorn')\n",
    "        self.set_handlebar_options()\n",
    "        self.suspension_type = suspension\n",
    "        \n",
    "    def set_handlebar_options(self): \n",
    "        self.handle_options.remove('Cruiser')"
   ]
  },
  {
   "cell_type": "code",
   "execution_count": 7,
   "metadata": {},
   "outputs": [
    {
     "name": "stdout",
     "output_type": "stream",
     "text": [
      "...building the object...\n",
      "Type: Mountain\n",
      "Gears: 10\n",
      "Handlebar: Bullhorn\n"
     ]
    }
   ],
   "source": [
    "my_mountain_bike = mountain_bike(suspension = 'downhill')\n",
    "print(my_mountain_bike)"
   ]
  },
  {
   "cell_type": "markdown",
   "metadata": {},
   "source": [
    "Note que a função **\\_\\_repr\\_\\_** na superclasse não inclui informações sobre o atributo suspension, portanto precisamos estender (em vez de substituir) a função **\\_\\_repr\\_\\_**. "
   ]
  },
  {
   "cell_type": "code",
   "execution_count": 22,
   "metadata": {},
   "outputs": [],
   "source": [
    "class mountain_bike(bicycle): # inherit bicycle as superclass\n",
    "    def __init__(self,suspension = None):\n",
    "        bicycle.__init__(self,bike_type='Mountain',n_gears = 10,handlebar='Bullhorn')\n",
    "        self.set_handlebar_options()\n",
    "        self.suspension_type = suspension\n",
    "        \n",
    "    def __repr__(self):\n",
    "        return(bicycle.__repr__(self)+'\\n'\n",
    "               +'Suspension: '+self.suspension_type)\n",
    "        \n",
    "    def set_handlebar_options(self): \n",
    "        self.handle_options.remove('Cruiser')"
   ]
  },
  {
   "cell_type": "code",
   "execution_count": 23,
   "metadata": {},
   "outputs": [
    {
     "name": "stdout",
     "output_type": "stream",
     "text": [
      "...building the object...\n",
      "Type: Mountain\n",
      "Gears: 10\n",
      "Handle: Bullhorn\n",
      "Suspension: downhill\n"
     ]
    }
   ],
   "source": [
    "my_mountain_bike = mountain_bike(suspension = 'downhill')\n",
    "print(my_mountain_bike)"
   ]
  },
  {
   "cell_type": "markdown",
   "metadata": {},
   "source": [
    "### Atributos públicos e privados\n",
    "Embora todos os atributos e métodos em Python são expostos, há uma convenção de que tudo precedido por dois underscores é privado.\n",
    "- \\_\\_uma_funcao\t \t\n",
    "- \\_\\_minha_variavel\n",
    "        \n",
    "Internamente, eles são subtituidos por um nome que inclui o nome da classe\n",
    "- \\_nomedaclasse\\_\\_uma_funcao\t \t\n",
    "- \\_nomedaclasse\\_\\_minha_variavel\n",
    "\n",
    "\n",
    "Tudo precedido com um underscore é semi-privado, e você deveria se sentir culpado por acessar esse dado diretamente\n",
    "- \\_b"
   ]
  },
  {
   "cell_type": "code",
   "execution_count": 24,
   "metadata": {},
   "outputs": [],
   "source": [
    "class bicycle_private():\n",
    "    def __init__(self,bike_type = None,n_gears = 1,handlebar = 'Drop'):\n",
    "        print(\"...building the object...\")\n",
    "        self.bicycle_type = bike_type\n",
    "        self.number_of_gears = n_gears\n",
    "        self.handlebar_type = handlebar\n",
    "        self.handle_options = ['Drop','Cruiser','Flat','Bullhorn']\n",
    "        self.__this_is_private = None   # variável privada que onde o nome da classe é adicionada\n",
    "                                        # _bicycle_private__this_is_private\n",
    "            \n",
    "    def get_private(self):\n",
    "        print(self.__this_is_private)"
   ]
  },
  {
   "cell_type": "code",
   "execution_count": 28,
   "metadata": {},
   "outputs": [
    {
     "name": "stdout",
     "output_type": "stream",
     "text": [
      "...building the object...\n",
      "0\n",
      "0\n"
     ]
    }
   ],
   "source": [
    "thy_bicycle_private = bicycle_private()\n",
    "thy_bicycle_private._bicycle_private__this_is_private = 0\n",
    "thy_bicycle_private.get_private()\n",
    "print(thy_bicycle_private._bicycle_private__this_is_private)"
   ]
  },
  {
   "cell_type": "code",
   "execution_count": 12,
   "metadata": {},
   "outputs": [
    {
     "name": "stdout",
     "output_type": "stream",
     "text": [
      "...building the object...\n",
      "None\n",
      "0\n"
     ]
    }
   ],
   "source": [
    "thy_bicycle_private1 = bicycle_private()\n",
    "thy_bicycle_private1.__this_is_private = 0\n",
    "thy_bicycle_private1.get_private()\n",
    "print(thy_bicycle_private1.__this_is_private)"
   ]
  },
  {
   "cell_type": "code",
   "execution_count": 13,
   "metadata": {},
   "outputs": [
    {
     "name": "stdout",
     "output_type": "stream",
     "text": [
      "new\n"
     ]
    }
   ],
   "source": [
    "thy_bicycle_private1.a = 'new'\n",
    "print(thy_bicycle_private1.a)"
   ]
  },
  {
   "cell_type": "markdown",
   "metadata": {},
   "source": [
    "---\n",
    "## Módulos e Pacotes\n",
    "Um _módulo_ (module) é um arquivo único que pode ser importado com o comando _import_. Essencialmente qualquer arquivo em Python é um módulo.\n",
    "```python\n",
    "import my_module\n",
    "```\n",
    "Um pacote é um módulo que contem vários módulos, podendo incluir outros subpacotes.\n",
    "\n",
    "```python\n",
    "import numpy.random\n",
    "import numpy.linalg\n",
    "```"
   ]
  },
  {
   "cell_type": "markdown",
   "metadata": {},
   "source": [
    "### Escopo de Atributos e Métodos em Módulos\n",
    "- Atributos e métodos de um módulo são acessado usando a sintaxe `modulo.atributo` e `modulo.metodo`\n",
    "- O conteúdo de módulos podem ser acessado pelo atributo \\__dict\\__ de um módulo ou usando `dir(modulo)`\n"
   ]
  },
  {
   "cell_type": "code",
   "execution_count": null,
   "metadata": {},
   "outputs": [],
   "source": [
    "import sys\n",
    "sys.__dict__"
   ]
  },
  {
   "cell_type": "markdown",
   "metadata": {},
   "source": [
    "Módulos podem importar outros módulos que também podem importar outros módulos\n",
    "$$\n",
    "\\fbox{a.py}\\xrightarrow{\\text{importa}}\\fbox{b.py}\\xrightarrow{\\text{importa}}\\fbox{c.py}\n",
    "$$\n",
    "Atributos de _c.py_ pode ser acessado pelo módulo _b.py_ usando a notação de atributo `b.c.atributo` no arquivo _a.py_"
   ]
  },
  {
   "cell_type": "markdown",
   "metadata": {},
   "source": [
    "### Caminho de Busca de um Módulo\n",
    "Quando importa um módulo, Python usa um caminho de busca para determinar a localização do módulo\n",
    "\n",
    "O caminho de busca compreende:\n",
    "- Diretório de trabalho (local do arquivo no top-level ou diretório atual de trabalho)\n",
    "- Diretórios do PYTHONPATH\n",
    "- Diretórios padrão de bibliotecas\n",
    "- Os conteúdos de qualquer arquivo .pth\n",
    "- O diretório site-packages\n",
    "\n",
    "O caminho de busca se encontra disponível em sys.path"
   ]
  },
  {
   "cell_type": "code",
   "execution_count": 15,
   "metadata": {},
   "outputs": [
    {
     "data": {
      "text/plain": [
       "['/mnt/Dados/Documentos/curso-nonato',\n",
       " '/home/dreadnought/anaconda3/envs/py37/lib/python37.zip',\n",
       " '/home/dreadnought/anaconda3/envs/py37/lib/python3.7',\n",
       " '/home/dreadnought/anaconda3/envs/py37/lib/python3.7/lib-dynload',\n",
       " '',\n",
       " '/home/dreadnought/anaconda3/envs/py37/lib/python3.7/site-packages',\n",
       " '/home/dreadnought/anaconda3/envs/py37/lib/python3.7/site-packages/IPython/extensions',\n",
       " '/home/dreadnought/.ipython']"
      ]
     },
     "execution_count": 15,
     "metadata": {},
     "output_type": "execute_result"
    }
   ],
   "source": [
    "import sys\n",
    "sys.path"
   ]
  },
  {
   "cell_type": "markdown",
   "metadata": {},
   "source": [
    "### Special Module Variables\n",
    "- \\_var:\n",
    "Variáveis começando com underscore não serão importandas quando usado from *\n",
    "- \\__all\\__:\n",
    "Nome de variáveis nessa lista serão importandos quando usado from *\n",
    "- \\__name\\__:\n",
    "Atribuído como nome do módulo ou “&lowbar;&lowbar;main&lowbar;&lowbar;” se o módulo for o top-level\n",
    "```python\n",
    "if __name__ == ‘__main__’:\n",
    "# só é executado quando esse arquivo é chamado, nunca quando importado\n",
    "```"
   ]
  },
  {
   "cell_type": "code",
   "execution_count": 34,
   "metadata": {},
   "outputs": [
    {
     "name": "stdout",
     "output_type": "stream",
     "text": [
      "Overwriting mymodule.py\n"
     ]
    }
   ],
   "source": [
    "%%writefile mymodule.py\n",
    "\n",
    "# variáveis a serem importadas\n",
    "\n",
    "__all__ = ['variable1','variable2']\n",
    "\n",
    "_variable0 = '_variable0: not imported'\n",
    "\n",
    "variable1 = 'variable1: imported'\n",
    "variable2 = 'variable2: imported'\n",
    "\n",
    "variable3 = 'variable3: not imported'\n",
    "\n",
    "if __name__ == '__main__':\n",
    "    print('Module configuration')\n",
    "    print(_variable0,variable1,variable2,variable2,)"
   ]
  },
  {
   "cell_type": "code",
   "execution_count": 32,
   "metadata": {},
   "outputs": [
    {
     "name": "stdout",
     "output_type": "stream",
     "text": [
      "variable1: imported\n",
      "variable2: imported\n"
     ]
    },
    {
     "ename": "NameError",
     "evalue": "name 'variable3' is not defined",
     "output_type": "error",
     "traceback": [
      "\u001b[0;31m---------------------------------------------------------------------------\u001b[0m",
      "\u001b[0;31mNameError\u001b[0m                                 Traceback (most recent call last)",
      "\u001b[0;32m<ipython-input-32-a4d4515173b5>\u001b[0m in \u001b[0;36m<module>\u001b[0;34m\u001b[0m\n\u001b[1;32m      3\u001b[0m \u001b[0mprint\u001b[0m\u001b[0;34m(\u001b[0m\u001b[0mvariable1\u001b[0m\u001b[0;34m)\u001b[0m\u001b[0;34m\u001b[0m\u001b[0;34m\u001b[0m\u001b[0m\n\u001b[1;32m      4\u001b[0m \u001b[0mprint\u001b[0m\u001b[0;34m(\u001b[0m\u001b[0mvariable2\u001b[0m\u001b[0;34m)\u001b[0m\u001b[0;34m\u001b[0m\u001b[0;34m\u001b[0m\u001b[0m\n\u001b[0;32m----> 5\u001b[0;31m \u001b[0mprint\u001b[0m\u001b[0;34m(\u001b[0m\u001b[0mvariable3\u001b[0m\u001b[0;34m)\u001b[0m\u001b[0;34m\u001b[0m\u001b[0;34m\u001b[0m\u001b[0m\n\u001b[0m",
      "\u001b[0;31mNameError\u001b[0m: name 'variable3' is not defined"
     ]
    }
   ],
   "source": [
    "from mymodule import *\n",
    "\n",
    "print(variable1)\n",
    "print(variable2)\n",
    "print(variable3)"
   ]
  },
  {
   "cell_type": "code",
   "execution_count": 35,
   "metadata": {},
   "outputs": [
    {
     "name": "stdout",
     "output_type": "stream",
     "text": [
      "Module configuration\r\n",
      "_variable0: not imported variable1: imported variable2: imported variable2: imported\r\n"
     ]
    }
   ],
   "source": [
    "!python3 mymodule.py"
   ]
  },
  {
   "cell_type": "code",
   "execution_count": 36,
   "metadata": {},
   "outputs": [
    {
     "name": "stdout",
     "output_type": "stream",
     "text": [
      "_variable0: not imported\n",
      "variable1: imported\n",
      "variable2: imported\n",
      "variable3: not imported\n"
     ]
    }
   ],
   "source": [
    "import mymodule\n",
    "\n",
    "print(mymodule._variable0)\n",
    "print(mymodule.variable1)\n",
    "print(mymodule.variable2)\n",
    "print(mymodule.variable3)"
   ]
  },
  {
   "cell_type": "markdown",
   "metadata": {},
   "source": [
    "---\n",
    "## Exceções\n",
    "Uma exceção é um evento que ocorre durante a execução de um programa e que desvia o curso normal das instruções do programa. <br>\n",
    "Quando um programa em Python encontra uma situação que não pode lidar, ele aciona uma exceção.\n",
    "\n",
    "- Uma exceção é um  __Objeto Python__ que representa um erro\n",
    "- O comportamento padrão para exceções é terminar a execução\n",
    "- Lidar com exceções é muito importante para criar um código robusto"
   ]
  },
  {
   "cell_type": "markdown",
   "metadata": {},
   "source": [
    "Código que pode levantar uma exceção são tipicamente declarados em um bloco<br> ``try-except-else``\n",
    "```python\n",
    "try:\n",
    "\t\tstatements\n",
    "except name1:\n",
    "\t\tstatements\n",
    "except (name2, name3):\n",
    "\t\tstatements\n",
    "except name4 as var:\n",
    "\t\tstatements\n",
    "except:\n",
    "\t\tstatements\n",
    "else:\n",
    "\t\tstatements\n",
    "finally:\n",
    "\t\tstatements\n",
    "```"
   ]
  },
  {
   "cell_type": "code",
   "execution_count": 37,
   "metadata": {},
   "outputs": [
    {
     "name": "stdout",
     "output_type": "stream",
     "text": [
      "got exception\n"
     ]
    }
   ],
   "source": [
    "def check_index(v,i):\n",
    "    return(v[i])\n",
    "\n",
    "x = [0,1,2,3]\n",
    "\n",
    "try: \n",
    "    check_index(x, 5) \n",
    "except IndexError: \n",
    "    print('got exception') "
   ]
  },
  {
   "cell_type": "markdown",
   "metadata": {},
   "source": [
    "- Uma simples declaração `try` pode ter várias declarações do tipo `except`\n",
    "  - Isso é útil quando o bloco `try` contém declarações que podem levantar diferentes tipos de exceções\n",
    "- Uma declaração `except` pode captar um única exceção ou uma lista de exceções\n",
    "- A exceção pode ser atribuída a uma variável\n",
    "- Você pode incluir uma exceção genérica que pode captar qualquer tipo de exceção\n",
    "- As declarações de exceção são testadas de cima para baixo\n"
   ]
  },
  {
   "cell_type": "markdown",
   "metadata": {},
   "source": [
    "__Atenção__:\n",
    "- Após as cláusulas `except`, você pode incluir uma cláusula` else` que é executada se o código no bloco `try` não gerar uma exceção\n",
    "- O bloco `else` é um bom lugar para código que não precisa da proteção do bloco `try`\n",
    "- O bloco `finally` é sempre executado, independentemente de uma exceção ocorrer ou não"
   ]
  },
  {
   "cell_type": "markdown",
   "metadata": {},
   "source": [
    "A instrução `raise` é usada para forçar uma exceção especificada a ocorrer"
   ]
  },
  {
   "cell_type": "code",
   "execution_count": 20,
   "metadata": {},
   "outputs": [
    {
     "ename": "NameError",
     "evalue": "My error",
     "output_type": "error",
     "traceback": [
      "\u001b[0;31m---------------------------------------------------------------------------\u001b[0m",
      "\u001b[0;31mNameError\u001b[0m                                 Traceback (most recent call last)",
      "\u001b[0;32m<ipython-input-20-b8324f73008d>\u001b[0m in \u001b[0;36m<module>\u001b[0;34m\u001b[0m\n\u001b[0;32m----> 1\u001b[0;31m \u001b[0;32mraise\u001b[0m \u001b[0mNameError\u001b[0m\u001b[0;34m(\u001b[0m\u001b[0;34m'My error'\u001b[0m\u001b[0;34m)\u001b[0m\u001b[0;34m\u001b[0m\u001b[0;34m\u001b[0m\u001b[0m\n\u001b[0m",
      "\u001b[0;31mNameError\u001b[0m: My error"
     ]
    }
   ],
   "source": [
    "raise NameError('My error')"
   ]
  },
  {
   "cell_type": "markdown",
   "metadata": {},
   "source": [
    "### Exceções padrão\n",
    "Python traz uma dúzia de classes de exceções diferentes, todas elas tendo a exceção `Exception` como superclasse.\n",
    "[Exception Class Hierarchy](https://airbrake.io/blog/python-exception-handling/class-hierarchy)"
   ]
  },
  {
   "cell_type": "code",
   "execution_count": 40,
   "metadata": {},
   "outputs": [
    {
     "name": "stdout",
     "output_type": "stream",
     "text": [
      "---division by zero!---\n",
      "executing finally clause\n"
     ]
    }
   ],
   "source": [
    "def dividing(x,y):\n",
    "    if y == 0.0:\n",
    "        raise ZeroDivisionError()\n",
    "    else:\n",
    "        return(x/y)\n",
    "\n",
    "a = 3\n",
    "b = 0\n",
    "    \n",
    "try:\n",
    "    result = dividing(a,b)\n",
    "except ZeroDivisionError:\n",
    "    print(\"---division by zero!---\")\n",
    "else:\n",
    "    print(\"result is\", result)\n",
    "finally:\n",
    "    print(\"executing finally clause\")"
   ]
  },
  {
   "cell_type": "markdown",
   "metadata": {},
   "source": [
    "### Exceções definidas pelo usuário\n",
    "Usuários podem definir suas próprias exceções usando a exceção `Exception` como superclasee."
   ]
  },
  {
   "cell_type": "code",
   "execution_count": 41,
   "metadata": {},
   "outputs": [
    {
     "name": "stdout",
     "output_type": "stream",
     "text": [
      "Not Equal\n"
     ]
    }
   ],
   "source": [
    "class MyException(Exception):\n",
    "    def __str__(self):\n",
    "        return('This is my exception!\\n')\n",
    "    \n",
    "def is_equal(a,b):\n",
    "    if a != b:\n",
    "        raise MyException()\n",
    "    else:\n",
    "        print('Equal')\n",
    "\n",
    "is_equal(2,3)\n",
    "        \n",
    "# try:\n",
    "#     is_equal(2,3)\n",
    "# except MyException:\n",
    "#     print('Not Equal')\n",
    "# else:\n",
    "#     pass"
   ]
  }
 ],
 "metadata": {
  "kernelspec": {
   "display_name": "Python 3",
   "language": "python",
   "name": "python3"
  },
  "language_info": {
   "codemirror_mode": {
    "name": "ipython",
    "version": 3
   },
   "file_extension": ".py",
   "mimetype": "text/x-python",
   "name": "python",
   "nbconvert_exporter": "python",
   "pygments_lexer": "ipython3",
   "version": "3.7.3"
  },
  "toc": {
   "base_numbering": 1,
   "nav_menu": {},
   "number_sections": true,
   "sideBar": true,
   "skip_h1_title": false,
   "title_cell": "Table of Contents",
   "title_sidebar": "Contents",
   "toc_cell": false,
   "toc_position": {},
   "toc_section_display": true,
   "toc_window_display": false
  }
 },
 "nbformat": 4,
 "nbformat_minor": 2
}

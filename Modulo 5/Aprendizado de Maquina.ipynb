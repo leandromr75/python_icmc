{
 "cells": [
  {
   "cell_type": "markdown",
   "metadata": {},
   "source": [
    "# <span style=\"color:blue\">Programação Python para Ciência de Dados</span>\n",
    "\n",
    "## <span style=\"color:blue\">Módulo 5.1: Scikit-learn</span>"
   ]
  },
  {
   "cell_type": "markdown",
   "metadata": {},
   "source": [
    "### Conteúdo da aula:\n",
    "- Introdução ao aprendizado de máquina\n",
    "- Aprendizado supervisionado\n",
    "    - Classificação\n",
    "    - Regressão\n",
    "- Aprendizado não-supervionado\n",
    "    - Clustering"
   ]
  },
  {
   "cell_type": "markdown",
   "metadata": {},
   "source": [
    "# Introdução ao aprendizado de máquina\n",
    "\n",
    "Aprendizado de máquina (*machine learning*, em inglês) é uma área da inteligência artificial que utiliza métodos computacionais e estatísticos para modelar o comportamento dos dados. Com isso é possível realizar tarefas como predição de interesse de compra, projeção de preços ou segmentação de clientes em grupos.\n",
    "\n",
    "Um paradigma essêncial dentro do aprendizado de máquina é distinção entre métodos supervisionado e não-supervisionado. Uma ilustração simples de tal paradigma (que será empregada nesta aula) é:\n",
    "\n",
    "<img src=\"supervision.jpg\" style=\"width: 800px\"/>"
   ]
  },
  {
   "cell_type": "markdown",
   "metadata": {},
   "source": [
    "# Aprendizado supervisionado\n",
    "\n",
    "Aprendizado supervisionado é aquele onde o objetivo principal é aprender um mapeamento entre um conjunto de atributos e uma resposta. Por exemplo:\n",
    "\n",
    "- Dada a altura, peso e capacidade respiratória de uma pessoa descobrir a chance dela ter um problema de saúde.\n",
    "- Dado o número de quartos de uma casa e seus tamanhos descobrir o preço da casa.\n",
    "- Dada uma imagem de uma tomografia descobrir se um tumor é benigno ou maligno.\n",
    "- Dadas as informações de uma loja predizer o número de clientes no dia seguinte\n",
    "\n",
    "O importante é perceber que em todos os casos temos uma \"resposta\" a ser dada a partir de um conjunto de informações (atributos), chamada de *target*.\n",
    "\n",
    "O processo de treinamento de um modelo consiste em apresentar diversos exemplos, cada um consistindo dos atributos $\\mathbf{x}$ e da resposta $y$ associada. A partir do conjunto de exemplos $(\\mathbf{x},y)$ um modelo é construido de modo a minimizar alguma medida de erro. Uma vez obtido o modelo, predição do valor de $y$ pode ser feita a partir da informação dos atributos $\\mathbf{x}$ não existentes no conjunto de examplos."
   ]
  },
  {
   "cell_type": "markdown",
   "metadata": {},
   "source": [
    "## Classificação vs Regressão\n",
    "\n",
    "O aprendizado supervisionado é divido em dois tipos principais de problemas: regressão e classificação. A diferença entre eles está relacionada ao *target*, isto é, ao tipo de resposta que o modelo deve fornecer.\n",
    "\n",
    "Quando o *target* é uma classe, ou seja, um conjunto fixo (e finito) de valores, temos um problema de **classificação**. Por exemplo:\n",
    "\n",
    "- Uma pessoa com certas características físicas, ``tem`` ou ``não tem`` um problema de saúde\n",
    "- Dado as características de um tumor, ele é ``benigno`` ou ``maligno``\n",
    "- Dadas as condições de umidade, pressão e temperatura, irá ``chover``, ``ficar nublado`` ou ``fazer sol``\n",
    "\n",
    "Nos exemplos acima, o target é um conjunto fixo de respostas possíveis, ou seja, (``tem``, ``não tem``), (``benigno``, ``maligno``), (``chover``, ``ficar nublado``, ``fazer sol``).\n",
    "\n",
    "Já quando o *target* é um número, temos um problema de **regressão**. Por exemplo:\n",
    "\n",
    "- Dada as características da casa, qual o seu ``preço``?\n",
    "- Da a localização e propriedades de uma loja, qual o ``número de clientes`` que a visitam?\n",
    "- Data a frequência de clientes de um restaurante, ``quantos quilos`` diários de alimentos eles demandam?\n",
    "\n",
    "Nos exemplos acima, o target é um número, que pode estar em qualquer intervalo de valores.\n",
    "\n",
    "O modelo de aprendizado de máquina que iremos estudar nesta aula funciona tanto para regressão quanto para classificação, porem, é preciso ter em mente que nem sempre é esse o caso."
   ]
  },
  {
   "cell_type": "markdown",
   "metadata": {},
   "source": [
    "## Como medir se o modelo esta realizando predições corretas?\n",
    "\n",
    "Uma alternativa para sabermos se o modelo está funcionando é utilizar um conjunto de dados para o qual já temos a resposta como teste. O problema é que não se deve empregar os mesmos dados para treinar e avaliar o modelo, então, o que se faz na prática, é separar uma parte do conjunto de treino, algo como 20%, para avaliar o desempenho do modelo. Perceba que separamos o conjunto de treino em um conjunto de treino e outro de teste. Em ambos conhecemos os atributos e as respostas para cada instância de dado. Esse processo é chamado de *hold out validation*, e está ilustrado na imagem a seguir:\n",
    "\n",
    "![](treinamento-teste.png)\n",
    "\n",
    "\n",
    "Uma vez tendo um conjunto de teste, podemos empregar uma métrica simples para medir o desempenho do modelo. No caso de problemas de classificação, a medida de _acurácia_ pode ser empregada. Para calcular a acurácia do modelo, basta dividir o número de acertos do modelo pelo total de instâncias no conjunto de teste.\n",
    "\n",
    "$$ \\text{acuracia} = \\frac{\\text{acertos}}{\\text{total testes}} $$\n",
    "\n",
    "No caso de modelos de regressão é comum utilizar o erro médio quadrático (*mean squared error*, ou MSE, em inglês). O MSE consiste na média das diferenças (ao quadrado) entre a resposta dada pelo modelo $\\hat{y_i}$ e a resposta correta $y_i$.\n",
    "\n",
    "$$ \\text{MSE} = \\frac{1}{n}\\sum_{i=1}^{n} (\\hat{y_i} - y_i)^2$$"
   ]
  },
  {
   "cell_type": "markdown",
   "metadata": {},
   "source": [
    "## Árvore de decisão\n",
    "\n",
    "Árvore de decisão é uma técnica que pode ser empregada para realizar tarefas de classificação ou regressão.\n",
    "\n",
    "Considere o conjunto de dados abaixo. Nosso problema é prever se uma pessoa irá ou não praticar um esporte dado o clima do dia em questão. Que padrões conseguimos encontrar? Observe o panorama do tempo, isto é, a coluna *outlook*.\n",
    "\n",
    "<img src=\"play_dataset.png\" style=\"width: 400px\"/>\n",
    "\n",
    "Podemos observar que sempre que o *outlook* é *overcast* a pessoa irá praticar o esporte (*Yes* na coluna *Play?*). Não há nenhum outro padrão tão direto como este, mas analisando mais a fundo, percebemos que, por exemplo, sempre que está sol e com a humidade alta a pessoa não irá praticar o esporte.\n",
    "\n",
    "Seguindo nesta linha é possível criar um conjunto de regras, que podem ser representadas através de uma **árvore de decisão**, como a seguir:\n",
    "\n",
    "<img src=\"play_tree.png\" style=\"width: 500px\"/>\n",
    "\n",
    "Desta forma é possível realizar predição para exemplos que não estavam na base de treinamento, como por exemplo: **Caso o dia esteja sol, com temperatura amena, humidade alta e ventos fortes, a pessoa irá praticar o esporte?**\n",
    "\n",
    "Neste caso todas os nossos atribuitos foram categóricos, mas no caso de atribuitos numéricos o processo é tão simples quanto, se resumindo a: valor maior que $x$ ou valor menor que $x$.\n",
    "\n",
    "Os detalhes de como uma árvore de decisã é constuída foge do escopo deste curso, porém o que acabou de ser apresentado fornece a intuição de como tal modelo funciona."
   ]
  },
  {
   "cell_type": "markdown",
   "metadata": {},
   "source": [
    "### Exemplo Classificação\n",
    "\n",
    "Vamos para um exemplo simples de classificação utilizando o conjunto de dados iris"
   ]
  },
  {
   "cell_type": "code",
   "execution_count": 1,
   "metadata": {},
   "outputs": [],
   "source": [
    "# Importando as bibliotecas que sempre são usadas\n",
    "import numpy as np\n",
    "import pandas as pd\n",
    "import matplotlib.pyplot as plt"
   ]
  },
  {
   "cell_type": "code",
   "execution_count": 30,
   "metadata": {},
   "outputs": [
    {
     "name": "stdout",
     "output_type": "stream",
     "text": [
      "(150, 4)\n",
      "(150,)\n",
      "Atributo\n",
      " [[6.9 3.2 5.7 2.3]\n",
      " [7.  3.2 4.7 1.4]\n",
      " [7.9 3.8 6.4 2. ]\n",
      " [6.3 2.8 5.1 1.5]\n",
      " [4.6 3.2 1.4 0.2]\n",
      " [6.3 3.3 4.7 1.6]\n",
      " [6.3 3.3 4.7 1.6]\n",
      " [6.3 2.7 4.9 1.8]\n",
      " [5.6 3.  4.1 1.3]\n",
      " [5.9 3.  4.2 1.5]]\n",
      "Respostas\n",
      " [2 1 2 2 0 1 1 2 1 1]\n"
     ]
    }
   ],
   "source": [
    "# Nossa base de dados: ja disponivel no sklearn\n",
    "from sklearn.datasets import load_iris\n",
    "\n",
    "# Arvore de decisão para classificação\n",
    "\n",
    "# Função que sapara entre conjuntos de treino e teste\n",
    "from sklearn.model_selection import train_test_split\n",
    "\n",
    "# Função que calcula a acurácia automaticamente\n",
    "from sklearn.metrics import accuracy_score\n",
    "\n",
    "# Carregando os dados da base Iris (como numpy arrays)\n",
    "X, y = load_iris(return_X_y=True)\n",
    "\n",
    "print(X.shape)\n",
    "print(y.shape)"
   ]
  },
  {
   "cell_type": "code",
   "execution_count": 32,
   "metadata": {},
   "outputs": [
    {
     "name": "stdout",
     "output_type": "stream",
     "text": [
      "Atributo\n",
      " [[5.8 2.7 5.1 1.9]\n",
      " [6.3 2.7 4.9 1.8]\n",
      " [7.  3.2 4.7 1.4]\n",
      " [5.5 2.5 4.  1.3]\n",
      " [7.4 2.8 6.1 1.9]\n",
      " [5.6 2.7 4.2 1.3]\n",
      " [4.9 2.4 3.3 1. ]\n",
      " [5.1 3.8 1.9 0.4]\n",
      " [4.9 3.6 1.4 0.1]\n",
      " [5.1 3.5 1.4 0.3]]\n",
      "Respostas\n",
      " [2 2 1 1 2 1 1 0 0 0]\n"
     ]
    }
   ],
   "source": [
    "# Vamos olhar alguns exemplos\n",
    "\n",
    "amostras = np.random.randint(0,X.shape[0],10)\n",
    "print('Atributo\\n',X[amostras])\n",
    "print('Respostas\\n',y[amostras])"
   ]
  },
  {
   "cell_type": "code",
   "execution_count": 53,
   "metadata": {},
   "outputs": [
    {
     "name": "stdout",
     "output_type": "stream",
     "text": [
      "(120, 4)\n",
      "(30, 4)\n",
      "(120,)\n",
      "(30,)\n"
     ]
    }
   ],
   "source": [
    "# dividindo o conjunto de treinamento em treinamento e teste\n",
    "\n",
    "X_train, X_test, y_train, y_test = train_test_split(X, y, test_size=0.2, random_state=42)\n",
    "#X_train, X_test, y_train, y_test = train_test_split(X, y, test_size=0.5)\n",
    "\n",
    "# Vamos imprimir as dimensões\n",
    "print(X_train.shape)\n",
    "print(X_test.shape)\n",
    "print(y_train.shape)\n",
    "print(y_test.shape)"
   ]
  },
  {
   "cell_type": "code",
   "execution_count": 54,
   "metadata": {},
   "outputs": [],
   "source": [
    "from sklearn.tree import DecisionTreeClassifier\n",
    "\n",
    "# instanciando uma arvore de decisão\n",
    "model = DecisionTreeClassifier()\n",
    "\n",
    "# construindo o modelo a partir do conjunto de treino\n",
    "model.fit(X_train, y_train)\n",
    "\n",
    "# Predizendo os resultados para o conjunto de teste e salvando os resultados\n",
    "y_pred = model.predict(X_test)"
   ]
  },
  {
   "cell_type": "code",
   "execution_count": 55,
   "metadata": {},
   "outputs": [
    {
     "name": "stdout",
     "output_type": "stream",
     "text": [
      "1.0\n"
     ]
    }
   ],
   "source": [
    "# Calculando a acurácia do modelo\n",
    "acuracia = accuracy_score(y_test, y_pred)\n",
    "\n",
    "print(acuracia)"
   ]
  },
  {
   "cell_type": "markdown",
   "metadata": {},
   "source": [
    "### Exemplo Regressão\n",
    "\n",
    "Vamos para um exemplo simples de regressão utilizando um conjuto de informações imobiliárias"
   ]
  },
  {
   "cell_type": "code",
   "execution_count": 56,
   "metadata": {},
   "outputs": [
    {
     "name": "stdout",
     "output_type": "stream",
     "text": [
      "(506, 13)\n",
      "(506,)\n"
     ]
    }
   ],
   "source": [
    "from sklearn.datasets import load_boston\n",
    "\n",
    "# Carregando os dados da base Boston\n",
    "X, y = load_boston(return_X_y=True)\n",
    "\n",
    "print(X.shape)\n",
    "print(y.shape)"
   ]
  },
  {
   "cell_type": "code",
   "execution_count": 57,
   "metadata": {},
   "outputs": [
    {
     "name": "stdout",
     "output_type": "stream",
     "text": [
      "Atributo\n",
      " [[2.63630e-01 0.00000e+00 8.56000e+00 0.00000e+00 5.20000e-01 6.22900e+00\n",
      "  9.12000e+01 2.54510e+00 5.00000e+00 3.84000e+02 2.09000e+01 3.91230e+02\n",
      "  1.55500e+01]\n",
      " [2.76300e-02 7.50000e+01 2.95000e+00 0.00000e+00 4.28000e-01 6.59500e+00\n",
      "  2.18000e+01 5.40110e+00 3.00000e+00 2.52000e+02 1.83000e+01 3.95630e+02\n",
      "  4.32000e+00]\n",
      " [6.04700e-02 0.00000e+00 2.46000e+00 0.00000e+00 4.88000e-01 6.15300e+00\n",
      "  6.88000e+01 3.27970e+00 3.00000e+00 1.93000e+02 1.78000e+01 3.87110e+02\n",
      "  1.31500e+01]\n",
      " [3.23700e-02 0.00000e+00 2.18000e+00 0.00000e+00 4.58000e-01 6.99800e+00\n",
      "  4.58000e+01 6.06220e+00 3.00000e+00 2.22000e+02 1.87000e+01 3.94630e+02\n",
      "  2.94000e+00]\n",
      " [9.17800e-02 0.00000e+00 4.05000e+00 0.00000e+00 5.10000e-01 6.41600e+00\n",
      "  8.41000e+01 2.64630e+00 5.00000e+00 2.96000e+02 1.66000e+01 3.95500e+02\n",
      "  9.04000e+00]\n",
      " [2.06080e-01 2.20000e+01 5.86000e+00 0.00000e+00 4.31000e-01 5.59300e+00\n",
      "  7.65000e+01 7.95490e+00 7.00000e+00 3.30000e+02 1.91000e+01 3.72490e+02\n",
      "  1.25000e+01]\n",
      " [2.37934e+00 0.00000e+00 1.95800e+01 0.00000e+00 8.71000e-01 6.13000e+00\n",
      "  1.00000e+02 1.41910e+00 5.00000e+00 4.03000e+02 1.47000e+01 1.72910e+02\n",
      "  2.78000e+01]\n",
      " [2.44668e+00 0.00000e+00 1.95800e+01 0.00000e+00 8.71000e-01 5.27200e+00\n",
      "  9.40000e+01 1.73640e+00 5.00000e+00 4.03000e+02 1.47000e+01 8.86300e+01\n",
      "  1.61400e+01]\n",
      " [1.53800e-02 9.00000e+01 3.75000e+00 0.00000e+00 3.94000e-01 7.45400e+00\n",
      "  3.42000e+01 6.33610e+00 3.00000e+00 2.44000e+02 1.59000e+01 3.86340e+02\n",
      "  3.11000e+00]\n",
      " [1.26500e-01 2.50000e+01 5.13000e+00 0.00000e+00 4.53000e-01 6.76200e+00\n",
      "  4.34000e+01 7.98090e+00 8.00000e+00 2.84000e+02 1.97000e+01 3.95580e+02\n",
      "  9.50000e+00]]\n",
      "Respostas\n",
      " [19.4 30.8 29.6 33.4 23.6 17.6 13.8 13.1 44.  25. ]\n"
     ]
    }
   ],
   "source": [
    "# Vamos olhar alguns exemplos\n",
    "\n",
    "amostras = np.random.randint(0,X.shape[0],10)\n",
    "print('Atributo\\n',X[amostras])\n",
    "print('Respostas\\n',y[amostras])"
   ]
  },
  {
   "cell_type": "code",
   "execution_count": 58,
   "metadata": {},
   "outputs": [
    {
     "name": "stdout",
     "output_type": "stream",
     "text": [
      "(404, 13)\n",
      "(102, 13)\n",
      "(404,)\n",
      "(102,)\n"
     ]
    }
   ],
   "source": [
    "# dividindo o conjunto de treinamento em treinamento e teste\n",
    "X_train, X_test, y_train, y_test = train_test_split(X, y, test_size=0.2, random_state=0)\n",
    "\n",
    "print(X_train.shape)\n",
    "print(X_test.shape)\n",
    "print(y_train.shape)\n",
    "print(y_test.shape)"
   ]
  },
  {
   "cell_type": "code",
   "execution_count": 59,
   "metadata": {},
   "outputs": [],
   "source": [
    "from sklearn.tree import DecisionTreeRegressor\n",
    "\n",
    "# instanciando uma árvore de decisão para regressao\n",
    "model =  DecisionTreeRegressor()\n",
    "\n",
    "# constuindo o modelo com o conjunto de treino\n",
    "model.fit(X_train, y_train)\n",
    "\n",
    "# Predizendo os resultados para o conjunto de teste e salvando os resultados\n",
    "y_pred = model.predict(X_test)"
   ]
  },
  {
   "cell_type": "code",
   "execution_count": 60,
   "metadata": {
    "scrolled": false
   },
   "outputs": [
    {
     "name": "stdout",
     "output_type": "stream",
     "text": [
      "34.37941176470588\n"
     ]
    }
   ],
   "source": [
    "# Vamos utilizar o MSE como métrica\n",
    "from sklearn.metrics import mean_squared_error\n",
    "\n",
    "mse = mean_squared_error(y_test, y_pred)\n",
    "\n",
    "print(mse)"
   ]
  },
  {
   "cell_type": "markdown",
   "metadata": {},
   "source": [
    "__Pergunta:__ O valor acima mostra que o modelo é bom ou ruim?"
   ]
  },
  {
   "cell_type": "markdown",
   "metadata": {},
   "source": [
    "# Aprendizado não-supervisionado\n",
    "\n",
    "Diferente do aprendizado supervisionado, onde uma resposta deve ser predita, no aprendizado não-supervisionado o que se busca é modelar a \"organização\" dos dados, não uma relação atributos-resposta.\n",
    "\n",
    "Existem diferentes tarefas de aprendizado não-supervisionado, porém, uma das mais relavantes é o agrupamento (ou *clustering*, em inglês).\n",
    "\n",
    "**Clustering** consite em encontrar grupos que reunem instancias de dados semelhantes. Exemplos de problemas cuja solução pode ser obtida via clustering:\n",
    "\n",
    "- Dadas suas características, quais são as instituições de ensino mais semelhantes em São Paulo\n",
    "- Dadas suas características, quais empresas atuam em setores semelhantes do mercado\n",
    "\n",
    "Perceba que não sabemos a que grupo nenhum dos exemplos pertencem, não existe um *target*. Estamos simplesmente encontrando a melhor maneira de agrupar os dados a partir de suas características (atributos).\n",
    "\n",
    "A principal vantagem do aprendizado não-supervisionado e, consequentemente, dos métodos de  clustering é que eles não necessitam dos *targets*."
   ]
  },
  {
   "cell_type": "markdown",
   "metadata": {},
   "source": [
    "## k-Means\n",
    "\n",
    "O k-Means (ou k-Médias, em português) é um dos métodos de clustering mais utilizado. Ele possui um funcionamento intuitivo e que apresenta resultados satisfatórios. Como o proprio nome indica **ele agrupa os dados em k grupos, com base na similaridade entre as instancias e a média do grupo**.\n",
    "\n",
    "O primeiro passo para compreensão do k-Means é entender como os dados de uma tabela podem interpretados como pontos em um espaço multidimensional. Como ilustrado na figura abaixo,  cada coluna da uma tabela de dados pode ser associada a um eixo em um espaço multidimensional. Desta forma, cada linha corresponde a um ponto naquel espaço.\n",
    "\n",
    "<img src=\"feature_space.png\" style=\"width: 650px\"/>\n",
    "\n",
    "Dado um conjunto de pontos em um espaço multidimensional, o k-Means agrupa os dados seguindo o algoritmo abaixo:\n",
    "\n",
    "1. k centróides (pontos) são escolhidos aleatoriamente no espaço\n",
    "2. Cada instância de dado é associada ao centróide mais próximo a ela, gerando k grupos\n",
    "3. O valor de cada centroide é recalculado como a média das coordenadas os pontos de um mesmo grupo\n",
    "4. Os passos 2 e 3 são repetidos até que não ocorra nenhuma modificação nos grupos\n",
    "\n",
    "A animação a seguir mostra passo a passo o processo de treinamento do algoritmo ([fonte](http://konukoii.com/blog/2017/01/15/5-min-tutorial-k-means-clustering-in-python/)). \n",
    "\n",
    "<img src=\"k_means.gif\" style=\"width: 450px\"/>"
   ]
  },
  {
   "cell_type": "markdown",
   "metadata": {},
   "source": [
    "## Clustering"
   ]
  },
  {
   "cell_type": "code",
   "execution_count": 70,
   "metadata": {},
   "outputs": [
    {
     "data": {
      "text/plain": [
       "Text(0, 0.5, 'Atribuito 2')"
      ]
     },
     "execution_count": 70,
     "metadata": {},
     "output_type": "execute_result"
    },
    {
     "data": {
      "image/png": "[encoded data removed]",
      "text/plain": [
       "<Figure size 432x288 with 1 Axes>"
      ]
     },
     "metadata": {
      "needs_background": "light"
     },
     "output_type": "display_data"
    }
   ],
   "source": [
    "# Gerando uma base artificial\n",
    "from sklearn.datasets import make_blobs\n",
    "\n",
    "X, _ = make_blobs(n_samples=200, random_state=3)\n",
    "\n",
    "# Mostrando a base que foi gerada\n",
    "plt.scatter(X[:,0], X[:, 1])\n",
    "plt.title('Nossos dados')\n",
    "plt.xlabel('Atribuito 1')\n",
    "plt.ylabel('Atribuito 2')"
   ]
  },
  {
   "cell_type": "code",
   "execution_count": 74,
   "metadata": {},
   "outputs": [
    {
     "name": "stdout",
     "output_type": "stream",
     "text": [
      "[1 1 0 1 0 1 1 1 1 1]\n"
     ]
    }
   ],
   "source": [
    "from sklearn.cluster import KMeans\n",
    "\n",
    "# Instanciando K-Means com 2 grupos\n",
    "model = KMeans(n_clusters=2)\n",
    "\n",
    "# Constuindo o modelo\n",
    "model.fit(X)\n",
    "\n",
    "# Obtendo o grupo associado a cada instancia\n",
    "clusters = model.predict(X)\n",
    "print(clusters[:10])"
   ]
  },
  {
   "cell_type": "code",
   "execution_count": 75,
   "metadata": {},
   "outputs": [
    {
     "data": {
      "text/plain": [
       "Text(0, 0.5, 'Atribuito 2')"
      ]
     },
     "execution_count": 75,
     "metadata": {},
     "output_type": "execute_result"
    },
    {
     "data": {
      "image/png": "[encoded data removed]",
      "text/plain": [
       "<Figure size 432x288 with 1 Axes>"
      ]
     },
     "metadata": {
      "needs_background": "light"
     },
     "output_type": "display_data"
    }
   ],
   "source": [
    "# Mostrando clusters obtidos\n",
    "plt.scatter(X[:,0], X[:, 1], c=clusters)\n",
    "plt.title('Nossos dados')\n",
    "plt.xlabel('Atribuito 1')\n",
    "plt.ylabel('Atribuito 2')"
   ]
  },
  {
   "cell_type": "markdown",
   "metadata": {},
   "source": [
    "Mas será que o número certo de grupos é dois? Vamos ver como ficaria com a divisão em três clusters:"
   ]
  },
  {
   "cell_type": "code",
   "execution_count": 76,
   "metadata": {},
   "outputs": [
    {
     "data": {
      "text/plain": [
       "Text(0, 0.5, 'Atribuito 2')"
      ]
     },
     "execution_count": 76,
     "metadata": {},
     "output_type": "execute_result"
    },
    {
     "data": {
      "image/png": "[encoded data removed]",
      "text/plain": [
       "<Figure size 432x288 with 1 Axes>"
      ]
     },
     "metadata": {
      "needs_background": "light"
     },
     "output_type": "display_data"
    }
   ],
   "source": [
    "# Vamos usar o K-Means indicando que queremos dividir em 3 grupos\n",
    "model = KMeans(n_clusters=3)\n",
    "\n",
    "# Treinando o modelo\n",
    "model.fit(X)\n",
    "\n",
    "# Obtendo o grupo associado a cada instancia\n",
    "clusters = model.predict(X)\n",
    "\n",
    "# Mostrando a base com os clusters designados\n",
    "plt.scatter(X[:,0], X[:, 1], c=clusters)\n",
    "plt.title('Nossos dados')\n",
    "plt.xlabel('Atribuito 1')\n",
    "plt.ylabel('Atribuito 2')"
   ]
  },
  {
   "cell_type": "markdown",
   "metadata": {},
   "source": [
    "Nesse caso escolhemos o número de clusters baseados na intuição visual, já que o problema só possui duas variáveis. Mas na prática é necessário utilizar outras técnicas, como o [Elbow Method](https://en.wikipedia.org/wiki/Elbow_method_(clustering))"
   ]
  }
 ],
 "metadata": {
  "kernelspec": {
   "display_name": "Python 3",
   "language": "python",
   "name": "python3"
  },
  "language_info": {
   "codemirror_mode": {
    "name": "ipython",
    "version": 3
   },
   "file_extension": ".py",
   "mimetype": "text/x-python",
   "name": "python",
   "nbconvert_exporter": "python",
   "pygments_lexer": "ipython3",
   "version": "3.6.5rc1"
  },
  "toc": {
   "base_numbering": 1,
   "nav_menu": {},
   "number_sections": true,
   "sideBar": true,
   "skip_h1_title": false,
   "title_cell": "Table of Contents",
   "title_sidebar": "Contents",
   "toc_cell": false,
   "toc_position": {},
   "toc_section_display": true,
   "toc_window_display": false
  }
 },
 "nbformat": 4,
 "nbformat_minor": 2
}

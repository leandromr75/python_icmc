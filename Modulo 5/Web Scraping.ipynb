{
 "cells": [
  {
   "cell_type": "markdown",
   "metadata": {},
   "source": [
    "# <span style=\"color:blue\">Programação Python para Ciência de Dados</span>\n",
    "\n",
    "## <span style=\"color:blue\">Módulo 5.2 Extraindo dados da internet</span>"
   ]
  },
  {
   "cell_type": "markdown",
   "metadata": {},
   "source": [
    "### Conteúdo da aula:\n",
    "- Páginas Web\n",
    "- Parsing\n",
    "- Requests"
   ]
  },
  {
   "cell_type": "markdown",
   "metadata": {},
   "source": [
    "## Página HTML\n",
    "\n",
    "Uma página web, de maneira simplista, apresenta estrutura como a seguir:\n",
    "\n",
    "```html\n",
    "<!DOCTYPE html>\n",
    "<html>\n",
    "    <body>\n",
    "\n",
    "        <h1 class=\"titulo\" id=>Título aqui</h1>\n",
    "        \n",
    "        <p class=\"paragrafo1\">Isso é um parágrafo</p>\n",
    "        <p class=\"paragrafo2\">Isso é outro parágrafo</p>\n",
    "        \n",
    "        \n",
    "        <!-- Aqui em baixo temos uma lista (e isso é um comentário) -->\n",
    "        <ul>\n",
    "            <li>Elemento 1</li>\n",
    "            <li>Elemento 2</li>\n",
    "            <li>Elemento 3</li>\n",
    "        </ul>\n",
    "            \n",
    "        \n",
    "        <a href=\"https://icmc.usp.br\">Link</a>\n",
    "\n",
    "    </body>\n",
    "</html>\n",
    "\n",
    "```\n",
    "\n",
    "Uma vez que esse código é interpretado e renderizado pelo browser ele ganha o seguinte visual, que é mais próximo (porém nem tanto) do que estamos habituados\n",
    "\n",
    "<img src=\"pagina.png\" style=\"width: 200px;\">"
   ]
  },
  {
   "cell_type": "markdown",
   "metadata": {},
   "source": [
    "## Parsing\n",
    "\n",
    "O parsing de uma página consiste em utilizar uma função que separa os componentes da página, facilitando a busca e o acesso as informações da página. Em Python um dos pacotes mais comuns para realização desse tipo de tarefa é o **BeautifulSoup**.\n",
    "\n",
    "O objetivo desta parte do curso é introduzir conceitos básicos de web crawling.\n",
    "\n",
    "Vamos trabalhar com o arquivo web que descrevemos anteriormente."
   ]
  },
  {
   "cell_type": "code",
   "execution_count": 1,
   "metadata": {},
   "outputs": [],
   "source": [
    "import requests\n",
    "from bs4 import BeautifulSoup"
   ]
  },
  {
   "cell_type": "code",
   "execution_count": 3,
   "metadata": {},
   "outputs": [],
   "source": [
    "with open('pagina.html', 'r') as file:\n",
    "    html = file.read()"
   ]
  },
  {
   "cell_type": "code",
   "execution_count": 4,
   "metadata": {},
   "outputs": [
    {
     "data": {
      "text/plain": [
       "'<!DOCTYPE html>\\n<html>\\n    <body>\\n\\n        <h1 class=\"titulo\" id=>Título aqui</h1>\\n        \\n        <p class=\"paragrafo1\">Isso é um parágrafo</p>\\n        <p class=\"paragrafo2\">Isso é outro parágrafo</p>\\n        \\n        \\n        <!-- Aqui em baixo temos uma lista (e isso é um comentário) -->\\n        <ul>\\n            <li>Elemento 1</li>\\n            <li>Elemento 2</li>\\n            <li>Elemento 3</li>\\n        </ul>\\n            \\n        \\n        <a href=\"https://icmc.usp.br\">Link</a>\\n\\n    </body>\\n</html>\\n'"
      ]
     },
     "execution_count": 4,
     "metadata": {},
     "output_type": "execute_result"
    }
   ],
   "source": [
    "html"
   ]
  },
  {
   "cell_type": "markdown",
   "metadata": {},
   "source": [
    "Passamos o nosso html \"cru\" para criar o objeto que fará o parsing "
   ]
  },
  {
   "cell_type": "code",
   "execution_count": 5,
   "metadata": {},
   "outputs": [
    {
     "name": "stdout",
     "output_type": "stream",
     "text": [
      "<class 'bs4.BeautifulSoup'>\n"
     ]
    }
   ],
   "source": [
    "soup = BeautifulSoup(html)\n",
    "print(type(soup))"
   ]
  },
  {
   "cell_type": "markdown",
   "metadata": {},
   "source": [
    "Agora podemos começar a extrair as informações que desejamos, focando principalmente em recuperar tags do HTML."
   ]
  },
  {
   "cell_type": "markdown",
   "metadata": {},
   "source": [
    "Para encontrar a primeira ocorrência de uma tag específica podemos usar o seguinte comando"
   ]
  },
  {
   "cell_type": "code",
   "execution_count": 6,
   "metadata": {},
   "outputs": [
    {
     "name": "stdout",
     "output_type": "stream",
     "text": [
      "<p class=\"paragrafo1\">Isso é um parágrafo</p>\n",
      "<class 'bs4.element.Tag'>\n"
     ]
    }
   ],
   "source": [
    "primeiro_paragrafo = soup.find('p') # No caso iremos recuperar a primeira tag do tipo p\n",
    "print(primeiro_paragrafo)\n",
    "print(type(primeiro_paragrafo))"
   ]
  },
  {
   "cell_type": "markdown",
   "metadata": {},
   "source": [
    "Perceba que isso não é uma string, mas sim um objeto do BeautifulSoup, através do qual conseguimos acessar o conteudo da tag"
   ]
  },
  {
   "cell_type": "code",
   "execution_count": 7,
   "metadata": {},
   "outputs": [
    {
     "name": "stdout",
     "output_type": "stream",
     "text": [
      "Isso é um parágrafo\n"
     ]
    }
   ],
   "source": [
    "print(primeiro_paragrafo.text)"
   ]
  },
  {
   "cell_type": "markdown",
   "metadata": {},
   "source": [
    "Também podemos recuperar todas as tags de um certo tipo (recebendo como retorno um objeto do BeautifulSoup que pode ser iterado como uma lista)"
   ]
  },
  {
   "cell_type": "code",
   "execution_count": 8,
   "metadata": {},
   "outputs": [
    {
     "name": "stdout",
     "output_type": "stream",
     "text": [
      "<li>Elemento 1</li>\n",
      "<li>Elemento 2</li>\n",
      "<li>Elemento 3</li>\n"
     ]
    }
   ],
   "source": [
    "todos_itens = soup.find_all('li')\n",
    "for item in todos_itens:\n",
    "    print(item)"
   ]
  },
  {
   "cell_type": "markdown",
   "metadata": {},
   "source": [
    "Algo ainda mais comum é procurar por um elemento que possui um atributo específico. O exemplo abaixo mostra como isso é feito para encontrar os elementos de uma classe específica."
   ]
  },
  {
   "cell_type": "code",
   "execution_count": 8,
   "metadata": {},
   "outputs": [
    {
     "name": "stdout",
     "output_type": "stream",
     "text": [
      "[<p class=\"paragrafo1\">Isso é um parágrafo</p>]\n"
     ]
    }
   ],
   "source": [
    "paragrafos_da_classe = soup('p', {'class': 'paragrafo1'})\n",
    "print(paragrafos_da_classe)"
   ]
  },
  {
   "cell_type": "markdown",
   "metadata": {},
   "source": [
    "Podemos acessar uma página e com o nosso browser descobrir os atributos específicos de um certo elemento para construir um programa que recupera as informações que precisamos."
   ]
  },
  {
   "cell_type": "markdown",
   "metadata": {},
   "source": [
    "## Requests\n",
    "\n",
    "Claro que quando estaremos obtendo dados de um site específico não teremos ele salvo localmente, então é necessária uma forma de obter o código de qualquer página da web.\n",
    "\n",
    "Para executar tal tarefa é utlizada a biblioteca **requests** do Python, mais especificamente através da sua função get."
   ]
  },
  {
   "cell_type": "code",
   "execution_count": 13,
   "metadata": {},
   "outputs": [
    {
     "name": "stdout",
     "output_type": "stream",
     "text": [
      "<class 'requests.models.Response'>\n"
     ]
    }
   ],
   "source": [
    "# Solicitando a página do \n",
    "resposta = requests.get(\"https://icmc.usp.br/eventos\")\n",
    "print(type(resposta))"
   ]
  },
  {
   "cell_type": "markdown",
   "metadata": {},
   "source": [
    "Como podemos ver essa função retorna um objeto interno do requests, que contém várias informações importantes relacionadas a resposta dada pelo servidor. Porém estamos interessados no código HTML da página, que pode ser acessado pelo atributo **text**"
   ]
  },
  {
   "cell_type": "code",
   "execution_count": 14,
   "metadata": {},
   "outputs": [
    {
     "name": "stdout",
     "output_type": "stream",
     "text": [
      "<class 'str'>\n"
     ]
    }
   ],
   "source": [
    "html_site = resposta.text\n",
    "print(type(html_site))"
   ]
  },
  {
   "cell_type": "code",
   "execution_count": 15,
   "metadata": {
    "scrolled": true
   },
   "outputs": [
    {
     "name": "stdout",
     "output_type": "stream",
     "text": [
      "<!DOCTYPE html>\n",
      "<html xmlns=\"http://www.w3.org/1999/xhtml\" xml:lang=\"pt-br\" lang=\"pt-br\" >\n",
      "    <head>\n",
      "        <meta charset=\"utf-8\">\n",
      "        <meta http-equiv=\"X-UA-Compatible\" content=\"IE=edge\">\n",
      "        <meta name=\"viewport\" content=\"width=device-width, initial-scale=1\">\n",
      "        <meta name=\"description\" content=\"ICMC - Instituto de Ciências Matemáticas e de Computação. Ensino, Graduação, Pós-Graduação, Pesquisa, Cultura e Extensão. Eventos\">\n",
      "        <meta name=\"author\" content=\"Instituto de Ciências Matemáticas e de Computação\">\n",
      "        <meta property=\"og:image\" content=\"http://www.icmc.usp.br/imprensa/_thumb1/icone-noticia.jpg\" />        <link rel=\"icon\" href=\"/templates/icmc2015/img/ico/favicon.ico\" />\n",
      "\n",
      "        <!-- Alterado dia 19/01/2017 para atender o chamado da intranet n.54/2017 -->\n",
      "        <!--<title>ICMC - Instituto de Ciências Matemáticas e de Computação - Eventos</title>-->\n",
      "                <title>Eventos</title>\n",
      "          \n",
      "        <script src=\"/templates/icmc2015/js/jquery.min.js\"></script>\n",
      "          \n",
      "        \n",
      "        <!-- Bootstrap core CSS -->\n",
      "        <link href=\"/templates/icmc2015/css/bootstrap.css\" rel=\"stylesheet\">\n",
      "\n",
      "        <!-- IE10 viewport hack for Surface/desktop Windows 8 bug -->\n",
      "        <script src=\"/templates/icmc2015/js/ie10-viewport-bug-workaround.js\"></script>\n",
      "\n",
      "        <!-- HTML5 shim and Respond.js IE8 support of HTML5 elements and media queries -->\n",
      "        <!--[if lt IE 9]>\n",
      "          <script src=\"https://oss.maxcdn.com/html5shiv/3.7.2/html5shiv.min.js\"></script>\n",
      "          <script src=\"https://oss.maxcdn.com/respond/1.4.2/respond.min.js\"></script>\n",
      "        <![endif]-->\n",
      "\n",
      "        <!-- Custom styles for this template -->\n",
      "        <link href=\"/templates/icmc2015/css/carousel.css\" rel=\"stylesheet\">\n",
      "            \n",
      "        <script src='https://www.google.com/recaptcha/api.js'></script>\n",
      "    </head>\n",
      "    <!-- NAVBAR\n",
      "    ================================================== -->\n",
      "    <body>\n",
      "        <!-- Fixed navbar -->\n",
      "        <div class=\"navbar navbar-default navbar-inverse navbar-fixed-top\" role=\"navigation\">\n",
      "            <div class=\"container\"><!-- style=\"border-top: 10px solid #222;\">\n",
      "                <div class=\"quadro_campanha\">\n",
      "                    <img src=\"/images/sampledata/preto.png\" class=\"outubro_rosa\" />\n",
      "                </div>-->\n",
      "                <div class=\"navbar-header\">\n",
      "                    <a href=\"/\"><img src=\"/templates/icmc2015/img/logo-mini.png\" class=\"pull-left\" /></a>\n",
      "                    <button type=\"button\" class=\"navbar-toggle\" data-toggle=\"collapse\" data-target=\".navbar-collapse\">\n",
      "                        <span class=\"sr-only\">Toggle navigation</span>\n",
      "                        <span class=\"icon-bar\"></span>\n",
      "                        <span class=\"icon-bar\"></span>\n",
      "                        <span class=\"icon-bar\"></span>\n",
      "                    </button>\n",
      "                    <div class=\"input-group navbar-right busca-topo\">\n",
      "                        <input type=\"text\" class=\"form-control\" placeholder=\"Buscar\">\n",
      "                        <span class=\"input-group-addon\"><a href=\"#\"><span class=\"glyphicon glyphicon-search\" aria-hidden=\"true\"></span></a></span>\n",
      "                    </div>\n",
      "                </div>\n",
      "                <div class=\"navbar-collapse collapse\">\n",
      "                    <a href=\"/\"><img src=\"/templates/icmc2015/img/logo.png\" class=\"pull-left\" /></a>\n",
      "                    <ul class=\"nav menu navbar-nav principal mod-list\">\n",
      "<li class=\"item-124 default\"><a href=\"/\" class=\" hide\">Home</a></li><li class=\"item-125 parent\"><a href=\"/graduacao\" >Graduação</a></li><li class=\"item-126 parent\"><a href=\"/pos-graduacao\" >Pós-Graduação</a></li><li class=\"item-127 parent\"><a href=\"/pesquisa\" >Pesquisa</a></li><li class=\"item-128 parent\"><a href=\"/cultura-e-extensao\" >Cultura e Extensão</a></li></ul>\n",
      "\n",
      "                    <div class=\"collapse2\">\n",
      "                        <div class=\"menu-topo-institucional\">\n",
      "                            <ul class=\"nav menu navbar-nav pull-right mod-list\">\n",
      "<li class=\"item-102 deeper parent\"><a href=\"/institucional\" >Institucional</a><ul class=\"nav-child unstyled small\"><li class=\"item-153\"><a href=\"/institucional/quem-somos\" >Quem somos</a></li><li class=\"item-160 parent\"><a href=\"/institucional/relacoes-internacionais\" class=\" hide\">Relações Internacionais</a></li><li class=\"item-218 parent\"><a href=\"/institucional/estrutura-administrativa\" >Estrutura Administrativa</a></li><li class=\"item-598\"><a href=\"/institucional/icmcin\" >Centro para Apoio à Inovação</a></li><li class=\"item-219 parent\"><a href=\"/institucional/programa-socioambiental\" >Programa Socioambiental</a></li><li class=\"item-435\"><a href=\"/institucional/portal-da-transparencia\" >Transparência</a></li><li class=\"item-528\"><a href=\"/institucional/ouvidoriaicmc\" >Ouvidoria</a></li></ul></li><li class=\"item-129 deeper parent\"><a href=\"/pessoas\" >Pessoas</a><ul class=\"nav-child unstyled small\"><li class=\"item-303 parent\"><a href=\"/pessoas/docentes\" >Docentes</a></li><li class=\"item-304 parent\"><a href=\"/pessoas/alunos\" >Alunos Graduação</a></li><li class=\"item-305 parent\"><a href=\"/pessoas/alunospos\" >Alunos Pós-Graduação</a></li><li class=\"item-306\"><a href=\"/pessoas/aposentados\" >Aposentados</a></li><li class=\"item-307\"><a href=\"/pessoas/egressos\" >Egressos</a></li><li class=\"item-308 parent\"><a href=\"/pessoas/funcionarios\" >Funcionarios</a></li><li class=\"item-309 parent\"><a href=\"/pessoas/posdoutorandos\" >Pós Doutorandos</a></li><li class=\"item-602 parent\"><a href=\"/pessoas/senior\" >Sênior</a></li></ul></li><li class=\"item-130 deeper parent\"><a href=\"/contato\" class=\" \">Contato</a><ul class=\"nav-child unstyled small\"><li class=\"item-364\"><a href=\"/contato/graduacao\" >Graduação</a></li><li class=\"item-365\"><a href=\"/contato/pos-graduacao\" >Pós-Graduação</a></li><li class=\"item-366\"><a href=\"/contato/ouvidoria\" >Ouvidoria</a></li><li class=\"item-367\"><a href=\"/contato/outros\" >Outros</a></li><li class=\"item-513\"><a href=\"/contato/webmaster\" >Webmaster</a></li></ul></li><li class=\"item-282\"><a href=\"/busca\" class=\"hide\">Busca</a></li><li class=\"item-369\"><a href=\"/erro\" class=\" hide\">Erro</a></li><li class=\"item-483\"><a href=\"/trabalhe-conosco\" class=\" hide\">Trabalhe conosco</a></li><li class=\"item-511\"><a href=\"/teste\" class=\" hide\">Teste</a></li><li class=\"item-535\"><a href=\"/politica-de-privacidade\" class=\" hide\">Política de privacidade</a></li><li class=\"item-552\"><a href=\"/licitacoes\" class=\" hide\">Licitações</a></li><li class=\"item-636\"><a href=\"/institucional/estrutura-administrativa/secao-de-apoio-institucional/solicitacao-de-divulgacao\" class=\" hide\">Divulga</a></li></ul>\n",
      "\n",
      "                        </div>\n",
      "                        <button type=\"button\" class=\"navbar-toggle toggle2\">\n",
      "                            <span class=\"sr-only\">Toggle navigation</span>\n",
      "                            <span class=\"icon-bar\"></span>\n",
      "                            <span class=\"icon-bar\"></span>\n",
      "                            <span class=\"icon-bar\"></span>\n",
      "                            <input type=\"hidden\" id=\"menu2-ativo\" value=\"0\" />\n",
      "                        </button>\n",
      "                        <form action=\"/busca\" method=\"get\" class=\"form-inline\" id=\"busca-topo\">\n",
      "                            <div class=\"input-group navbar-right busca-topo\">\n",
      "                                                                <input id=\"search-searchword\" type=\"text\" name=\"search\" class=\"form-control\" placeholder=\"Buscar...\" maxlength=\"200\" value=\"\" />\n",
      "                                <span class=\"input-group-addon\"><a href=\"javascript:;\" id=\"busca-topo-btn\"><span class=\"glyphicon glyphicon-search\" aria-hidden=\"true\"></span></a></span>\n",
      "                                \n",
      "                            </div>\n",
      "                        </form>\n",
      "                        <div class=\"menu-topo-pra-voce navbar-right\">\n",
      "                            \n",
      "                            <!--<div id=\"google_translate_element\"></div>\n",
      "                            <script type=\"text/javascript\">\n",
      "                                function googleTranslateElementInit() {\n",
      "                                  new google.translate.TranslateElement({pageLanguage: 'pt', includedLanguages: 'en,es', layout: google.translate.TranslateElement.InlineLayout.SIMPLE, gaTrack: true, gaId: 'UA-82192770-1'}, 'google_translate_element');\n",
      "                                }\n",
      "                            </script>\n",
      "                            <script type=\"text/javascript\" src=\"//translate.google.com/translate_a/element.js?cb=googleTranslateElementInit\"></script>-->\n",
      "                        </div>\n",
      "                      \t<div class=\"idioma-topo\">\n",
      "                            <div class=\"mod-languages\">\n",
      "\n",
      "\t<ul class=\"lang-inline\" dir=\"ltr\">\n",
      "\t\t\t\t\t\t\t\t\t<li class=\"lang-active\">\n",
      "\t\t\t<a href=\"https://icmc.usp.br/eventos\">\n",
      "\t\t\t\t\t\t\t\t\t\t\t\t<img src=\"/media/mod_languages/images/pt_br.gif\" alt=\"Português\" title=\"Português\" />\t\t\t\t\t\t\t\t\t\t</a>\n",
      "\t\t\t</li>\n",
      "\t\t\t\t\t\t\t\t<li>\n",
      "\t\t\t<a href=\"/es/eventos\">\n",
      "\t\t\t\t\t\t\t\t\t\t\t\t<img src=\"/media/mod_languages/images/es_es.gif\" alt=\"Español (España)\" title=\"Español (España)\" />\t\t\t\t\t\t\t\t\t\t</a>\n",
      "\t\t\t</li>\n",
      "\t\t\t\t\t\t\t\t<li>\n",
      "\t\t\t<a href=\"/en/eventos\">\n",
      "\t\t\t\t\t\t\t\t\t\t\t\t<img src=\"/media/mod_languages/images/en.gif\" alt=\"English\" title=\"English\" />\t\t\t\t\t\t\t\t\t\t</a>\n",
      "\t\t\t</li>\n",
      "\t\t\t\t</ul>\n",
      "\n",
      "</div>\n",
      "\n",
      "                        </div>\n",
      "                    </div>\n",
      "                </div><!--/.nav-collapse -->\n",
      "            </div>\n",
      "        </div>\n",
      "        \n",
      "                              \n",
      "                              \n",
      "              \n",
      "        <div class=\"breadcrumb\">\n",
      "            <div class=\"container\">\n",
      "                <div class=\"cck_module_breadcrumbs\">\r\n",
      "<a href=\"/\" class=\"pathway\">Principal</a></div>\n",
      "            </div>\n",
      "        </div>\n",
      "      \n",
      "      \t\n",
      "                <div class=\"container conteudo\">\n",
      "            \n",
      "            <div class=\"row\">\n",
      "\n",
      "                                \n",
      "                                <div class=\"col-xs-12 col-md-3 menu_lateral\">\n",
      "                    <h4>\n",
      "                        Veja também                        <div class=\"icon-veja-tambem pull-right\">\n",
      "                            <input type=\"hidden\" id=\"icone-do-menu-lateral\" value=\"0\" />\n",
      "                            <span class=\"caret\"></span>\n",
      "                        </div>\n",
      "                    </h4>\n",
      "                    <ul class=\"nav menu mod-list\">\n",
      "<li class=\"item-183\"><a href=\"/eventos/academicos-e-solenes\" >Acadêmicos e Solenes</a></li><li class=\"item-229\"><a href=\"/eventos/administrativos\" >Administrativos</a></li><li class=\"item-184\"><a href=\"/eventos/cientificos\" >Científicos</a></li><li class=\"item-185\"><a href=\"/eventos/cultura-e-extensao\" >Cultura e Extensão</a></li><li class=\"item-551\"><a href=\"/cultura-e-extensao/cursos-de-extensao\" >Cursos de extensão</a></li><li class=\"item-622\"><a href=\"/eventos/exposicoes\" >Exposições</a></li><li class=\"item-190\"><a href=\"/eventos/programas-de-verao\" >Programas de Verão</a></li><li class=\"item-230 divider\"><span class=\"separator \">Separador</span>\n",
      "</li><li class=\"item-189\"><a href=\"/eventos/palestras-e-seminarios\" >Palestras e Seminários</a></li><li class=\"item-186\"><a href=\"/eventos/defesas-e-qualificacoes\" >Defesas e Qualificações</a></li><li class=\"item-231 divider\"><span class=\"separator \">Separador 2</span>\n",
      "</li><li class=\"item-232\"><a href=\"/eventos/todos\" class=\" hide\">Todos</a></li></ul>\n",
      "\n",
      "                </div>\n",
      "                              \n",
      "                <div class=\"col-xs-12 col-md-9 main\">\n",
      "                  \n",
      "                                                                                            <div class=\"row noticias-eventos noticias-eventos-all\"><div class=\"col-xs-12\"><h1>Próximos Eventos <small><a href=\"/eventos/todos\">Ver todos</a></small></h1><!--<div class=\"form-busca-noticia form-group\"><form class=\"form-inline\" method=\"POST\" name=\"busca-noticia\"><div class=\"input-group\"><input type=\"text\" class=\"form-control\" id=\"busca-noticia\" name=\"busca\" value=\"\" placeholder=\"Procure um evento\" /><input type=\"hidden\" class=\"busca-noticia\" value=\"\" /><button type=\"submit\" class=\"input-group-addon\"><span class=\"glyphicon glyphicon-search\" aria-hidden=\"true\"></span></button></div></form></div>--></div><input type=\"hidden\" name=\"filtro\" id=\"filtro\" value=\"\"><div class=\"bloco\">    <div class=\"col-xs-12 col-sm-6 col-lg-3 quadro\">\n",
      "        <a href=\"http://143.107.182.36/dincon2019/\" target=\"_blank\">\n",
      "            <img class=\"img-responsive\" src=\"/imprensa/4531/_thumb1/dincon.png\" alt=\"Conferência Brasileira de Dinâmica, Controle e Aplicações (DINCON 2019)\">\n",
      "            <div class=\"noticia-home-titulo\">\n",
      "                <h4>Conferência Brasileira de Dinâmica, Controle e Aplicações (DINCON 2019)</h4>\n",
      "                <p>De 25/11/2019 à 27/11/2019</p>\n",
      "            </div>\n",
      "        </a>\n",
      "    </div>    \n",
      "    <div class=\"col-xs-12 col-sm-6 col-lg-3 quadro\">\n",
      "        <a href=\"http://estatisticaverao.icmc.usp.br/\" target=\"_blank\">\n",
      "            <img class=\"img-responsive\" src=\"/imprensa/4456/_thumb1/estatverao2020.jpg\" alt=\"Programa de Verão em Estatística 2020\">\n",
      "            <div class=\"noticia-home-titulo\">\n",
      "                <h4>Programa de Verão em Estatística 2020</h4>\n",
      "                <p>De 02/01/2020 à 12/02/2020</p>\n",
      "            </div>\n",
      "        </a>\n",
      "    </div>    \n",
      "    <div class=\"col-xs-12 col-sm-6 col-lg-3 quadro\">\n",
      "        <a href=\"http://verao.icmc.usp.br/verao2020/\" target=\"_blank\">\n",
      "            <img class=\"img-responsive\" src=\"/imprensa/4612/_thumb1/verao2020.jpg\" alt=\"Programa de Verão em Matemática 2020\">\n",
      "            <div class=\"noticia-home-titulo\">\n",
      "                <h4>Programa de Verão em Matemática 2020</h4>\n",
      "                <p>De 06/01/2020 à 14/02/2020</p>\n",
      "            </div>\n",
      "        </a>\n",
      "    </div>    \n",
      "    <div class=\"col-xs-12 col-sm-6 col-lg-3 quadro\">\n",
      "        <a href=\"http://summer.icmc.usp.br/summers/summer20/\" target=\"_blank\">\n",
      "            <img class=\"img-responsive\" src=\"/imprensa/4454/_thumb1/summer2020.jpg\" alt=\"ICMC Summer Meeting on Differential Equations 2020 Chapter\">\n",
      "            <div class=\"noticia-home-titulo\">\n",
      "                <h4>ICMC Summer Meeting on Differential Equations 2020 Chapter</h4>\n",
      "                <p>De 03/02/2020 à 05/02/2020</p>\n",
      "            </div>\n",
      "        </a>\n",
      "    </div>    \n",
      "    <div class=\"col-xs-12 col-sm-6 col-lg-3 quadro\">\n",
      "        <a href=\"http://wpsm.icmc.usp.br/\" target=\"_blank\">\n",
      "            <img class=\"img-responsive\" src=\"/imprensa/4455/_thumb1/workstat2020.jpg\" alt=\"8th Workshop on Probrabilistic and Statistcal Methods\">\n",
      "            <div class=\"noticia-home-titulo\">\n",
      "                <h4>8th Workshop on Probrabilistic and Statistcal Methods</h4>\n",
      "                <p>De 12/02/2020 à 14/02/2020</p>\n",
      "            </div>\n",
      "        </a>\n",
      "    </div>    \n",
      "</div><div class=\"col-xs-12\"><h1>Palestras e Seminários <small><a href=\"/eventos/palestras-e-seminarios\">Ver todas</a></small></h1></div><div class=\"bloco\">    <div class=\"col-xs-12 col-sm-6 col-lg-3 quadro\">\n",
      "        <a href=\"/eventos/4695-sistema-ceph-conep-etica-na-pesquisa-com-seres-humanos\">\n",
      "            <img class=\"img-responsive\" src=\"/imprensa/_thumb1/icone-banca.jpg\" alt=\"Sistema CEPH-CONEP: Ética na Pesquisa com Seres Humanos\">\n",
      "            <div class=\"noticia-home-titulo\">\n",
      "                <h4>Sistema CEPH-CONEP: Ética na Pesquisa com Seres Humanos</h4>\n",
      "                <p>21/11/2019</p>\n",
      "            </div>\n",
      "        </a>\n",
      "    </div>    \n",
      "    <div class=\"col-xs-12 col-sm-6 col-lg-3 quadro\">\n",
      "        <a href=\"/eventos/4674-partition-markov-model-for-multiple-processes\">\n",
      "            <img class=\"img-responsive\" src=\"/imprensa/_thumb1/icone-banca.jpg\" alt=\"Partition Markov model for multiple processes\">\n",
      "            <div class=\"noticia-home-titulo\">\n",
      "                <h4>Partition Markov model for multiple processes</h4>\n",
      "                <p>22/11/2019</p>\n",
      "            </div>\n",
      "        </a>\n",
      "    </div>    \n",
      "    <div class=\"col-xs-12 col-sm-6 col-lg-3 quadro\">\n",
      "        <a href=\"/eventos/4721-uma-visao-do-mercado-de-trabalho-para-graduados-em-computacao\">\n",
      "            <img class=\"img-responsive\" src=\"/imprensa/_thumb1/icone-banca.jpg\" alt=\"Uma Visão do Mercado de Trabalho para Graduados em Computação\">\n",
      "            <div class=\"noticia-home-titulo\">\n",
      "                <h4>Uma Visão do Mercado de Trabalho para Graduados em Computação</h4>\n",
      "                <p>27/11/2019</p>\n",
      "            </div>\n",
      "        </a>\n",
      "    </div>    \n",
      "    <div class=\"col-xs-12 col-sm-6 col-lg-3 quadro\">\n",
      "        <a href=\"/eventos/4722-statistical-estimation-of-the-structural-similarity-index-for-image-quality-assessment\">\n",
      "            <img class=\"img-responsive\" src=\"/imprensa/_thumb1/icone-banca.jpg\" alt=\"Statistical estimation of the structural similarity index for image quality assessment\">\n",
      "            <div class=\"noticia-home-titulo\">\n",
      "                <h4>Statistical estimation of the structural similarity index for image quality assessment</h4>\n",
      "                <p>03/12/2019</p>\n",
      "            </div>\n",
      "        </a>\n",
      "    </div>    \n",
      "    <div class=\"col-xs-12 col-sm-6 col-lg-3 quadro\">\n",
      "        <a href=\"/eventos/4706-a-estrategia-de-gestao-para-o-avanco-continuo-da-educacao-com-foco-na-aprendizagem-dos-estudantes-e-sua-permanencia-na-escola\">\n",
      "            <img class=\"img-responsive\" src=\"/imprensa/_thumb1/icone-banca.jpg\" alt=\"A estratégia de gestão para o avanço contínuo da educação, com foco na aprendizagem dos estudantes e sua permanên...\">\n",
      "            <div class=\"noticia-home-titulo\">\n",
      "                <h4>A estratégia de gestão para o avanço contínuo da educação, com foco na aprendizagem dos estudantes e sua permanên...</h4>\n",
      "                <p>05/12/2019</p>\n",
      "            </div>\n",
      "        </a>\n",
      "    </div>    \n",
      "</div><div class=\"col-xs-12\"><h1>Defesas e Qualificações <small><a href=\"/eventos/defesas-e-qualificacoes\">Ver todas</a></small></h1></div><div class=\"bloco defesas\">Detalhes</div></div><input type=\"hidden\" name=\"ultimo\" id=\"ultimo\" value=\"12\" />\n",
      "<script src=\"/templates/icmc2015/js/jquery.min.js\"></script>\n",
      "<script>\n",
      "    $(document).ready(function () {\n",
      "        $('.mais-noticias').on('click', function(){\n",
      "            $(this).html('Carregando...');\n",
      "            carregar();\n",
      "            $(this).blur();\n",
      "        });\n",
      "                $.post(\"/templates/icmc2015/php/defesas.php\", { carregar: true, limite: ' limit 0,4' }).done(function(data) {\n",
      "            var $defesas;\n",
      "            if (data === 'acabou') {\n",
      "                $defesas = '<div class=\"col-xs-12\"><div class=\"alert alert-info\">Não foi encontrado nenhuma defesa ou qualificação.</div></div>';\n",
      "            } else {\n",
      "                $defesas = data;\n",
      "            }\n",
      "            $('.defesas').html($defesas);\n",
      "        });\n",
      "                function carregar() {\n",
      "            $filtro = $(\"#filtro\").val();\n",
      "            $ultimo = $(\"#ultimo\").val();\n",
      "            $busca  = $(\".busca-noticia\").val();\n",
      "            $.post(\"/templates/icmc2015/php/eventos.php\", { carregar: true, filtro: $filtro, busca: $busca, ultimo: $ultimo }).done(function(data) {\n",
      "                if (data === 'acabou') {\n",
      "                    $(\".mais-noticias\").html('Não há mais eventos');\n",
      "                    $(\".mais-noticias\").attr('disabled', 'disabled');\n",
      "                    $(\".mais-noticias\").removeClass('mais-noticias');\n",
      "                } else {\n",
      "                    $(\".eventos-realizados\").append(data);\n",
      "                    $(\"#ultimo\").val(parseInt($(\"#ultimo\").val())+parseInt(12));\n",
      "                    $(\".mais-noticias\").html('Carregar mais eventos');\n",
      "                }\n",
      "            });\n",
      "        }\n",
      "    });\n",
      "</script>\n",
      "                                                                \n",
      "                </div>\n",
      "                \n",
      "                <div class=\"col-xs-12 share\">\n",
      "                    <div class=\"share-title\">Compartilhe</div>\n",
      "                    <!-- Go to www.addthis.com/dashboard to customize your tools -->\n",
      "                    <div class=\"botoes\">\n",
      "                        <div class=\"addthis_sharing_toolbox\"></div>\n",
      "                    </div>\n",
      "                </div>\n",
      "                    \n",
      "                              \n",
      "            </div>\n",
      "            \n",
      "                  \n",
      "          \n",
      "            <div class=\"row footer\">\n",
      "              \t<div class=\"col-xs-12 col-md-6\">\n",
      "                  <div class=\"footer-icon\">\n",
      "                    \t<span class=\"glyphicon glyphicon-globe\" aria-hidden=\"true\"></span>\n",
      "                  </div>\n",
      "                  <p>\n",
      "                    UNIVERSIDADE DE SÃO PAULO<br />\n",
      "                    INSTITUTO DE CIÊNCIAS MATEMÁTICAS E DE COMPUTAÇÃO<br />\n",
      "                                        <span class=\"footer-help\">Avenida Trabalhador São-carlense, 400 - Centro<br />\n",
      "                      CEP: 13566-590 - São Carlos - SP</span>\n",
      "                                      </p>\n",
      "              \t</div>\n",
      "              \n",
      "              \t<div class=\"col-xs-12 col-md-3\">\n",
      "                    <ul class=\"menu\">\n",
      "                        <li class=\"item-148\">\n",
      "                            <div class=\"footer-icon footer-icon-mail\">\n",
      "                                <span class=\"glyphicon glyphicon-earphone\" aria-hidden=\"true\"></span>\n",
      "                            </div>\n",
      "                            <p class=\"footer-help\">TELEFONE: <br /> +55 (16) 3373-9700</p>\n",
      "                        </li>\n",
      "                                                <li class=\"item-148\">\n",
      "                            <div class=\"footer-icon footer-icon-mail\">\n",
      "                                <span class=\"glyphicon glyphicon-th-list\" aria-hidden=\"true\"></span>\n",
      "                            </div>\n",
      "                            <a href=\"https://web.icmc.usp.br/SVAPADM/telefones.pdf\" target=\"_blank\">Lista Telefônica</a>\n",
      "                        </li>\n",
      "                                            </ul>\n",
      "                </div>\n",
      "              \n",
      "              \t<div class=\"col-xs-12 col-md-3\">\n",
      "                    <ul class=\"menu\">\n",
      "                                                <li class=\"item-148\">\n",
      "                            <div class=\"footer-icon footer-icon-mail\">\n",
      "                                <span class=\"glyphicon glyphicon-envelope\" aria-hidden=\"true\"></span>\n",
      "                            </div>\n",
      "                            <a href=\"http://email.usp.br\" target=\"_blank\">GSuite [email.usp.br]</a>\n",
      "                        </li>\n",
      "                                                <li class=\"item-148\">\n",
      "                            <div class=\"footer-icon footer-icon-mail\">\n",
      "                                <span class=\"glyphicon glyphicon-lock\" aria-hidden=\"true\"></span>\n",
      "                            </div>\n",
      "                            <a href=\"/politica-de-privacidade\">Política de Privacidade</a>                        </li>\n",
      "                    </ul>\n",
      "                  \n",
      "              \t</div>\n",
      "            </div>\n",
      "          \n",
      "            <div class=\"row social\">\n",
      "                                <div class=\"col-xs-12 col-sm-3 col-md-3\"><p class=\"text-center\"><a href=\"http://sistemas.icmc.usp.br\" target=\"_blank\"><img src=\"/templates/icmc2015/img/sistemas.gif\" /><br />SISTEMAS</a></p></div>\n",
      "                <div class=\"col-xs-12 col-sm-3 col-md-3\"><p class=\"text-center\"><a href=\"/institucional/estrutura-administrativa/assistencia-tecnica-academica/concursos-e-processos-seletivos\"><img src=\"/templates/icmc2015/img/oportunidades.png\" /><br />TRABALHE CONOSCO</a></p></div>\n",
      "                <div class=\"col-xs-12 col-sm-3 col-md-3\"><p class=\"text-center\"><a href=\"/institucional/estrutura-administrativa/secao-de-apoio-institucional\"><img src=\"/templates/icmc2015/img/imprensa.gif\" /><br />IMPRENSA</a></p></div>\n",
      "                <div class=\"col-xs-12 col-sm-3 col-md-3\"><p class=\"text-center\"><a href=\"http://divulgavagas.icmc.usp.br\" target=\"_blank\"><img src=\"/templates/icmc2015/img/divulgue.png\" /><br />DIVULGUE SUA VAGA</a></p></div>\n",
      "                                <div class=\"col-xs-12 conect-us pull-right\">\n",
      "                    <h3>CONECTE-SE COM A GENTE \n",
      "                        <div> &nbsp; \n",
      "                            <!-- Go to www.addthis.com/dashboard to customize your tools -->\n",
      "                            <div class=\"addthis_horizontal_follow_toolbox\"></div>\n",
      "                            <!--<a href=\"http://www.youtube.com/user/icmcusp\" target=\"_blank\"><span class=\"icone-social youtube\"></span></a>\n",
      "                            <a href=\"http://www.facebook.com/icmc.usp\" target=\"_blank\"><span class=\"icone-social facebook\"></span></a>\n",
      "                            <a href=\"https://twitter.com/icmc_usp\" target=\"_blank\"><span class=\"icone-social twitter\"></span></a>-->\n",
      "                        </div>\n",
      "                    </h3>\n",
      "                </div>\n",
      "            </div>\n",
      "          \n",
      "            <div class=\"row rodape\">\n",
      "                <div class=\"col-xs-12\">\n",
      "                    <p>\n",
      "                        &copy; 2019 Instituto de Ciências Matemáticas e de Computação                        <!--&middot; <a href=\"#\"><a href=\"/politica-de-privacidade\">Política de Privacidade</a></a>\n",
      "                        &middot; <a href=\"#\">Mapa do site</a>\n",
      "                        &middot; <a href=\"#\">Contate-nos</a>\n",
      "                        &middot; <a href=\"#\">Onde estamos</a>-->\n",
      "                                                <span class=\"pull-right hidden-xs\">\n",
      "                            <a href=\"http://icmc.usp.br/sti\">Seção Técnica de Informática</a>\n",
      "                        </span>\n",
      "                                            </p>\n",
      "                </div>\n",
      "            </div>\n",
      "\n",
      "            <p class=\"back-to-top pull-right\"><a href=\"#\"><span class=\"glyphicon glyphicon-circle-arrow-up\" aria-hidden=\"true\"></span></a></p>\n",
      "        </div><!-- /.container -->\n",
      "\n",
      "        <!-- Go to www.addthis.com/dashboard to customize your tools -->\n",
      "        <script type=\"text/javascript\" src=\"//s7.addthis.com/js/300/addthis_widget.js#pubid=ra-50f937df165ddc56\" async=\"async\"></script>\n",
      "        \n",
      "        <!-- Google Analytics -->\n",
      "        <script>\n",
      "            (function(i,s,o,g,r,a,m){i['GoogleAnalyticsObject']=r;i[r]=i[r]||function(){\n",
      "            (i[r].q=i[r].q||[]).push(arguments)},i[r].l=1*new Date();a=s.createElement(o),\n",
      "            m=s.getElementsByTagName(o)[0];a.async=1;a.src=g;m.parentNode.insertBefore(a,m)\n",
      "            })(window,document,'script','https://www.google-analytics.com/analytics.js','ga');\n",
      "\n",
      "            ga('create', 'UA-82192770-1', 'auto');\n",
      "            ga('send', 'pageview');\n",
      "        </script>\n",
      "        <!-- Google Analytics -->\n",
      "\n",
      "        <!-- Bootstrap core JavaScript\n",
      "        ================================================== -->\n",
      "        <!-- Placed at the end of the document so the pages load faster -->\n",
      "        <script src=\"/templates/icmc2015/js/bootstrap.min.js\"></script>\n",
      "        <script src=\"/templates/icmc2015/js/icmc.js\"></script>\n",
      "        <script src=\"/templates/icmc2015/js/pessoas.js\"></script>\n",
      "        <script src=\"/templates/icmc2015/js/flexisel.js\"></script>\n",
      "    </body>\n",
      "</html>\n",
      "\n"
     ]
    }
   ],
   "source": [
    "print(html_site)"
   ]
  },
  {
   "cell_type": "markdown",
   "metadata": {},
   "source": [
    "Agora podemos trabalhar com esse código normalmente no BeautifulSoup, já que ele é simplesmente uma string."
   ]
  },
  {
   "cell_type": "code",
   "execution_count": 16,
   "metadata": {
    "scrolled": true
   },
   "outputs": [],
   "source": [
    "soup = BeautifulSoup(html_site)"
   ]
  },
  {
   "cell_type": "markdown",
   "metadata": {},
   "source": [
    "Inspecionando os elementos do site conseguimos buscar conteúdos desejados"
   ]
  },
  {
   "cell_type": "code",
   "execution_count": 17,
   "metadata": {},
   "outputs": [
    {
     "name": "stdout",
     "output_type": "stream",
     "text": [
      "Conferência Brasileira de Dinâmica, Controle e Aplicações (DINCON 2019) ==> De 25/11/2019 à 27/11/2019\n",
      "----------\n",
      "Programa de Verão em Estatística 2020 ==> De 02/01/2020 à 12/02/2020\n",
      "----------\n",
      "Programa de Verão em Matemática 2020 ==> De 06/01/2020 à 14/02/2020\n",
      "----------\n",
      "ICMC Summer Meeting on Differential Equations 2020 Chapter ==> De 03/02/2020 à 05/02/2020\n",
      "----------\n",
      "8th Workshop on Probrabilistic and Statistcal Methods ==> De 12/02/2020 à 14/02/2020\n",
      "----------\n",
      "Sistema CEPH-CONEP: Ética na Pesquisa com Seres Humanos ==> 21/11/2019\n",
      "----------\n",
      "Partition Markov model for multiple processes ==> 22/11/2019\n",
      "----------\n",
      "Uma Visão do Mercado de Trabalho para Graduados em Computação ==> 27/11/2019\n",
      "----------\n",
      "Statistical estimation of the structural similarity index for image quality assessment ==> 03/12/2019\n",
      "----------\n",
      "A estratégia de gestão para o avanço contínuo da educação, com foco na aprendizagem dos estudantes e sua permanên... ==> 05/12/2019\n",
      "----------\n"
     ]
    }
   ],
   "source": [
    "for evento in soup('div', {'class': 'noticia-home-titulo'}):\n",
    "    titulo = evento.find('h4').text\n",
    "    data = evento.find('p').text\n",
    "    print(f'{titulo} ==> {data}')\n",
    "    print(5*'--')"
   ]
  }
 ],
 "metadata": {
  "kernelspec": {
   "display_name": "Python 3",
   "language": "python",
   "name": "python3"
  },
  "language_info": {
   "codemirror_mode": {
    "name": "ipython",
    "version": 3
   },
   "file_extension": ".py",
   "mimetype": "text/x-python",
   "name": "python",
   "nbconvert_exporter": "python",
   "pygments_lexer": "ipython3",
   "version": "3.6.5rc1"
  },
  "toc": {
   "base_numbering": 1,
   "nav_menu": {},
   "number_sections": true,
   "sideBar": true,
   "skip_h1_title": false,
   "title_cell": "Table of Contents",
   "title_sidebar": "Contents",
   "toc_cell": false,
   "toc_position": {},
   "toc_section_display": true,
   "toc_window_display": false
  }
 },
 "nbformat": 4,
 "nbformat_minor": 2
}

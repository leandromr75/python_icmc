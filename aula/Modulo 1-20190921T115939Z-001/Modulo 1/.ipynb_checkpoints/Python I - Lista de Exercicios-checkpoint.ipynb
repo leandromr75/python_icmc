{
 "cells": [
  {
   "cell_type": "markdown",
   "metadata": {},
   "source": [
    "# <span style=\"color:blue\">Programação Python para Ciência de Dados</span>\n",
    "\n",
    "## <span style=\"color:blue\">Prática Módulo 1: Python I</span>\n",
    "\n",
    "Nesses exercícios estaremos lidando com dados reais de gastos de deputados. Temos informações referentes a diversos pedidos de reembolso, tendo o nome do deputado, seu estado, seu partido e o valor do reembolso solicitado.\n",
    "\n",
    "\n",
    "Estaremos usando uma versão tratada da seguinte base de dados:\n",
    "\n",
    "https://www.kaggle.com/epattaro/brazils-house-of-deputies-reimbursements"
   ]
  },
  {
   "cell_type": "markdown",
   "metadata": {},
   "source": [
    "Ignore o código a seguir por enquanto, estamos somente carregando os dados. Logo veremos tudo que é necessário para entender como ele funciona."
   ]
  },
  {
   "cell_type": "code",
   "execution_count": 1,
   "metadata": {},
   "outputs": [],
   "source": [
    "def carregar_dados():\n",
    "    \"\"\"\n",
    "    Função que carrega a base de dados como uma lista de tuplas\n",
    "    \"\"\"\n",
    "    with open('gastos_deputados.csv', 'r',encoding = 'utf-8') as f:\n",
    "        content = f.readlines()\n",
    "    content = [x.strip() for x in content]\n",
    "    data = [line.split(',') for line in content]\n",
    "    for line in data:\n",
    "        line[-1] = float(line[-1])\n",
    "    data = [tuple(line) for line in data]\n",
    "\n",
    "    return data"
   ]
  },
  {
   "cell_type": "markdown",
   "metadata": {},
   "source": [
    "O código abaixo carrega os dados que iremos trabalhar. Eles estão organizados em uma lista de tuplas, onde cada tupla contém as informações de um reembolso. Como a seguir:\n",
    "\n",
    "```python\n",
    "dados = [(NOME, ESTADO, PARTIDO, VALOR),\n",
    "         (NOME, ESTADO, PARTIDO, VALOR),\n",
    "         ...\n",
    "         (NOME, ESTADO, PARTIDO, VALOR)]\n",
    "```"
   ]
  },
  {
   "cell_type": "code",
   "execution_count": 3,
   "metadata": {},
   "outputs": [],
   "source": [
    "dados = carregar_dados()"
   ]
  },
  {
   "cell_type": "markdown",
   "metadata": {},
   "source": [
    "### Perguntas\n",
    "#### 1- Qual é o valor total solicitado em reembolsos?\n",
    "#### 2- Qual é o valor médio solicitado em reembolsos?\n",
    "#### 3- Qual estado possui um valor total maior em reembolsos, GO ou MT?\n",
    "#### 4- Qual região possui um valor médio menor em reembolsos, sul ou sudeste?\n",
    "#### 6- Qual o total de pedidos realizados por deputados do DEM-RJ?\n",
    "#### 7- Crie uma lista apenas com os pedidos maiores que 500 reais\n",
    "#### 8- Qual é o número de pedidos realizados por cada partido?\n",
    "#### 9- Liste todos os partidos presentes na base (dica: pesquise pelo tipo de dados *set*)\n",
    "#### 10 **- Liste os deputados que possuem solicitações de reembolso maiores que 10 mil reais  \n",
    "\n",
    "** faça upload de um notebook com a solução da questão 10 no google drive no diretório: <br><br>\n",
    "[http://tiny.cc/dsvycz](http://tiny.cc/dsvycz)\n",
    "\n",
    "O nome do notebook deve ser: <br><br>\n",
    "_seuprimeironome-seuultimonome-modulo1.ipynb_\n",
    "\n",
    "Por exemplo: _gustavo-nonato-modulo1.ipynb_\n"
   ]
  }
 ],
 "metadata": {
  "kernelspec": {
   "display_name": "Python 3",
   "language": "python",
   "name": "python3"
  },
  "language_info": {
   "codemirror_mode": {
    "name": "ipython",
    "version": 3
   },
   "file_extension": ".py",
   "mimetype": "text/x-python",
   "name": "python",
   "nbconvert_exporter": "python",
   "pygments_lexer": "ipython3",
   "version": "3.7.3"
  },
  "toc": {
   "base_numbering": 1,
   "nav_menu": {},
   "number_sections": true,
   "sideBar": true,
   "skip_h1_title": false,
   "title_cell": "Table of Contents",
   "title_sidebar": "Contents",
   "toc_cell": false,
   "toc_position": {},
   "toc_section_display": true,
   "toc_window_display": false
  }
 },
 "nbformat": 4,
 "nbformat_minor": 2
}

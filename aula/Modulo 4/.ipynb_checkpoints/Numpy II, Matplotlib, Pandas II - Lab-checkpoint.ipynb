{
 "cells": [
  {
   "cell_type": "markdown",
   "metadata": {},
   "source": [
    "# <span style=\"color:blue\">Programação Python para Ciência de Dados</span>\n",
    "\n",
    "## <span style=\"color:blue\">Laboratório 4: Numpy parte II, Matplotlib, Pandas parte II</span>\n",
    "---\n"
   ]
  },
  {
   "cell_type": "markdown",
   "metadata": {},
   "source": [
    "Nesse laboratório vamos trabalhar com um conjunto de dados **ESC2013\\_RMSP\\_CEM.csv** que contém informações sobre escolas de ensino médio de São Paulo.\n"
   ]
  },
  {
   "cell_type": "markdown",
   "metadata": {},
   "source": [
    "**0)**\n",
    "\n",
    "**a)** Carregue os pacotes: `numpy`, `pandas` e `matplotlib` "
   ]
  },
  {
   "cell_type": "code",
   "execution_count": null,
   "metadata": {},
   "outputs": [],
   "source": [
    "# seu código aqui"
   ]
  },
  {
   "cell_type": "code",
   "execution_count": null,
   "metadata": {},
   "outputs": [],
   "source": [
    "# Utilize esse comando para mostrar mais colunas em um dataset:\n",
    "pd.set_option('display.max_columns', 50)\n",
    "\n",
    "# E esse para mostrar plots maiores:\n",
    "plt.rcParams['figure.figsize'] = (10.0, 8.0)"
   ]
  },
  {
   "cell_type": "code",
   "execution_count": null,
   "metadata": {},
   "outputs": [],
   "source": [
    "# Algumas definições de arquivos\n",
    "DATA_DIR = \"EnsinoMedio/\"\n",
    "schools_file = DATA_DIR + \"ESC2013_RMSP_CEM.csv\""
   ]
  },
  {
   "cell_type": "markdown",
   "metadata": {},
   "source": [
    "**b)** Leio o arquivo definido acima com pandas, armazene em uma variável chamada `schools` e mostre as primeiras 5 linhas do DataFrame:"
   ]
  },
  {
   "cell_type": "code",
   "execution_count": null,
   "metadata": {},
   "outputs": [],
   "source": [
    "# seu código aqui"
   ]
  },
  {
   "cell_type": "markdown",
   "metadata": {},
   "source": [
    "Esse dataset contêm diversas informações sobre escolas de ensino médio na região metropolitana de São Paulo. Para saber o que cada coluna significa, refira-se ao arquivo `DicionarioESC.pdf`."
   ]
  },
  {
   "cell_type": "markdown",
   "metadata": {},
   "source": [
    "**1)** \n",
    "\n",
    "**a)** Existem muitos valores faltantes na conjunto de dados? Se sim, imprima a coluna com mais valores faltantes e o número de valores faltantes em tal coluna.\n",
    "\n",
    "**DICA**: Utilize os métodos do _pandas_ [.isna()](https://pandas.pydata.org/pandas-docs/stable/reference/api/pandas.DataFrame.isna.html), [.idxmax()](https://pandas.pydata.org/pandas-docs/stable/reference/api/pandas.DataFrame.idxmax.html) (que retorna o indíce de uma série onde o valor máximo ocorre) e o método .max()."
   ]
  },
  {
   "cell_type": "code",
   "execution_count": null,
   "metadata": {},
   "outputs": [],
   "source": [
    "# seu código aqui"
   ]
  },
  {
   "cell_type": "markdown",
   "metadata": {},
   "source": [
    "**b)** Quantas colunas possuem 1 ou mais valores nulo?"
   ]
  },
  {
   "cell_type": "code",
   "execution_count": null,
   "metadata": {},
   "outputs": [],
   "source": [
    "# seu código aqui"
   ]
  },
  {
   "cell_type": "markdown",
   "metadata": {},
   "source": [
    "**c)** Existem entradas duplicadas no conjunto de dados?"
   ]
  },
  {
   "cell_type": "code",
   "execution_count": null,
   "metadata": {},
   "outputs": [],
   "source": [
    "# seu código aqui"
   ]
  },
  {
   "cell_type": "markdown",
   "metadata": {},
   "source": [
    "**2)**\n",
    "\n",
    "**a)** Faça um plot onde cada escola é um ponto, com o eixo X represetando a longitude e o eixo y a lattitude onde a escola está localizada (colunas \"LONGITUDE\" e \"LATITUDE\" do DataFrame)."
   ]
  },
  {
   "cell_type": "code",
   "execution_count": null,
   "metadata": {},
   "outputs": [],
   "source": [
    "# seu código aqui"
   ]
  },
  {
   "cell_type": "markdown",
   "metadata": {},
   "source": [
    "Observe que existe uma escola cuja longitude é maior que todas as outras.\n",
    "\n",
    "**b)** Repita o plote acima, mas indicando com uma seta a escola com maior longitude. Sem utilizar o método .max, qual o nome (coluna `NOMEESC`) dessa escola?\n",
    "\n",
    "**DICA**: No python, podemos usar a notação `3.4e7` para representar o número $ 3.4^{10}$. "
   ]
  },
  {
   "cell_type": "code",
   "execution_count": null,
   "metadata": {},
   "outputs": [],
   "source": [
    "# seu código aqui"
   ]
  },
  {
   "cell_type": "markdown",
   "metadata": {},
   "source": [
    "**3)**\n",
    "\n",
    "A coluna `COD_DEP` representa o código da dependência administrativa da escola (1 - Federal, 2 - Estadual, 3 - Municipal, 4 - Privada).\n",
    "\n",
    "Faça um gráfico de barras mostrando a quantidade de escolas em cada uma das categorias.\n",
    "\n",
    "**DICA**: Utilize o método `.value_counts()` do Pandas e `.bar()` do matplotlib"
   ]
  },
  {
   "cell_type": "markdown",
   "metadata": {},
   "source": [
    "O Pandas também oferece recursos para visualização que muitas vezes são mais simples de utilizar. Por exemplo, o exemplo acima se resume a uma linha de código utilizando o comando`.hist()` do pandas."
   ]
  },
  {
   "cell_type": "markdown",
   "metadata": {},
   "source": [
    "## Dados faltantes\n",
    "\n",
    "Vamos exercitar algumas alternativas para tratar dados faltantes"
   ]
  },
  {
   "cell_type": "markdown",
   "metadata": {},
   "source": [
    "**4)**\n",
    "\n",
    "**a)** O conjunto de dados **ESC2013_RMSP_CEM.csv** possui muitos dados faltantes. Se adotarmos a estratégia de remover todas as linhas que possui 1 ou mais valores faltantes, qual a porcentagem dos dados que será removida?"
   ]
  },
  {
   "cell_type": "code",
   "execution_count": null,
   "metadata": {},
   "outputs": [],
   "source": [
    "# seu código aqui"
   ]
  },
  {
   "cell_type": "markdown",
   "metadata": {},
   "source": [
    "**b)** Remover linhas com valores faltantes não é uma alternativa viável. Vamos tentar outra abordagem:\n",
    "\n",
    "- Considere apenas as **colunas** que possuem menos que 7656 (cerca de 70% do nosso conjunto de dados) de nulos.\n",
    "- Elimine todas as linhas em que aparecem 1 ou mais valores faltantes essas colunas.\n",
    "- Qual a porcentagem de dados que restam no DataFrame?"
   ]
  },
  {
   "cell_type": "code",
   "execution_count": null,
   "metadata": {},
   "outputs": [],
   "source": [
    "# seu código aqui"
   ]
  },
  {
   "cell_type": "markdown",
   "metadata": {},
   "source": [
    "**c)** Vamos considerar uma 3 abordagem:\n",
    "\n",
    "- Preencha os valores faltantes das colunas com mais que 7656 faltantes com a moda dos valores da coluna.\n",
    "- Salve esse resultado em um DataFrame chamado \"schools_filled\"\n",
    "\n",
    "**Dica**: Utilize o método `.mode()` do Pandas. Note que a função da moda pode retornar vários valores caso haja um empate para a moda."
   ]
  },
  {
   "cell_type": "code",
   "execution_count": null,
   "metadata": {},
   "outputs": [],
   "source": [
    "# seu código aqui"
   ]
  },
  {
   "cell_type": "markdown",
   "metadata": {},
   "source": [
    "\n",
    "---\n"
   ]
  },
  {
   "cell_type": "markdown",
   "metadata": {},
   "source": [
    "## Utilizando mais dados\n",
    "\n",
    "Vamos agora incluir mais um arquivo na análise:"
   ]
  },
  {
   "cell_type": "code",
   "execution_count": null,
   "metadata": {},
   "outputs": [],
   "source": [
    "# Algumas definições de arquivos\n",
    "ENEM_FILE = DATA_DIR + \"ENEM2015.csv\""
   ]
  },
  {
   "cell_type": "markdown",
   "metadata": {},
   "source": [
    "**5)**\n",
    "\n",
    "**a)** Leio o arquivo definido acima com pandas, armazene em um DataFrame chamado `enem` e mostre suas primeiras 5 linhas:"
   ]
  },
  {
   "cell_type": "code",
   "execution_count": null,
   "metadata": {},
   "outputs": [],
   "source": [
    "# seu código aqui"
   ]
  },
  {
   "cell_type": "markdown",
   "metadata": {},
   "source": [
    "**b)** Junte o DataFrame `enem` com o dataframe `schools_filled`, utilizando as colunas \"CODESC\" e \"Código da Entidade\" como chave, através da função [**.merge**](https://pandas.pydata.org/pandas-docs/stable/reference/api/pandas.DataFrame.merge.html).\n",
    "\n",
    "Utilize a estratégia de só incluir os exemplos quando aparece em ambos os DataFrames."
   ]
  },
  {
   "cell_type": "code",
   "execution_count": null,
   "metadata": {},
   "outputs": [],
   "source": [
    "# seu código aqui"
   ]
  },
  {
   "cell_type": "markdown",
   "metadata": {},
   "source": [
    "**c)** Quais são os possíveis valores na coluna \"INSE_CL\" (Classificação do Indicador de Nível Socioeconômico) ?"
   ]
  },
  {
   "cell_type": "code",
   "execution_count": null,
   "metadata": {},
   "outputs": [],
   "source": [
    "# seu código aqui"
   ]
  },
  {
   "cell_type": "markdown",
   "metadata": {},
   "source": [
    "**d)** Troque os valores categóricos pelos valores: Medio = 0, Medio Alto = 1, Alto = 2, Muito Alto = 3\n",
    "\n",
    "Substitua a coluna original."
   ]
  },
  {
   "cell_type": "code",
   "execution_count": null,
   "metadata": {},
   "outputs": [],
   "source": [
    "# seu código aqui"
   ]
  }
 ],
 "metadata": {
  "kernelspec": {
   "display_name": "Python 3",
   "language": "python",
   "name": "python3"
  },
  "language_info": {
   "codemirror_mode": {
    "name": "ipython",
    "version": 3
   },
   "file_extension": ".py",
   "mimetype": "text/x-python",
   "name": "python",
   "nbconvert_exporter": "python",
   "pygments_lexer": "ipython3",
   "version": "3.7.3"
  },
  "toc": {
   "base_numbering": 1,
   "nav_menu": {},
   "number_sections": true,
   "sideBar": true,
   "skip_h1_title": false,
   "title_cell": "Table of Contents",
   "title_sidebar": "Contents",
   "toc_cell": false,
   "toc_position": {},
   "toc_section_display": true,
   "toc_window_display": false
  }
 },
 "nbformat": 4,
 "nbformat_minor": 2
}

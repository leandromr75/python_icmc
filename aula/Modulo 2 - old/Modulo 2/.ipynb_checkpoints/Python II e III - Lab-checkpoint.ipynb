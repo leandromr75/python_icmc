{
 "cells": [
  {
   "cell_type": "markdown",
   "metadata": {},
   "source": [
    "# Programação Python para Ciência de Dados\n",
    "\n",
    "## Exercícios Python II e III"
   ]
  },
  {
   "cell_type": "markdown",
   "metadata": {},
   "source": [
    "#### 1) Refaça a lista de pessoas, coloque 'Super-Gustavo' no início da lista.<br> \n",
    "OBS: Existem muitas maneiras de realizar esta tarefa."
   ]
  },
  {
   "cell_type": "code",
   "execution_count": 28,
   "metadata": {},
   "outputs": [],
   "source": [
    "pessoas = ['Coelho-Bruno', 'Sutter-Gustavo', 'Veiga-Tobias', 'Super-Gustavo']"
   ]
  },
  {
   "cell_type": "code",
   "execution_count": 17,
   "metadata": {},
   "outputs": [
    {
     "data": {
      "text/plain": [
       "['Super-Gustavo', 'Coelho-Bruno', 'Sutter-Gustavo', 'Veiga-Tobias']"
      ]
     },
     "execution_count": 17,
     "metadata": {},
     "output_type": "execute_result"
    }
   ],
   "source": [
    "pessoas.insert(0,pessoas.pop())\n",
    "pessoas"
   ]
  },
  {
   "cell_type": "markdown",
   "metadata": {},
   "source": [
    "#### 3) Encontre o nome mais curto e o nome mais longo da lista. Encontre duas formas de realizar a tarefa e tente imaginar qual é a mais eficiente."
   ]
  },
  {
   "cell_type": "code",
   "execution_count": 19,
   "metadata": {},
   "outputs": [
    {
     "name": "stdout",
     "output_type": "stream",
     "text": [
      "Coelho-Bruno Sutter-Gustavo\n"
     ]
    }
   ],
   "source": [
    "# ordenado = sorted(pessoas, key = len)\n",
    "menor = min(pessoas, key = len)\n",
    "maior = max(pessoas, key = len)\n",
    "print(menor, maior)"
   ]
  },
  {
   "cell_type": "markdown",
   "metadata": {},
   "source": [
    "#### 4) Modifique a lista `pessoas` adicionando a substring 'er' no final de cada entrada. Para isso utilize o comando append."
   ]
  },
  {
   "cell_type": "code",
   "execution_count": 20,
   "metadata": {},
   "outputs": [
    {
     "data": {
      "text/plain": [
       "['Super-Gustavoer', 'Coelho-Brunoer', 'Sutter-Gustavoer', 'Veiga-Tobiaser']"
      ]
     },
     "execution_count": 20,
     "metadata": {},
     "output_type": "execute_result"
    }
   ],
   "source": [
    "out = []\n",
    "for p in pessoas:\n",
    "    out.append(p + 'er')\n",
    "out"
   ]
  },
  {
   "cell_type": "markdown",
   "metadata": {},
   "source": [
    "#### 5) Modifique a lista `pessoas` adicionando a substring 'er' no final de cada entrada. Para isso utilize  list comprehension."
   ]
  },
  {
   "cell_type": "code",
   "execution_count": 21,
   "metadata": {},
   "outputs": [
    {
     "data": {
      "text/plain": [
       "['Super-Gustavoer', 'Coelho-Brunoer', 'Sutter-Gustavoer', 'Veiga-Tobiaser']"
      ]
     },
     "execution_count": 21,
     "metadata": {},
     "output_type": "execute_result"
    }
   ],
   "source": [
    "[p + 'er' for p in pessoas]"
   ]
  },
  {
   "cell_type": "markdown",
   "metadata": {},
   "source": [
    "#### 6) Crie um dicionário cujas chaves são as strings criadas no exercício anterior e como valor o comprimento das strings."
   ]
  },
  {
   "cell_type": "code",
   "execution_count": 30,
   "metadata": {},
   "outputs": [
    {
     "data": {
      "text/plain": [
       "{'Coelho-Bruno': 12,\n",
       " 'Sutter-Gustavo': 14,\n",
       " 'Veiga-Tobias': 12,\n",
       " 'Super-Gustavo': 13}"
      ]
     },
     "execution_count": 30,
     "metadata": {},
     "output_type": "execute_result"
    }
   ],
   "source": [
    "comp = {}\n",
    "for p in pessoas:\n",
    "    comp[p] = len(p)\n",
    "comp"
   ]
  },
  {
   "cell_type": "markdown",
   "metadata": {},
   "source": [
    "#### 7) Crie uma função que retorna a substring que ocorre antes de cada hífen de cada entrada da lista `pessoas`.\n",
    "\n",
    "_Dica_: use uma função para encontrar o índice do hífen em cada entrada da lista."
   ]
  },
  {
   "cell_type": "code",
   "execution_count": 31,
   "metadata": {},
   "outputs": [
    {
     "data": {
      "text/plain": [
       "['Coelho-Bruno', 'Sutter-Gustavo', 'Veiga-Tobias', 'Super-Gustavo']"
      ]
     },
     "execution_count": 31,
     "metadata": {},
     "output_type": "execute_result"
    }
   ],
   "source": [
    "[p[:p.index('-')] for p in pessoas ]\n",
    "pessoas"
   ]
  },
  {
   "cell_type": "markdown",
   "metadata": {},
   "source": [
    "#### 8) Escreva cada nome da lista em um arquivo separado.\n",
    "\n",
    "*Dica*: Dê nomes simples aos arquivos como 'arquivo1.txt' para facilitar o uso destes arquivos nos próximos exercícios. Um exemplo de comando para gerar um nome simples seria:\n",
    "```python\n",
    "'arquivo' + str(i) + '.txt'\n",
    "```\n",
    "onde `i` é um índice para iterar na sequência de nomes."
   ]
  },
  {
   "cell_type": "code",
   "execution_count": 33,
   "metadata": {},
   "outputs": [],
   "source": [
    "for i, p in enumerate(pessoas):\n",
    "    with open('arquivo' + str(i) + '.txt', 'w') as f:\n",
    "        f.write(p)\n",
    "    "
   ]
  },
  {
   "cell_type": "markdown",
   "metadata": {},
   "source": [
    "#### 9) Para cada arquivo criado no exercício anterior, leia o arquivo, aplique a função criada no exercício 7) para pegar a substring que precede o hífen e escreva esta substringue no mesmo arquivo."
   ]
  },
  {
   "cell_type": "code",
   "execution_count": null,
   "metadata": {},
   "outputs": [],
   "source": [
    "f= open('append.txt', 'a')\n",
    "\n",
    "for i in range(4):\n",
    "    with open('arquivo' + str(i) + '.txt', 'r') as f:\n",
    "        "
   ]
  },
  {
   "cell_type": "markdown",
   "metadata": {},
   "source": [
    "#### 10) Crie uma classe que contém,  como métodos, algumas das funções desenvolvidas nos exercícios anteriores. A especificação mais detalhada encontra-se abaixo."
   ]
  },
  {
   "cell_type": "markdown",
   "metadata": {},
   "source": [
    "A classe deve seguir possuir:\n",
    "- Um inicializador que\n",
    "    - recebe o nome de um arquivo de saída\n",
    "    - salva esse nome numa variável\n",
    "- Um método chamado `string_inicial` que retorna a substring que precede um hífen presente em uma string enviada como parâmetro.\n",
    "- Um método chamado `escrever` que:\n",
    "     - recebe uma string\n",
    "     - extrai a substring que precede o hífen\n",
    "     - escreve esta substring no final do arquivo de saída\n",
    "1- Um método chamado `alterar_saida` que altera o nome do arquivo de saída utilizando como novo nome o parâmetro de entrada\n",
    "- Uma sobrecarga no método padrão **\\_\\_del\\_\\_** de maneira que, antes de uma instância ser removida da lista enviada como parâmetro,  a mensagem _'Adeus!'_ seja impressa. "
   ]
  },
  {
   "cell_type": "code",
   "execution_count": 34,
   "metadata": {},
   "outputs": [
    {
     "ename": "SyntaxError",
     "evalue": "invalid syntax (<ipython-input-34-d2c790409f22>, line 5)",
     "output_type": "error",
     "traceback": [
      "\u001b[1;36m  File \u001b[1;32m\"<ipython-input-34-d2c790409f22>\"\u001b[1;36m, line \u001b[1;32m5\u001b[0m\n\u001b[1;33m    def nome _inicial(self, nome):\u001b[0m\n\u001b[1;37m                    ^\u001b[0m\n\u001b[1;31mSyntaxError\u001b[0m\u001b[1;31m:\u001b[0m invalid syntax\n"
     ]
    }
   ],
   "source": [
    "class MaquinaDeNomes():\n",
    "    def __init__(self, arquivo_saida):\n",
    "        self.arquivo_saida = arquivo_saida\n",
    "        \n",
    "    def nome _inicial(self, nome):\n",
    "        fhfdskj\n",
    "        \n",
    "    def escrever(self, nome):\n",
    "        pnome = self.nome_inicial(nome)\n",
    "        with open(self.arquivo_saida, 'a') as f:\n",
    "            f.write(pnome)\n",
    "            \n",
    "    def __del__(self):\n",
    "        print('Adeus!')\n",
    "        del self"
   ]
  },
  {
   "cell_type": "code",
   "execution_count": null,
   "metadata": {},
   "outputs": [],
   "source": [
    "# Utilize o código abaixo para testar sua classe\n",
    "\n",
    "maq = MaquinaDeNomes('maqtest1.txt')\n",
    "\n",
    "maq.escrever('arquivo1.txt')\n",
    "maq.escrever('arquivo2.txt')\n",
    "\n",
    "with open('maqtest1.txt') as f:\n",
    "    print(f.read())\n",
    "    \n",
    "maq.alterar_saida('maqtest2.txt')\n",
    "\n",
    "maq.escrever('arquivo0.txt')\n",
    "maq.escrever('arquivo3.txt')\n",
    "\n",
    "with open('maqtest2.txt') as f:\n",
    "    print(f.read())\n",
    "    \n",
    "del maq"
   ]
  },
  {
   "cell_type": "markdown",
   "metadata": {},
   "source": [
    "#### 11) Crie um módulo que contenha a classe criada. Insira os casos de teste no módulo também, mas de maneira que eles não sejam executados sempre que o módulo for importado."
   ]
  },
  {
   "cell_type": "code",
   "execution_count": null,
   "metadata": {},
   "outputs": [],
   "source": [
    "%%writefile modulo.py\n"
   ]
  }
 ],
 "metadata": {
  "kernelspec": {
   "display_name": "Python 3",
   "language": "python",
   "name": "python3"
  },
  "language_info": {
   "codemirror_mode": {
    "name": "ipython",
    "version": 3
   },
   "file_extension": ".py",
   "mimetype": "text/x-python",
   "name": "python",
   "nbconvert_exporter": "python",
   "pygments_lexer": "ipython3",
   "version": "3.7.3"
  }
 },
 "nbformat": 4,
 "nbformat_minor": 2
}

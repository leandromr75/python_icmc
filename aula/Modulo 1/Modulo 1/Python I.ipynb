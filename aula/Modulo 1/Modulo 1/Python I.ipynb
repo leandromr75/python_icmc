{
 "cells": [
  {
   "cell_type": "markdown",
   "metadata": {},
   "source": [
    "# <span style=\"color:blue\">Programação Python para Ciência de Dados</span>\n",
    "\n",
    "## <span style=\"color:blue\">Módulo 1.2: Python I</span>"
   ]
  },
  {
   "cell_type": "markdown",
   "metadata": {},
   "source": [
    "### Conteúdo da aula:\n",
    "- Variáveis e atribuição\n",
    "- Tipos de dados\n",
    "    - Tipos básicos\n",
    "    - Tipos sequênciais\n",
    "    - Dicionários\n",
    "- Estruturas de controle\n",
    "    - Estruturas condicionais \n",
    "    - Estruturas de controle\n",
    "- Módulos"
   ]
  },
  {
   "cell_type": "markdown",
   "metadata": {},
   "source": [
    "## O que é Python?\n",
    "Python é uma linguagem dinâmica e interpretada. Em outras palavras, muitas taferas são realizadas em tempo de execução e o código é executado diretamente ao invés de ser compilado.\n",
    "\n",
    "Python também é:\n",
    "- _Imperativo_: programas compreendem uma sequência de declarações\n",
    "- _Orientada a objetos_: portando permite modelos de classes para manipular objetos\n",
    "- _Procedural_: código pode ser agrupado em unidades chamadas funções\n",
    "- _Funcional_: Python nativamente permite funções de primeira classe, lambdas anônimos, comprehensions e geradores."
   ]
  },
  {
   "cell_type": "markdown",
   "metadata": {},
   "source": [
    "# Variáveis e atribuição\n",
    "A atribuiçao de variáveis é feita diretamente, sem necessidade de declarar o tipo da variável em questão. O próprio Python e encarregado de descobrir o o tipo da variável, diferentemente de linguagens como Java ou C++."
   ]
  },
  {
   "cell_type": "code",
   "execution_count": 1,
   "metadata": {},
   "outputs": [
    {
     "name": "stdout",
     "output_type": "stream",
     "text": [
      "<class 'int'> x =  37\n",
      "<class 'str'> y =  Hello World\n",
      "<class 'float'> z =  5.45\n"
     ]
    }
   ],
   "source": [
    "# Isso é um comentário em Python\n",
    "\n",
    "x = 36            # Inicializando x\n",
    "y = \"Hello\"       # Inicializando y\n",
    "z = 3.45          # Inicializando z\n",
    "\n",
    "x = x + 1\n",
    "y = y + \" World\" # Concatenação de strings\n",
    "z = 2 + z\n",
    "    \n",
    "# Imprimindo os resultados\n",
    "print(type(x),'x = ',x)\n",
    "print(type(y),'y = ',y)\n",
    "print(type(z),'z = ',z)"
   ]
  },
  {
   "cell_type": "markdown",
   "metadata": {},
   "source": [
    "- A atrubuição cria e inicializa as variáveis\n",
    "- Comparação é feita usando os operadores convencionais $<$, $>$, $==$, $!\\!=$, ...\n",
    "- Operadores logicos são __*and*__, __*or*__ e __*not*__\n",
    "- Strings também suportam os operadores aritméticos <span style=\"font-weight: bold;\">+</span> e <span style=\"font-weight: bold;\">*</span>"
   ]
  },
  {
   "cell_type": "code",
   "execution_count": 2,
   "metadata": {},
   "outputs": [
    {
     "name": "stdout",
     "output_type": "stream",
     "text": [
      "Hello World \n",
      "Hello World Hello World \n"
     ]
    }
   ],
   "source": [
    "# Exemplo da \"aritmética\" com strings\n",
    "y = \"Hello\"\n",
    "y = y + \" World \"\n",
    "print(y)\n",
    "w = 2*y\n",
    "print(w)"
   ]
  },
  {
   "cell_type": "markdown",
   "metadata": {},
   "source": [
    "__Importante:__\n",
    "- Atribuição cria referências, não cópias\n",
    "- Uma variável é só um nome que guarda uma refência para um objeto em Python\n",
    "- Se você tentar acessar uma variável antes dela ser devidamente criada ocorre um erro\n",
    "- É possível atribuir valores a multiplas variáveis ao mesmo tempo\n",
    "```python\n",
    "x, y = 2, 3\n",
    "```"
   ]
  },
  {
   "cell_type": "markdown",
   "metadata": {},
   "source": [
    "### Nomeando variáveis\n",
    "- Nomes são *case sensitive*, isto é, são sensiveis a maiúsculas e minúscuals\n",
    "- Nomes não podem começar com números\n",
    "- Podem conter letras, números e underline\n",
    "```\n",
    "\tbob   Bob   _bob   _2_bob_   bob_2    Bob\n",
    "```\n",
    "- Existem algumas palavras reservadas\n",
    "\n",
    "<span style=\"color:blue\">and, assert, break, class, continue, def, del, elif, else, except, exec, finally, for, from, global, if, import, in, is, lambda, not, or, pass, print, raise, return, try, while</span>"
   ]
  },
  {
   "cell_type": "markdown",
   "metadata": {},
   "source": [
    "# Tipos de dados"
   ]
  },
  {
   "cell_type": "markdown",
   "metadata": {},
   "source": [
    "## Tipos básicos de dados\n",
    "\n",
    "#### Inteiro - *int*\n",
    "- Ex: 42, int(4/3)\n",
    "\n",
    "#### Ponto flutuante - *float*\n",
    "- Ex: 3.14, 3.14e-10, .0001, 4.\n",
    "\n",
    "#### Booleanos - *bool*\n",
    "- Ex: True, False\n",
    "\n",
    "#### Números complexos\n",
    "- Ex: 3j, 4+5j\n",
    "\n",
    "<hr>\n",
    "\n",
    "__OBS:__ Python fornece funções internas para converter entre esses tipos de dados"
   ]
  },
  {
   "cell_type": "code",
   "execution_count": 1,
   "metadata": {},
   "outputs": [
    {
     "name": "stdout",
     "output_type": "stream",
     "text": [
      "x = 1.76 | tipo: <class 'float'>\n",
      "y = 1 | tipo: <class 'int'>\n",
      "z = True | tipo: <class 'bool'>\n"
     ]
    }
   ],
   "source": [
    "x = 1.76\n",
    "y = int(x) # Convertendo de ponto flutuante para inteiro\n",
    "z = y == 1\n",
    "\n",
    "print(\"x =\", x, \"| tipo:\", type(x))\n",
    "print(\"y =\", y, \"| tipo:\", type(y))\n",
    "print(\"z =\", z, \"| tipo:\", type(z))"
   ]
  },
  {
   "cell_type": "markdown",
   "metadata": {},
   "source": [
    "Uma atribuição como\n",
    "```python\n",
    "x = 3.4\n",
    "```\n",
    "é uma maneira de dar um nome a um objeto (o que é chamado binding).\n",
    "- Todos os tipos de dados em Python são representados por objetos\n",
    "- Variáveis em Python não tem um tipo intrínseco, objetos tem tipos\n",
    "- Objetos tem identidade (endereço na memória), um tipo e um valor\n",
    "- O Python determinada o tipo da variável automaticamente baseado no objeto que ela faz referência\n",
    "- A identidade de um objeto e seu tipo não mudam\n",
    "- O valor de um objeto pode mudar"
   ]
  },
  {
   "cell_type": "markdown",
   "metadata": {},
   "source": [
    "## Tipos de sequência\n",
    "\n",
    "#### Tupla - *tuple*\n",
    "- Simples sequência ordenada de itens\n",
    "- Elementos podem ser de tipos distintos, incluindo outra sequência\n",
    "- Elementos **não** podem ser modificados\n",
    "\n",
    "#### Lista - *list*\n",
    "- Sequência ordenada de itens, com qualquer tipo\n",
    "- Elementos podem ser modificados, adicionados, removidos, etc\n",
    "\n",
    "#### String - *int*\n",
    "- Conceitualmente similares a tuplas\n",
    "- Elementos são restritos a caracteres apenas\n",
    "\n",
    "\n",
    "Os elementos de uma tupla, lista ou string podem ser acessados utilizando colchetes [ ] de forma indexada.<br> \n",
    "O índice dos elementos vaira de $0$ até $n-1$, onde $n$ é o número de elementos na sequência.\n",
    "\n",
    "<hr>\n",
    "\n",
    "__OBS:__ Tuplas e strings são imutáveis (seus valores são fixos), Listas são mutáveis (é possível alterar seus valores)"
   ]
  },
  {
   "cell_type": "code",
   "execution_count": 4,
   "metadata": {},
   "outputs": [
    {
     "name": "stdout",
     "output_type": "stream",
     "text": [
      "23\n",
      "abc\n",
      "4.56\n",
      "(2, 3)\n"
     ]
    }
   ],
   "source": [
    "t = (23, 'abc', 4.56, (2,3))  # Isso é uma tupla, deve ser \n",
    "                              # definida usando parenteses ()\n",
    "print(t[0])\n",
    "print(t[1])\n",
    "print(t[2])\n",
    "print(t[3]) "
   ]
  },
  {
   "cell_type": "code",
   "execution_count": 5,
   "metadata": {
    "scrolled": true
   },
   "outputs": [
    {
     "ename": "TypeError",
     "evalue": "'tuple' object does not support item assignment",
     "output_type": "error",
     "traceback": [
      "\u001b[0;31m---------------------------------------------------------------------------\u001b[0m",
      "\u001b[0;31mTypeError\u001b[0m                                 Traceback (most recent call last)",
      "\u001b[0;32m<ipython-input-5-b33154132553>\u001b[0m in \u001b[0;36m<module>\u001b[0;34m\u001b[0m\n\u001b[1;32m      1\u001b[0m \u001b[0;31m# Como tuplas são imutáveis, atribuição de itens não é suportada\u001b[0m\u001b[0;34m\u001b[0m\u001b[0;34m\u001b[0m\u001b[0;34m\u001b[0m\u001b[0m\n\u001b[0;32m----> 2\u001b[0;31m \u001b[0mt\u001b[0m\u001b[0;34m[\u001b[0m\u001b[0;36m2\u001b[0m\u001b[0;34m]\u001b[0m\u001b[0;34m=\u001b[0m\u001b[0;36m1\u001b[0m\u001b[0;34m\u001b[0m\u001b[0;34m\u001b[0m\u001b[0m\n\u001b[0m",
      "\u001b[0;31mTypeError\u001b[0m: 'tuple' object does not support item assignment"
     ]
    }
   ],
   "source": [
    "# Como tuplas são imutáveis, atribuição de itens não é permitida\n",
    "t[2]=1 "
   ]
  },
  {
   "cell_type": "code",
   "execution_count": 3,
   "metadata": {
    "scrolled": true
   },
   "outputs": [
    {
     "name": "stdout",
     "output_type": "stream",
     "text": [
      "['abc', 34, 4.34, 23, 9, 98]\n",
      "abc\n",
      "34\n",
      "4.34\n",
      "23\n"
     ]
    }
   ],
   "source": [
    "l = [\"abc\", 34, 4.34, 23, 9, 98]   # Listas são definidas utilizando colchetes [ ]\n",
    "print(l)\n",
    "print(l[0])\n",
    "print(l[1])\n",
    "print(l[2])\n",
    "print(l[3])"
   ]
  },
  {
   "cell_type": "code",
   "execution_count": 4,
   "metadata": {
    "scrolled": true
   },
   "outputs": [
    {
     "name": "stdout",
     "output_type": "stream",
     "text": [
      "['abc', 'Eu mudei', 4.34, 23, 9, 98]\n",
      "['abc', 'novo elemento na segunda posicao', 'Eu mudei', 4.34, 23, 9, 98, 'novo elemnto no final']\n",
      "--- Removendo elememtos inseridos\n",
      "['abc', 'Eu mudei', 4.34, 23, 9, 98]\n"
     ]
    }
   ],
   "source": [
    "# Listas são mutáveis, itens podem ser alterados, inseridos ou removidos\n",
    "l[1] = \"Eu mudei\"\n",
    "print(l)\n",
    "\n",
    "l.append('novo elemnto no final')\n",
    "l.insert(1,'novo elemento na segunda posicao')\n",
    "print(l)\n",
    "\n",
    "print(3*'-','Removendo elememtos inseridos')\n",
    "del l[1]\n",
    "del l[-1]\n",
    "print(l)"
   ]
  },
  {
   "cell_type": "code",
   "execution_count": 8,
   "metadata": {
    "scrolled": true
   },
   "outputs": [
    {
     "name": "stdout",
     "output_type": "stream",
     "text": [
      "I\n",
      "s\n",
      "s\n",
      "o\n"
     ]
    }
   ],
   "source": [
    "s = \"Isso é uma string\"  # Strings são definidas utilizando aspas simples '' ou duplas \"\"\n",
    "print(s[0])\n",
    "print(s[1])\n",
    "print(s[2])\n",
    "print(s[3])"
   ]
  },
  {
   "cell_type": "code",
   "execution_count": 9,
   "metadata": {
    "scrolled": true
   },
   "outputs": [
    {
     "name": "stdout",
     "output_type": "stream",
     "text": [
      "['abc', 'Eu mudei', 4.34, 23, 9, 98]\n",
      "98\n",
      "9\n",
      "23\n"
     ]
    }
   ],
   "source": [
    "# O indice dos elementos pode ser positivo ou negativo \n",
    "# Indices negativos revertem a ordem em que se percorre a sequencia\n",
    "print(l)\n",
    "print(l[-1])\n",
    "print(l[-2])\n",
    "print(l[-3])"
   ]
  },
  {
   "cell_type": "markdown",
   "metadata": {},
   "source": [
    "O número de elementos de uma sequência pode ser consultado utilizando a função **len()**"
   ]
  },
  {
   "cell_type": "code",
   "execution_count": 10,
   "metadata": {
    "scrolled": true
   },
   "outputs": [
    {
     "name": "stdout",
     "output_type": "stream",
     "text": [
      "(23, 'abc', 4.56, (2, 3))\n",
      "4\n",
      "['abc', 'Eu mudei', 4.34, 23, 9, 98]\n",
      "6\n",
      "Isso é uma string\n",
      "17\n"
     ]
    }
   ],
   "source": [
    "print(t)\n",
    "print(len(t))\n",
    "print(l)\n",
    "print(len(l))\n",
    "print(s)\n",
    "print(len(s))"
   ]
  },
  {
   "cell_type": "markdown",
   "metadata": {},
   "source": [
    "### *Slicing*  (fatiamento)\n",
    "Slicing, ou fatiamento, permite acessar uma parte dos elementos da sequência "
   ]
  },
  {
   "cell_type": "code",
   "execution_count": 11,
   "metadata": {},
   "outputs": [
    {
     "name": "stdout",
     "output_type": "stream",
     "text": [
      "['abc', 'Eu mudei', 4.34, 23, 9, 98]\n",
      "['abc', 'Eu mudei']\n",
      "[4.34, 23, 9, 98]\n",
      "['Eu mudei', 4.34, 23, 9]\n",
      "['abc', 'Eu mudei', 4.34]\n",
      "['abc', 'Eu mudei', 4.34, 23, 9]\n"
     ]
    }
   ],
   "source": [
    "print(l)\n",
    "print(l[0:2])  # recupera elementos l[0],l[1] \n",
    "print(l[2:])   # recupera elementos a partir de l[2] em diante\n",
    "print(l[1:5])  # recupera elementos l[1],l[2],l[3] \n",
    "print(l[:3])   # recupera elementos até l[2]\n",
    "print(l[:-1])  # recupera todos os elementos menos o último"
   ]
  },
  {
   "cell_type": "markdown",
   "metadata": {},
   "source": [
    "## Dicionários\n",
    "Dicionários guardam um mapeamento entre um conjunto de chaves e um conjunto de valores\n",
    "- Chaves podem ser qualquer tipo imutável\n",
    "- Valores podem ser de qualquer tipo\n",
    "\n",
    "Um mesmo dicionario pode guardar valores de tipos de dados diferentes\n",
    "\n",
    "É possível definir, modificar, visualizar e apagar os pares chave-valor de um dicionário\n",
    "\n",
    "Dicionários são criados usando 'chaves' { } especificando a chave e o valor. A chave é o índice utilizado para acessar os valores."
   ]
  },
  {
   "cell_type": "code",
   "execution_count": 22,
   "metadata": {
    "scrolled": true
   },
   "outputs": [
    {
     "name": "stdout",
     "output_type": "stream",
     "text": [
      "{'chave1': 3.0, 'chave2': 27, 'chave3': 'O valor da chave tres'}\n"
     ]
    }
   ],
   "source": [
    "d = {'chave1':3.0,\n",
    "     'chave2':27,\n",
    "     'chave3':'O valor da chave tres'}\n",
    "\n",
    "print(d)"
   ]
  },
  {
   "cell_type": "code",
   "execution_count": 23,
   "metadata": {
    "scrolled": true
   },
   "outputs": [
    {
     "name": "stdout",
     "output_type": "stream",
     "text": [
      "27\n",
      "O valor da chave tres\n"
     ]
    }
   ],
   "source": [
    "print(d['chave2'])\n",
    "print(d['chave3'])"
   ]
  },
  {
   "cell_type": "markdown",
   "metadata": {},
   "source": [
    "Novos pares chave-valores podem ser adicionados fazendo uma atribuição do valor ao dicionário utilizando a chave como índice\n",
    "\n",
    "Assim como apagar um par é feito utilizando o comando **del**"
   ]
  },
  {
   "cell_type": "code",
   "execution_count": 24,
   "metadata": {},
   "outputs": [
    {
     "name": "stdout",
     "output_type": "stream",
     "text": [
      "------  Novo elemento\n",
      "{'chave1': 3.0, 'chave2': 27, 'chave3': 'O valor da chave tres', 'nova_chave': 13}\n",
      "------ Removendo elemento k1\n",
      "{'chave2': 27, 'chave3': 'O valor da chave tres', 'nova_chave': 13}\n"
     ]
    }
   ],
   "source": [
    "# Novos pares chave-valor podem ser adicionados\n",
    "print(3*'--',' Novo elemento')\n",
    "d['nova_chave'] = 13\n",
    "print(d)\n",
    "\n",
    "\n",
    "# Chave-valor pode ser removido\n",
    "print(3*'--','Removendo elemento k1')\n",
    "del d['chave1']\n",
    "print(d)"
   ]
  },
  {
   "cell_type": "markdown",
   "metadata": {},
   "source": [
    "Existem comandos para obter diferentes dados de um dicionário:\n",
    "    - .keys() : Retorna todas as chaves do dicionário\n",
    "    - .values() : Retorna todos os valores do dicionário\n",
    "    - .items() : Retorna todos os pares chave-valor do dicionário"
   ]
  },
  {
   "cell_type": "code",
   "execution_count": 25,
   "metadata": {},
   "outputs": [
    {
     "name": "stdout",
     "output_type": "stream",
     "text": [
      "- Todas as chaves do dicionário\n",
      "dict_keys(['chave2', 'chave3', 'nova_chave'])\n",
      "\n",
      " - Todos os valores do dicionário\n",
      "dict_values([27, 'O valor da chave tres', 13])\n",
      "\n",
      " - Todos os pares chave-valor do dicionário\n",
      "dict_items([('chave2', 27), ('chave3', 'O valor da chave tres'), ('nova_chave', 13)])\n"
     ]
    }
   ],
   "source": [
    "# Obtendo todas as chaves\n",
    "print('- Todas as chaves do dicionário')\n",
    "print(d.keys())\n",
    "\n",
    "# Obtendo todos os valores\n",
    "print('\\n - Todos os valores do dicionário')\n",
    "print(d.values())\n",
    "\n",
    "# Obtendo todos os pares chave-valor\n",
    "print('\\n - Todos os pares chave-valor do dicionário')\n",
    "print(d.items())"
   ]
  },
  {
   "cell_type": "markdown",
   "metadata": {},
   "source": [
    "# Estruturas de controle"
   ]
  },
  {
   "cell_type": "markdown",
   "metadata": {},
   "source": [
    "Antes é preciso falar sobre um assunto muito importante no Python: indentação\n",
    "\n",
    "#### Indentação\n",
    "\n",
    "Indentação denota blocos sob cláusulas como _if_, _for_, _def_, ...\n",
    "```python\n",
    "if z == 3.45 or y == \"Hello\":\n",
    "    x = x + 1\n",
    "    y = y + \" World\"\n",
    "```\n",
    "\n",
    "Identação é obrigatória e deve ser utilizada com cuidado, já que diferente de linguagem como Java e C++, Python utilizada apenas indentação para delimitar blocos.\n",
    "\n",
    "Linhas de código no mesmo nível de indentação formam um bloco"
   ]
  },
  {
   "cell_type": "markdown",
   "metadata": {},
   "source": [
    "## Comando *if*\n",
    "*__if__* é o principal comando para condicionar o fluxo de execução do programa.\n",
    "\n",
    "```python\n",
    "if condicao:\n",
    "    comandos\n",
    "```\n",
    "\n",
    "Sempre que a condição for verdadeira (__True__) seu bloco de código é executado.\n",
    "\n",
    "Também é possível utilizar os comandos __*else*__ (senão) e __*elif*__ (senão se) para controlar o fluxo do programa"
   ]
  },
  {
   "cell_type": "code",
   "execution_count": 26,
   "metadata": {},
   "outputs": [
    {
     "name": "stdout",
     "output_type": "stream",
     "text": [
      "X vale 3\n",
      "Isto é fora do 'if'\n",
      "\n",
      "X vale 2\n",
      "Isto é fora do 'if'\n",
      "\n",
      "X não vale nem 3 nem 2\n",
      "Isto é fora do 'if'\n",
      "\n"
     ]
    }
   ],
   "source": [
    "x=3\n",
    "\n",
    "if x == 3:\n",
    "    print(\"X vale 3\")\n",
    "elif x == 2:\n",
    "    print(\"X vale 2\")\n",
    "else:\n",
    "    print(\"X não vale nem 3 nem 2\")\n",
    "\n",
    "print(\"Isto é fora do 'if'\\n\")"
   ]
  },
  {
   "cell_type": "markdown",
   "metadata": {},
   "source": [
    "Python suporta comandos de _if_ ternário"
   ]
  },
  {
   "cell_type": "code",
   "execution_count": 27,
   "metadata": {},
   "outputs": [
    {
     "name": "stdout",
     "output_type": "stream",
     "text": [
      "three\n",
      "three\n"
     ]
    }
   ],
   "source": [
    "x = 3\n",
    "\n",
    "# O seguinte trecho de código\n",
    "if x == 3:\n",
    "    y = 'three'\n",
    "else:\n",
    "    y = 'other thing'\n",
    "    \n",
    "print(y)\n",
    "\n",
    "# É equivalente a\n",
    "\n",
    "y = 'three' if x == 3 else 'other thing' \n",
    "print(y)"
   ]
  },
  {
   "cell_type": "markdown",
   "metadata": {},
   "source": [
    "## Comando *for*\n",
    "Um laço _for_ é um iterador genério em Python, com a seguinte estrutura:\n",
    "```python\n",
    "for var in sequence:\n",
    "\tstatements\n",
    "```\n",
    "O _for_ pode iterar sobre qualquer sequência, como strings, listas e tuplas\n",
    "- Os itens no objeto *sequence* são atribuidos a *var* um por vez\n",
    "```"
   ]
  },
  {
   "cell_type": "code",
   "execution_count": 28,
   "metadata": {},
   "outputs": [
    {
     "name": "stdout",
     "output_type": "stream",
     "text": [
      "0\n",
      "1\n",
      "3\n",
      "4\n",
      "5\n",
      "6\n"
     ]
    }
   ],
   "source": [
    "my_list = [0,1,2,3,4,5,6,7,8,9]\n",
    "count = 1\n",
    "\n",
    "for val in my_list:\n",
    "    if val == 7:\n",
    "        break    # Para o laço\n",
    "    elif val == 2:\n",
    "        continue  # Pula para a próxima iteração do laço sem executar o código abaixo\n",
    "    print(val)"
   ]
  },
  {
   "cell_type": "markdown",
   "metadata": {},
   "source": [
    "- Se os elementos em *sequence* também são uma sequência *var* pode ser declarada para obter esses elementos\n",
    "```python\n",
    "for (key,value) in dict.items():\n",
    "     print(key, '->', value)\n",
    "```"
   ]
  },
  {
   "cell_type": "code",
   "execution_count": 6,
   "metadata": {},
   "outputs": [
    {
     "name": "stdout",
     "output_type": "stream",
     "text": [
      "1 --> um\n",
      "2 --> dois\n",
      "3 --> tres\n"
     ]
    }
   ],
   "source": [
    "d = {1:'um',2:'dois',3:'tres'}\n",
    "for k,v in d.items():\n",
    "    print(k, '-->', v)"
   ]
  },
  {
   "cell_type": "markdown",
   "metadata": {},
   "source": [
    "## Comando *while*\n",
    "\n",
    "O laço *while* tem a seguinte estrutura:\n",
    "\n",
    "```python\n",
    "while test:\n",
    "\tstatements\n",
    "```\n",
    "\n",
    "O bloco de código dentro do laço é executado até que o valor da expressão em *test* seja falso\n",
    "\n",
    "<hr>\n",
    "\n",
    "__OBS:__ É possivel utilizar o comando *else* após um  while, seu código é executado após o programa sair do laço associado\n",
    "\n",
    "```python\n",
    "while test:\n",
    "\tstatements\n",
    "else:\n",
    "    statements\n",
    "```\n"
   ]
  },
  {
   "cell_type": "code",
   "execution_count": 29,
   "metadata": {},
   "outputs": [
    {
     "name": "stdout",
     "output_type": "stream",
     "text": [
      "1\n",
      "2\n",
      "3\n",
      "4\n",
      "5\n",
      "6\n",
      "7\n",
      "8\n",
      "9\n",
      "10\n",
      "11\n"
     ]
    }
   ],
   "source": [
    "count = 0\n",
    "while count < 10:\n",
    "    count += 1\n",
    "    print(count)\n",
    "    \n",
    "print(count+1)"
   ]
  },
  {
   "cell_type": "markdown",
   "metadata": {},
   "source": [
    "# Módulos\n",
    "\n",
    "- Módulos são funções, classes e variáveis definidas em arquivos diferentes\n",
    "- Todo arquivo que contém código em Python e acaba com .py é um módulo\n",
    "- Existem vários módulos predefinidos que realizam todo tipo de operações"
   ]
  },
  {
   "cell_type": "markdown",
   "metadata": {},
   "source": [
    "### Comando *import*\n",
    "- O comando *import* carrega tudo que existe no módulo indicado \n",
    "- O módulo só é executado uma vez, independente do número de vezes que é importado\n",
    "\n",
    "### Comando *from*\n",
    "- O comando *from* permite importar apenas elementos especificos de um módulo"
   ]
  },
  {
   "cell_type": "markdown",
   "metadata": {},
   "source": [
    "Observe [esse link](https://docs.python.org/3/library/index.html) para uma lista dos módulos, ou bibliotecas, padrões do Python.\n",
    "\n",
    "Também existem várias outras bibliotecas desenvolvidas por membros da comunidade de desenvolvedores e iremos utilizar diversas no decorrer das aulas"
   ]
  },
  {
   "cell_type": "code",
   "execution_count": 30,
   "metadata": {},
   "outputs": [
    {
     "name": "stdout",
     "output_type": "stream",
     "text": [
      "0.49999999999999994\n"
     ]
    }
   ],
   "source": [
    "# Módulo padrão do python com funções matemáticas\n",
    "import math\n",
    "\n",
    "trinta_graus = math.pi / 6 # Trinta graus em radianos\n",
    "print(math.sin(trinta_graus)) # Calculando o seno de 30 graus"
   ]
  },
  {
   "cell_type": "code",
   "execution_count": 31,
   "metadata": {},
   "outputs": [
    {
     "name": "stdout",
     "output_type": "stream",
     "text": [
      "0.7772466663054831\n"
     ]
    }
   ],
   "source": [
    "# Módulo padrão do python para geração de valores aleatórios\n",
    "import random\n",
    "print(random.random()) # Imprimindo um número aleatório"
   ]
  }
 ],
 "metadata": {
  "kernelspec": {
   "display_name": "Python 3",
   "language": "python",
   "name": "python3"
  },
  "language_info": {
   "codemirror_mode": {
    "name": "ipython",
    "version": 3
   },
   "file_extension": ".py",
   "mimetype": "text/x-python",
   "name": "python",
   "nbconvert_exporter": "python",
   "pygments_lexer": "ipython3",
   "version": "3.7.3"
  },
  "toc": {
   "base_numbering": 1,
   "nav_menu": {},
   "number_sections": true,
   "sideBar": true,
   "skip_h1_title": false,
   "title_cell": "Table of Contents",
   "title_sidebar": "Contents",
   "toc_cell": false,
   "toc_position": {},
   "toc_section_display": true,
   "toc_window_display": false
  }
 },
 "nbformat": 4,
 "nbformat_minor": 2
}

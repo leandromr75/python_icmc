{
 "cells": [
  {
   "cell_type": "markdown",
   "metadata": {},
   "source": [
    "# Programação Python para Ciência de Dados\n",
    "\n",
    "## Exercícios Numpy e Pandas - Parte I"
   ]
  },
  {
   "cell_type": "markdown",
   "metadata": {},
   "source": [
    "### Prática dos conteúdos estudados: Processando e extraindo informações de arquivos csv"
   ]
  },
  {
   "cell_type": "code",
   "execution_count": 1,
   "metadata": {},
   "outputs": [],
   "source": [
    "import numpy as np\n",
    "import pandas as pd"
   ]
  },
  {
   "cell_type": "markdown",
   "metadata": {},
   "source": [
    "#### O arquivo 'WorldCups.csv' possui as colunas:\n",
    "- Year: ano da copa\n",
    "- Country: pais sede\n",
    "- Winner: campeão\n",
    "- RunnersUP: disputou a final com o campeão\n",
    "- Third: terceiro colocado\n",
    "- Fourth: quarto colocado\n",
    "- GoalsScored: número de gols na copa\n",
    "- QualifiedTeams:\n",
    "- MatchesPlayed: número de jogos\n",
    "- Attendance: número de espectadores"
   ]
  },
  {
   "cell_type": "markdown",
   "metadata": {},
   "source": [
    "#### 1) Leia o arquivo 'WorldCups.csv', definindo a coluna 'Year' como índice, e salve-o em uma variável. Exiba as 5 primeiras linhas e o tipo de dado de cada coluna. Quantas linhas possui o DataFrame?"
   ]
  },
  {
   "cell_type": "code",
   "execution_count": null,
   "metadata": {},
   "outputs": [],
   "source": []
  },
  {
   "cell_type": "markdown",
   "metadata": {},
   "source": [
    "#### 2) Em quais anos o Brasil ganhou a copa? Em quais anos o Brasil jogou uma final? Qual a proporção de vitórias do Brasil em finais?"
   ]
  },
  {
   "cell_type": "code",
   "execution_count": null,
   "metadata": {},
   "outputs": [],
   "source": []
  },
  {
   "cell_type": "markdown",
   "metadata": {},
   "source": [
    "#### 3) Remova as colunas de QualifiedTeams e 'MatchesPlayed' colocado"
   ]
  },
  {
   "cell_type": "code",
   "execution_count": null,
   "metadata": {},
   "outputs": [],
   "source": []
  },
  {
   "cell_type": "markdown",
   "metadata": {},
   "source": [
    "#### 4) Exiba as linhas de 4 a 8 (inclusive)"
   ]
  },
  {
   "cell_type": "code",
   "execution_count": null,
   "metadata": {},
   "outputs": [],
   "source": []
  },
  {
   "cell_type": "markdown",
   "metadata": {},
   "source": [
    "#### 5) Utiliza os rótulos (labels) para exibir as linhas das copas de 2002 e 2006 "
   ]
  },
  {
   "cell_type": "code",
   "execution_count": null,
   "metadata": {},
   "outputs": [],
   "source": []
  },
  {
   "cell_type": "markdown",
   "metadata": {},
   "source": [
    "#### 6) Quais foram as 5 copas com mais gols? Utilize a função de ordenação."
   ]
  },
  {
   "cell_type": "code",
   "execution_count": null,
   "metadata": {},
   "outputs": [],
   "source": []
  },
  {
   "cell_type": "markdown",
   "metadata": {},
   "source": [
    "#### 7) Utiliza o método `.value_counts()` para saber o número de vezes que cada país já ganhou. Só é necessário usar a coluna 'Winner' "
   ]
  },
  {
   "cell_type": "code",
   "execution_count": null,
   "metadata": {},
   "outputs": [],
   "source": []
  },
  {
   "cell_type": "markdown",
   "metadata": {},
   "source": [
    "#### 8) Deixe Pandas de lado por enquanto. Vamos para o Numpy.\n",
    "Os dados de pandas são na verdade uma matriz do Numpy. Trabalhar com a matriz Numpy é mais eficiente. Para acessar essa matriz basta fazer:\n",
    "\n",
    "```python\n",
    "nparray = dataframe.values\n",
    "```"
   ]
  },
  {
   "cell_type": "markdown",
   "metadata": {},
   "source": [
    "##### a) Com a matriz numpy, visualize apenas as colunas de 1 a 4 (inclusive). Que colunas são essas? Salve numa variável."
   ]
  },
  {
   "cell_type": "code",
   "execution_count": null,
   "metadata": {},
   "outputs": [],
   "source": []
  },
  {
   "cell_type": "markdown",
   "metadata": {},
   "source": [
    "##### b) Você deve gerar um dicionário em que as chaves são os países e os valores são número de vezes que aquele país participou de uma final (Ex.: 'pais' : num_final).\n",
    "\n",
    "_Dica: o código abaixo pode te auxiliar a criar esse dicionário_\n",
    "\n",
    "```python\n",
    "# d é um dicionário que inicialmente estava vazio\n",
    "if pais in d: \n",
    "    d[pais] += 1 # se país estava no dicionário...\n",
    "else:\n",
    "    d[pais] = 1 # # se país não estava no dicionário...\n",
    "```"
   ]
  },
  {
   "cell_type": "code",
   "execution_count": null,
   "metadata": {},
   "outputs": [],
   "source": []
  },
  {
   "cell_type": "markdown",
   "metadata": {},
   "source": [
    "##### b) Agora faça um dicionário que mapeia cada país ao número de partidas que disputou terceiro lugar (Ex.: 'pais' : num_terc)."
   ]
  },
  {
   "cell_type": "code",
   "execution_count": null,
   "metadata": {},
   "outputs": [],
   "source": []
  },
  {
   "cell_type": "markdown",
   "metadata": {},
   "source": [
    "##### c) Insira esses dois dicionários em em outro dicionário da seguinte forma {'finais' : {'Brazil' : 7, ...}, 'tercs' : {USA' : 1}}. Transforme em um DataFrame e salve em um arquivo .csv."
   ]
  },
  {
   "cell_type": "code",
   "execution_count": null,
   "metadata": {},
   "outputs": [],
   "source": []
  }
 ],
 "metadata": {
  "kernelspec": {
   "display_name": "Python 3",
   "language": "python",
   "name": "python3"
  },
  "language_info": {
   "codemirror_mode": {
    "name": "ipython",
    "version": 3
   },
   "file_extension": ".py",
   "mimetype": "text/x-python",
   "name": "python",
   "nbconvert_exporter": "python",
   "pygments_lexer": "ipython3",
   "version": "3.7.1"
  }
 },
 "nbformat": 4,
 "nbformat_minor": 2
}

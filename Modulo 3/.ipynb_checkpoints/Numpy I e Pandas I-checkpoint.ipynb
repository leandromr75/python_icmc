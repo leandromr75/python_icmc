{
 "cells": [
  {
   "cell_type": "markdown",
   "metadata": {},
   "source": [
    "   # <span style=\"color:blue\">Programação Python para Ciência de Dado</span>\n",
    "   ## <span style=\"color:blue\">Módulo 2: Numpy e Pandas - Parte I</span>\n",
    "   ---\n",
    "\n",
    "__Conteúdo:__\n",
    "\n",
    "- Numpy - Parte I:\n",
    "  - Visão Geral\n",
    "  - Básico de Arrays\n",
    "  - Manipulação das dimensões\n",
    "  - Iterar e repartir\n",
    "  - Indexação estilosa\n",
    "  - Cópias e visualizações\n",
    "- Pandas - Part I:\n",
    "  - Visão Geral\n",
    "  - Terminologia\n",
    "  - Estruturas de Dados\n",
    "  \n",
    "__Referencias:__\n",
    "\n",
    "[Numpy Tutorial](https://www.python-course.eu/numpy.php)<br>\n",
    "[Introduction to Pandas](https://www.ritchieng.com/pandas-introduction/)"
   ]
  },
  {
   "cell_type": "markdown",
   "metadata": {},
   "source": [
    "---\n",
    "## Numpy - Part I\n",
    "---"
   ]
  },
  {
   "cell_type": "markdown",
   "metadata": {},
   "source": [
    "### Numpy \n",
    "- Pacote Python para processamento matricial (computação orientada a matriz)\n",
    "- Majoritariamente escrito em C (eficiência)\n",
    "- Projetado para computação científica (conveniência)"
   ]
  },
  {
   "cell_type": "markdown",
   "metadata": {},
   "source": [
    "Numpy é um módulo e precisa ser importado\n",
    "```python\n",
    "import numpy\n",
    "import numpy as np\n",
    "from numpy import *\n",
    "```\n",
    "\n",
    "Matrizes, ou melhor, `arrays` em  Numpy são semelhantes às listas em Python, no entanto:\n",
    "- Todo elemento em um array deve ser do mesmo tipo, tipicamente um tipo numérico como float ou int\n",
    "- Os arrays viabilizam a realização eficiente de operações numéricas envolvendo grandes quantidades de dados, sendo para estes fim, muito mais eficientes que as listas.\n",
    "- Cada dimensão de um array é chamada de eixo (_axis_)\n",
    "- Os eixos são numerados a partir de 0\n",
    "- Os elementos são acessados usando [] (semelhante às listas do Python)"
   ]
  },
  {
   "cell_type": "markdown",
   "metadata": {},
   "source": [
    "#### Construindo arrays"
   ]
  },
  {
   "cell_type": "code",
   "execution_count": 2,
   "metadata": {},
   "outputs": [
    {
     "name": "stdout",
     "output_type": "stream",
     "text": [
      "1D arrays ----- \n",
      "\n",
      "a1d= [ 1  3  5  7  9 10]\n"
     ]
    }
   ],
   "source": [
    "import numpy as np\n",
    "\n",
    "print(\"1D arrays\",5*'-','\\n')\n",
    "# creating 1D arrays from a list\n",
    "a1d = np.array([1,3,5,7,9,10])\n",
    "print('a1d=',a1d)"
   ]
  },
  {
   "cell_type": "code",
   "execution_count": 3,
   "metadata": {},
   "outputs": [
    {
     "name": "stdout",
     "output_type": "stream",
     "text": [
      "b1d= [0. 0. 0. 0. 0. 0. 0. 0.]\n",
      "c1d= [1. 1. 1. 1. 1. 1. 1. 1. 1. 1.]\n",
      "d1d= [0 1 2 3 4 5 6 7 8 9]\n",
      "e1d= [1.   1.25 1.5  1.75 2.  ]\n"
     ]
    }
   ],
   "source": [
    "# creading 1D arrays from built-in functions\n",
    "b1d = np.zeros((8))\n",
    "c1d = np.ones((10))\n",
    "d1d = np.arange(10)\n",
    "e1d = np.linspace(1,2,5)\n",
    "\n",
    "print('b1d=',b1d)\n",
    "print('c1d=',c1d)\n",
    "print('d1d=',d1d)\n",
    "print('e1d=',e1d)"
   ]
  },
  {
   "cell_type": "code",
   "execution_count": 5,
   "metadata": {},
   "outputs": [
    {
     "name": "stdout",
     "output_type": "stream",
     "text": [
      "\n",
      " 2D arrays ----- \n",
      "\n",
      "a2d=\n",
      " [[ 1  3  5  7  9 11]\n",
      " [ 2  4  6  8 10 12]\n",
      " [ 0  1  2  3  4  5]]\n"
     ]
    }
   ],
   "source": [
    "print(\"\\n 2D arrays\",5*'-','\\n')\n",
    "# creating 2D arrays from lists\n",
    "a2d = np.array([[1,3,5,7,9,11],\n",
    "                  [2,4,6,8,10,12],\n",
    "                  [0,1,2,3,4,5]])\n",
    "print('a2d=\\n',a2d)"
   ]
  },
  {
   "cell_type": "code",
   "execution_count": 7,
   "metadata": {},
   "outputs": [
    {
     "name": "stdout",
     "output_type": "stream",
     "text": [
      "b2d=\n",
      " [[0. 0. 0.]\n",
      " [0. 0. 0.]\n",
      " [0. 0. 0.]\n",
      " [0. 0. 0.]\n",
      " [0. 0. 0.]\n",
      " [0. 0. 0.]\n",
      " [0. 0. 0.]\n",
      " [0. 0. 0.]]\n",
      "c2d=\n",
      " [[1. 1. 1. 1. 1. 1. 1. 1. 1. 1.]\n",
      " [1. 1. 1. 1. 1. 1. 1. 1. 1. 1.]\n",
      " [1. 1. 1. 1. 1. 1. 1. 1. 1. 1.]\n",
      " [1. 1. 1. 1. 1. 1. 1. 1. 1. 1.]\n",
      " [1. 1. 1. 1. 1. 1. 1. 1. 1. 1.]]\n",
      "d2d=\n",
      " [[1. 0. 0.]\n",
      " [0. 1. 0.]\n",
      " [0. 0. 1.]]\n"
     ]
    }
   ],
   "source": [
    "# creading 2D arrays from built-in functions\n",
    "b2d = np.zeros((8,3))\n",
    "c2d = np.ones((5,10))\n",
    "d2d = np.identity(3)\n",
    "\n",
    "print('b2d=\\n',b2d)\n",
    "print('c2d=\\n',c2d)\n",
    "print('d2d=\\n',d2d)"
   ]
  },
  {
   "cell_type": "markdown",
   "metadata": {},
   "source": [
    "Numpy arrays são objetos chamados _ndarrays_ e possuem diversos atributos \n",
    "- ndarray.ndim - o número de eixos (dimensões) do array\n",
    "- ndarray.shape - uma tupla de inteiros indicando o tamanho do array em cada dimensão\n",
    "- ndarray.size - o número total de elementos do array\n",
    "- ndarray.dtype - um objeto que descreve o tipo dos elementos no array\n",
    "- ndarray.itemsize - o tamanho em bytes de cada elemento do array\n",
    "- ndarray.data - o buffer contendo os elementos do array"
   ]
  },
  {
   "cell_type": "code",
   "execution_count": 10,
   "metadata": {},
   "outputs": [
    {
     "name": "stdout",
     "output_type": "stream",
     "text": [
      "a1d=\n",
      " [ 1  3  5  7  9 10]\n",
      "b1d=\n",
      " [0. 0. 0. 0. 0. 0. 0. 0.]\n",
      "a2d=\n",
      " [[ 1  3  5  7  9 11]\n",
      " [ 2  4  6  8 10 12]\n",
      " [ 0  1  2  3  4  5]]\n",
      "c2d=\n",
      " [[0. 0. 0.]\n",
      " [0. 0. 0.]\n",
      " [0. 0. 0.]\n",
      " [0. 0. 0.]\n",
      " [0. 0. 0.]\n",
      " [0. 0. 0.]\n",
      " [0. 0. 0.]\n",
      " [0. 0. 0.]]\n",
      " ndim: o numero de eixos\n",
      "1 1\n",
      "2 2\n",
      "\n",
      " shape: tamanho do array em cada dimensao\n",
      "(6,) (8,)\n",
      "(3, 6) (5, 10)\n",
      "\n",
      " size: numero total de elementos\n",
      "6 8\n",
      "18 50\n",
      "\n",
      " dtype: tipo dos elementos\n",
      "int64 float64\n",
      "int64 float64\n",
      "\n",
      " itemsize: tamanho em bytes de cada elemento\n",
      "8 8\n",
      "8 8\n",
      "\n",
      " data: buffer contendo os elementos do array\n",
      "<memory at 0x1066e2d08> <memory at 0x106816288>\n",
      "<memory at 0x1067efa68> <memory at 0x1067ef7e0>\n"
     ]
    }
   ],
   "source": [
    "print('a1d=\\n',a1d)\n",
    "print('b1d=\\n',b1d)\n",
    "print('a2d=\\n',a2d)\n",
    "print('c2d=\\n',b2d)\n",
    "print(\" ndim: o numero de eixos\")\n",
    "print(a1d.ndim,b1d.ndim)\n",
    "print(a2d.ndim,c2d.ndim)\n",
    "print(\"\\n shape: tamanho do array em cada dimensao\")\n",
    "print(a1d.shape,b1d.shape)\n",
    "print(a2d.shape,c2d.shape)\n",
    "print(\"\\n size: numero total de elementos\")\n",
    "print(a1d.size,b1d.size)\n",
    "print(a2d.size,c2d.size)\n",
    "print(\"\\n dtype: tipo dos elementos\")\n",
    "print(a1d.dtype,b1d.dtype)\n",
    "print(a2d.dtype,c2d.dtype)\n",
    "print(\"\\n itemsize: tamanho em bytes de cada elemento\")\n",
    "print(a1d.itemsize,b1d.itemsize)\n",
    "print(a2d.itemsize,c2d.itemsize)\n",
    "print(\"\\n data: buffer contendo os elementos do array\")\n",
    "print(a1d.data,b1d.data)\n",
    "print(a2d.data,c2d.data)"
   ]
  },
  {
   "cell_type": "markdown",
   "metadata": {},
   "source": [
    "<img src=\"numpy_dypes.png\" width=\"600\" />"
   ]
  },
  {
   "cell_type": "markdown",
   "metadata": {},
   "source": [
    "### Acessando elementos de arrays\n",
    "- os índices variam de 0 a $ k_i-1 $, onde $ k_i $ é o número de elementos na dimensão $ i $"
   ]
  },
  {
   "cell_type": "code",
   "execution_count": 4,
   "metadata": {},
   "outputs": [
    {
     "name": "stdout",
     "output_type": "stream",
     "text": [
      "[ 1  3  5  7  9 10]\n",
      "1 7 10\n",
      "-----\n",
      "[[ 1  3  5  7  9 11]\n",
      " [ 2  4  6  8 10 12]\n",
      " [ 0  1  2  3  4  5]]\n",
      "[ 2  4  6  8 10 12]\n",
      "3 6 5\n"
     ]
    }
   ],
   "source": [
    "# Acessando elementos do array\n",
    "# Índices variam de 0 a n-1 em cada eixo\n",
    "print(a1d)\n",
    "print(a1d[0],a1d[3],a1d[-1])\n",
    "print(5*'-')\n",
    "print(a2d)\n",
    "print(a2d[1])\n",
    "print(a2d[0,1],a2d[1,2],a2d[-1,-1])"
   ]
  },
  {
   "cell_type": "markdown",
   "metadata": {},
   "source": [
    "- Iterar sobre um array é feito em relação ao primeiro eixo\n",
    "- _.flat_ permite percorrer todos os elementos"
   ]
  },
  {
   "cell_type": "code",
   "execution_count": 5,
   "metadata": {},
   "outputs": [
    {
     "name": "stdout",
     "output_type": "stream",
     "text": [
      "[ 1  3  5  7  9 11]\n",
      "[ 2  4  6  8 10 12]\n",
      "[0 1 2 3 4 5]\n",
      "1\n",
      "3\n",
      "5\n",
      "7\n",
      "9\n",
      "11\n",
      "2\n",
      "4\n",
      "6\n",
      "8\n",
      "10\n",
      "12\n",
      "0\n",
      "1\n",
      "2\n",
      "3\n",
      "4\n",
      "5\n"
     ]
    }
   ],
   "source": [
    "for r in a2d:\n",
    "    print(r)\n",
    "    \n",
    "for i in a2d.flat:\n",
    "    print(i)"
   ]
  },
  {
   "cell_type": "markdown",
   "metadata": {},
   "source": [
    "### Fatiando arrays (slicing)\n",
    "- Array slicing funciona como em listas, mas em múltiplas dimensões\n",
    "- Omitir um índice corresponde a recuperar toda a dimensão omitida\n",
    "- Um slice é uma \"visão\" (__VIEW__) do array original (similar a uma referencia), isto é, o dado não é copiado"
   ]
  },
  {
   "cell_type": "code",
   "execution_count": 6,
   "metadata": {},
   "outputs": [
    {
     "name": "stdout",
     "output_type": "stream",
     "text": [
      "[[ 1  3  5  7  9 11]\n",
      " [ 2  4  6  8 10 12]\n",
      " [ 0  1  2  3  4  5]]\n",
      "fixing a row and traversing columns (equivalent to a2d[1])\n",
      " [ 2  4  6  8 10 12]\n",
      "fixing a column and traversing rows\n",
      " [5 6 2]\n",
      "traversing an array block\n",
      " [[ 6  8 10]\n",
      " [ 2  3  4]]\n",
      "traversing a subset of rows \n",
      " [[ 1  3  5  7  9 11]\n",
      " [ 0  1  2  3  4  5]]\n",
      "traversing a subset of columns \n",
      " [[ 1  5 11]\n",
      " [ 2  6 12]\n",
      " [ 0  2  5]]\n",
      "traversing a subset of array elements \n",
      " [1 6 5]\n"
     ]
    }
   ],
   "source": [
    "print(a2d)\n",
    "print('fixing a row and traversing columns (equivalent to a2d[1])\\n',\n",
    "      a2d[1,:])\n",
    "\n",
    "print('fixing a column and traversing rows\\n',a2d[:,2])\n",
    "\n",
    "print('traversing an array block\\n',a2d[1:,2:5])\n",
    "\n",
    "print('traversing a subset of rows \\n',a2d[[0,2]])\n",
    "\n",
    "print('traversing a subset of columns \\n',a2d[:,[0,2,5]])\n",
    "\n",
    "print('traversing a subset of array elements \\n',a2d[[0,1,2],[0,2,5]])"
   ]
  },
  {
   "cell_type": "code",
   "execution_count": 12,
   "metadata": {},
   "outputs": [
    {
     "name": "stdout",
     "output_type": "stream",
     "text": [
      "a: matrix 3x3\n",
      "('[:2,1]', (2,))\n",
      "('[:,-1]', (3,))\n",
      "('[2]', (3,))\n",
      "('[2,:]', (3,))\n",
      "('[2:,:]', (1, 3))\n",
      "('[:2,1:]', (2, 2))\n",
      "('[:,-1:]', (3, 1))\n"
     ]
    }
   ],
   "source": [
    "a = np.ones((3,3))\n",
    "print('a: matrix 3x3')\n",
    "l = []\n",
    "l.append(('[:2,1]',a[:2,1].shape))\n",
    "l.append(('[:,-1]',a[:,-1].shape))\n",
    "l.append(('[2]',a[2].shape))\n",
    "l.append(('[2,:]',a[2,:].shape))\n",
    "l.append(('[2:,:]',a[2:,:].shape))\n",
    "l.append(('[:2,1:]',a[:2,1:].shape))\n",
    "l.append(('[:,-1:]',a[:,-1:].shape))\n",
    "for i in l:\n",
    "    print(i)"
   ]
  },
  {
   "cell_type": "markdown",
   "metadata": {},
   "source": [
    "- métodos ravel e reshape"
   ]
  },
  {
   "cell_type": "code",
   "execution_count": 27,
   "metadata": {},
   "outputs": [
    {
     "name": "stdout",
     "output_type": "stream",
     "text": [
      "a:\n",
      " [[0 1 2]\n",
      " [3 4 5]\n",
      " [6 7 8]]\n",
      "b = a.ravel():\n",
      " [0 1 2 3 4 5 6 7 8]\n",
      "c = b.reshape(3,3):\n",
      " [[0 1 2]\n",
      " [3 4 5]\n",
      " [6 7 8]]\n"
     ]
    }
   ],
   "source": [
    "a = np.arange(9).reshape((3,3))\n",
    "print('a:\\n',a)\n",
    "b = a.ravel()  \n",
    "print('b = a.ravel():\\n',b)\n",
    "c = b.reshape(3,3)\n",
    "print('c = b.reshape(3,3):\\n',c)"
   ]
  },
  {
   "cell_type": "markdown",
   "metadata": {},
   "source": [
    "__Atenção__:\n",
    "- flatten() tem a mesma funcionalidade que ravel(), entretanto flatten() sempre gera uma cópia do array, enquanto ravel() não gerar uma cópia"
   ]
  },
  {
   "cell_type": "code",
   "execution_count": 28,
   "metadata": {},
   "outputs": [
    {
     "name": "stdout",
     "output_type": "stream",
     "text": [
      "a:\n",
      " [[0 1 2]\n",
      " [3 4 5]\n",
      " [6 7 8]]\n",
      "b = a.ravel() with b[1]=-2\n",
      " [ 0 -2  2  3  4  5  6  7  8]\n",
      "a:\n",
      " [[ 0 -2  2]\n",
      " [ 3  4  5]\n",
      " [ 6  7  8]]\n",
      "-----\n",
      "c = a.flatten() with c[2]=-1\n",
      " [ 0 -2 -1  3  4  5  6  7  8]\n",
      "a:\n",
      " [[ 0 -2  2]\n",
      " [ 3  4  5]\n",
      " [ 6  7  8]]\n"
     ]
    }
   ],
   "source": [
    "print('a:\\n',a)\n",
    "b = a.ravel()\n",
    "b[1] = -2\n",
    "print('b = a.ravel() with b[1]=-2\\n', b)\n",
    "print('a:\\n',a)\n",
    "\n",
    "print(5*'-')\n",
    "c = a.flatten()\n",
    "c[2] = -1\n",
    "\n",
    "print('c = a.flatten() with c[2]=-1\\n',c)\n",
    "print('a:\\n',a)"
   ]
  },
  {
   "cell_type": "markdown",
   "metadata": {},
   "source": [
    "- Transpose"
   ]
  },
  {
   "cell_type": "code",
   "execution_count": 9,
   "metadata": {},
   "outputs": [
    {
     "name": "stdout",
     "output_type": "stream",
     "text": [
      "[[ 1  3  5  7  9 11]\n",
      " [ 2  4  6  8 10 12]\n",
      " [ 0  1  2  3  4  5]]\n",
      "(3, 6)\n",
      "[[ 1  2  0]\n",
      " [ 3  4  1]\n",
      " [ 5  6  2]\n",
      " [ 7  8  3]\n",
      " [ 9 10  4]\n",
      " [11 12  5]]\n",
      "(6, 3)\n"
     ]
    }
   ],
   "source": [
    "print(a2d)\n",
    "print(a2d.shape)\n",
    "a2d_transposed = a2d.T\n",
    "print(a2d_transposed)\n",
    "print(a2d_transposed.shape)"
   ]
  },
  {
   "cell_type": "markdown",
   "metadata": {},
   "source": [
    "- Um array de valores booleanos (máscara boolena) pode ser usado para selecionar elementos em outro array\n",
    "- Máscaras boolenas podem ser usadas para fazer atribuições de maneira mais elegante\n"
   ]
  },
  {
   "cell_type": "code",
   "execution_count": 31,
   "metadata": {},
   "outputs": [
    {
     "name": "stdout",
     "output_type": "stream",
     "text": [
      "[[ 0  1  2  3  4  5]\n",
      " [ 6  7  8  9 10 11]\n",
      " [12 13 14 15 16 17]]\n",
      "[[False False False False False False]\n",
      " [False False  True  True  True  True]\n",
      " [ True  True  True  True  True  True]]\n",
      "[ 8  9 10 11 12 13 14 15 16 17]\n",
      "[[0 1 2 3 4 5]\n",
      " [6 7 0 0 0 0]\n",
      " [0 0 0 0 0 0]]\n"
     ]
    }
   ],
   "source": [
    "x = np.arange(18).reshape(3,6)\n",
    "print(x)\n",
    "mask = (x > 7)\n",
    "print(mask)\n",
    "print(x[mask])\n",
    "x[mask]=0\n",
    "print(x)"
   ]
  },
  {
   "cell_type": "markdown",
   "metadata": {},
   "source": [
    "### Visualizações \n",
    "- Uma _visualização_ (view) é criada ao fatiar (slice) um array\n",
    "- Uma _visualização_ é uma referência a uma parte de um array\n",
    "- Alterar elementos da _visualização_ altera o array original\n",
    "- Se necessário, você pode explicitamente fazer uma cópia\n"
   ]
  },
  {
   "cell_type": "code",
   "execution_count": 32,
   "metadata": {},
   "outputs": [
    {
     "name": "stdout",
     "output_type": "stream",
     "text": [
      "[[0 1 2 3 4 5]\n",
      " [6 7 0 0 0 0]\n",
      " [0 0 0 0 0 0]]\n",
      "[[0 1 2]\n",
      " [6 7 0]\n",
      " [0 0 0]]\n",
      "-----\n",
      "[[ 0  1  2  3  4  5]\n",
      " [ 6  7  0  0  0  0]\n",
      " [ 0 -1  0  0  0  0]]\n",
      "[[ 0  1  2]\n",
      " [ 6  7  0]\n",
      " [ 0 -1  0]]\n"
     ]
    }
   ],
   "source": [
    "y = x[:,:3] # y é um view de x\n",
    "print(x)\n",
    "print(y)\n",
    "print(5*'-')\n",
    "y[2,1] = -1\n",
    "print(x)\n",
    "print(y)"
   ]
  },
  {
   "cell_type": "code",
   "execution_count": 33,
   "metadata": {},
   "outputs": [
    {
     "name": "stdout",
     "output_type": "stream",
     "text": [
      "[[ 0  1  2  3  4  5]\n",
      " [ 6  7  0  0  0  0]\n",
      " [ 0 -1  0  0  0  0]]\n",
      "[[-1  1  2]\n",
      " [ 6  7  0]\n",
      " [ 0 -1  0]]\n"
     ]
    }
   ],
   "source": [
    "z = np.copy(x[:,:3])\n",
    "z[0,0] = -1\n",
    "print(x)\n",
    "print(z)"
   ]
  },
  {
   "cell_type": "markdown",
   "metadata": {},
   "source": [
    "---\n",
    "## Pandas - Parte I\n",
    "---"
   ]
  },
  {
   "cell_type": "markdown",
   "metadata": {},
   "source": [
    "Pandas é um módulo python construído tendo como base Numpy e Matplotlib\n",
    "- Transforma dados de entrada em uma tabela de dados\n",
    "- Componentes chave\n",
    "  - Series (Séries)\n",
    "  - DataFrame\n",
    "  - Panel (Painel)"
   ]
  },
  {
   "cell_type": "markdown",
   "metadata": {},
   "source": [
    "### Séries (Series)\n",
    "- Objeto unidimensional do tipo array contendo dados e rótulos (labels) (ou índices)\n",
    "- Se um índice não for informado explicitamente, Pandas cria um automaticamente (equivalente a `range(N)`, sendo N é o tamanho dos seus dados)\n",
    "- O índice é usado para implementar buscas rápidas, alinhamento de dados e operações de junção (como join em SQL)\n",
    "- Suporta índices hierárquicos, onde cada label é uma tupla"
   ]
  },
  {
   "cell_type": "code",
   "execution_count": 34,
   "metadata": {},
   "outputs": [
    {
     "name": "stdout",
     "output_type": "stream",
     "text": [
      "a    0\n",
      "b    1\n",
      "c    2\n",
      "d    3\n",
      "e    4\n",
      "dtype: int64\n"
     ]
    }
   ],
   "source": [
    "import pandas as pd\n",
    "import numpy as np\n",
    "\n",
    "# Criando uma série\n",
    "indice = ['a','b','c','d','e']\n",
    "series = pd.Series(np.arange(5), index=indice)\n",
    "print(series)"
   ]
  },
  {
   "cell_type": "markdown",
   "metadata": {},
   "source": [
    "- Conteúdos podem ser acessados via um ou mais índices\n"
   ]
  },
  {
   "cell_type": "code",
   "execution_count": 13,
   "metadata": {},
   "outputs": [
    {
     "name": "stdout",
     "output_type": "stream",
     "text": [
      "0\n",
      "c    2\n",
      "e    4\n",
      "dtype: int64\n"
     ]
    }
   ],
   "source": [
    "print(series['a'])\n",
    "print(series[['c','e']])"
   ]
  },
  {
   "cell_type": "markdown",
   "metadata": {},
   "source": [
    "- slicing funciona para índices numéricos e nominais"
   ]
  },
  {
   "cell_type": "code",
   "execution_count": 14,
   "metadata": {},
   "outputs": [
    {
     "name": "stdout",
     "output_type": "stream",
     "text": [
      "0\n",
      "a    0\n",
      "b    1\n",
      "dtype: int64\n",
      "b    1\n",
      "c    2\n",
      "d    3\n",
      "e    4\n",
      "dtype: int64\n"
     ]
    }
   ],
   "source": [
    "print(series[0])\n",
    "print(series[0:2])\n",
    "print(series['b':'e']) # slicing com índice nominal é inclusivo\n",
    "                       # (último elemento é incluido na fatia)"
   ]
  },
  {
   "cell_type": "markdown",
   "metadata": {},
   "source": [
    "- máscaras boolenas também podem ser usadas"
   ]
  },
  {
   "cell_type": "code",
   "execution_count": 15,
   "metadata": {},
   "outputs": [
    {
     "name": "stdout",
     "output_type": "stream",
     "text": [
      "d    3\n",
      "e    4\n",
      "dtype: int64\n"
     ]
    }
   ],
   "source": [
    "mask = (series>=3)\n",
    "print(series[mask])"
   ]
  },
  {
   "cell_type": "markdown",
   "metadata": {},
   "source": [
    "- reindex\n",
    "  - modifica o valor do índice, adiciona valores faltantes ou preenche valores faltantes"
   ]
  },
  {
   "cell_type": "code",
   "execution_count": 35,
   "metadata": {},
   "outputs": [
    {
     "name": "stdout",
     "output_type": "stream",
     "text": [
      "original\n",
      "0    0\n",
      "1    1\n",
      "2    2\n",
      "dtype: int64\n",
      "\n",
      "reindexado\n",
      "4    NaN\n",
      "3    NaN\n",
      "2    2.0\n",
      "1    1.0\n",
      "0    0.0\n",
      "dtype: float64\n"
     ]
    }
   ],
   "source": [
    "s = pd.Series(np.arange(3)) # neste caso o indice é criado automaticamente\n",
    "print('original')\n",
    "print(s)\n",
    "\n",
    "print('\\nreindexado')\n",
    "s_nan = s.reindex([4,3,2,1,0])\n",
    "print(s_nan)\n"
   ]
  },
  {
   "cell_type": "code",
   "execution_count": 39,
   "metadata": {},
   "outputs": [
    {
     "name": "stdout",
     "output_type": "stream",
     "text": [
      "\n",
      " reindexado (tratando valores faltantes, método 1)\n",
      "4   -1\n",
      "3   -1\n",
      "2    2\n",
      "1    1\n",
      "0    0\n",
      "dtype: int64\n",
      "\n",
      "reindexado (tratando valores faltantes, método 2)\n",
      "3    2\n",
      "2    2\n",
      "1    1\n",
      "0    0\n",
      "5    2\n",
      "6    2\n",
      "dtype: int64\n"
     ]
    }
   ],
   "source": [
    "print('\\n reindexado (tratando valores faltantes, método 1)')\n",
    "s_fvalue = s.reindex([4,3,2,1,0], fill_value=-1)\n",
    "print(s_fvalue)\n",
    "\n",
    "print('\\nreindexado (tratando valores faltantes, método 2)')\n",
    "s_auto = s.reindex([3,2,1,0,5,6], method='nearest')\n",
    "print(s_auto)"
   ]
  },
  {
   "cell_type": "markdown",
   "metadata": {},
   "source": [
    "- Operações aritméticas (realizada de acordo com o \"match\" dos indices)"
   ]
  },
  {
   "cell_type": "code",
   "execution_count": 17,
   "metadata": {},
   "outputs": [
    {
     "name": "stdout",
     "output_type": "stream",
     "text": [
      "4   -1\n",
      "3   -1\n",
      "2    2\n",
      "1    1\n",
      "0    0\n",
      "dtype: int64\n",
      "3    2\n",
      "2    2\n",
      "1    1\n",
      "0    0\n",
      "5    2\n",
      "6    2\n",
      "dtype: int64\n",
      "0    0.0\n",
      "1    2.0\n",
      "2    4.0\n",
      "3    1.0\n",
      "4    NaN\n",
      "5    NaN\n",
      "6    NaN\n",
      "dtype: float64\n"
     ]
    }
   ],
   "source": [
    "print(s_fvalue) \n",
    "print(s_auto) \n",
    "print(s_fvalue+s_auto)"
   ]
  },
  {
   "cell_type": "markdown",
   "metadata": {},
   "source": [
    "- é possívle organizar os elementos de uma série pelo índice ou pelos valores"
   ]
  },
  {
   "cell_type": "code",
   "execution_count": 18,
   "metadata": {},
   "outputs": [
    {
     "name": "stdout",
     "output_type": "stream",
     "text": [
      "d    0.278778\n",
      "a    0.263309\n",
      "b    0.379584\n",
      "c    0.565513\n",
      "dtype: float64\n",
      "a    0.263309\n",
      "b    0.379584\n",
      "c    0.565513\n",
      "d    0.278778\n",
      "dtype: float64\n",
      "a    0.263309\n",
      "d    0.278778\n",
      "b    0.379584\n",
      "c    0.565513\n",
      "dtype: float64\n"
     ]
    }
   ],
   "source": [
    "r = pd.Series(np.random.rand(4), index=['d','a','b','c'])\n",
    "print(r)\n",
    "print(r.sort_index())\n",
    "print(r.sort_values())"
   ]
  },
  {
   "cell_type": "markdown",
   "metadata": {},
   "source": [
    "- Elementos do índice não precisam ser únicos"
   ]
  },
  {
   "cell_type": "code",
   "execution_count": 19,
   "metadata": {},
   "outputs": [
    {
     "name": "stdout",
     "output_type": "stream",
     "text": [
      "a    0\n",
      "b    1\n",
      "a    2\n",
      "b    3\n",
      "dtype: int64\n",
      "False\n",
      "a    0\n",
      "a    2\n",
      "dtype: int64\n"
     ]
    }
   ],
   "source": [
    "s = pd.Series(range(4), index=list('abab'))\n",
    "print(s)\n",
    "print(s.index.is_unique)\n",
    "print(s['a'])"
   ]
  },
  {
   "cell_type": "markdown",
   "metadata": {},
   "source": [
    "- Há muitos métodos implementados para operar nos valores. Alguns exemplo, são:\n",
    "  - unique()\n",
    "  - value_counts()\n",
    "  - isin()\n",
    "  - ...(muito mais na parte II, próxima aula)"
   ]
  },
  {
   "cell_type": "code",
   "execution_count": 20,
   "metadata": {},
   "outputs": [
    {
     "name": "stdout",
     "output_type": "stream",
     "text": [
      "['c' 'a' 'd' 'b']\n",
      "a    3\n",
      "c    3\n",
      "b    2\n",
      "d    1\n",
      "dtype: int64\n",
      "0    False\n",
      "1    False\n",
      "2     True\n",
      "3    False\n",
      "4    False\n",
      "5     True\n",
      "6     True\n",
      "7    False\n",
      "8    False\n",
      "dtype: bool\n"
     ]
    }
   ],
   "source": [
    "s = pd.Series(['c','a','d','a','a','b','b','c','c'])\n",
    "print(s.unique())\n",
    "print(s.value_counts())\n",
    "print(s.isin(['b','d']))"
   ]
  },
  {
   "cell_type": "markdown",
   "metadata": {},
   "source": [
    "### DataFrames\n",
    "- Estrutura de dados como uma planilha ou tabela, contendo colunas ordenadas\n",
    "- Possui índices de linhas e colunas\n",
    "- Pode ser interpretado como um dicionário de Séries (cada série em uma linha) em que todas as Séries compartilham o mesmo conjunto de índices (os índices das colunas)"
   ]
  },
  {
   "cell_type": "markdown",
   "metadata": {},
   "source": [
    "Dataframes podem ser criados de muitas maneiras diferentes:\n",
    "- __2-D NumPy array:__ Uma matriz de dados, podendo passar os índices de linha e coluna\n",
    "- __Dict of arrays, lists, or tuples:__ Cada sequência se torna uma coluna. As sequências devem ter o mesmo número de elementos\n",
    "- __Dict of Series:__ Cada séries se torna uma coluna. Índices de cada séries são unidos para formar o índice das linhas\n",
    "- __Dict of dicts:__ Cada dicionário se torna uma coluna. Chaves dos dicionários se unem para formar os índices das linhas\n",
    "- __List of dicts or Series:__ Cada item se torna uma linha no DataFrame. A unidão das chaves (para dicionário) ou índices (para Séries) gera o índice das colunas\n",
    "- __List of lists or tuples:__\tSimilar a uma matriz do numpy\n",
    "- __DataFrame:__ O índice do DataFrame é mantido a não ser que um novo seja fornecido \n",
    "- __NumPy masked array:__ Matriz de dados em que valores falso se tornam NaN\n"
   ]
  },
  {
   "cell_type": "code",
   "execution_count": 69,
   "metadata": {},
   "outputs": [
    {
     "name": "stdout",
     "output_type": "stream",
     "text": [
      "  state  year   pop\n",
      "0    FL  2010  18.8\n",
      "1    FL  2011  19.1\n",
      "2    GA  2008   9.7\n",
      "3    GA  2010   9.7\n",
      "4    GA  2011   9.8\n"
     ]
    }
   ],
   "source": [
    "# Criando um dataframe com um dicionário de listas\n",
    "d = {'state' : ['FL', 'FL', 'GA', 'GA', 'GA'],\n",
    "     'year' :  [2010, 2011, 2008, 2010, 2011],\n",
    "     'pop' :   [18.8, 19.1, 9.7, 9.7, 9.8]}\n",
    "\n",
    "df_d = pd.DataFrame(d)\n",
    "print(df_d)"
   ]
  },
  {
   "cell_type": "markdown",
   "metadata": {},
   "source": [
    "**Atenção:** Duas funções são muito úteis para analisar rapidamente um novo DataFrame: df.head() e df.dtypes()"
   ]
  },
  {
   "cell_type": "code",
   "execution_count": 41,
   "metadata": {},
   "outputs": [
    {
     "data": {
      "text/html": [
       "<div>\n",
       "<style scoped>\n",
       "    .dataframe tbody tr th:only-of-type {\n",
       "        vertical-align: middle;\n",
       "    }\n",
       "\n",
       "    .dataframe tbody tr th {\n",
       "        vertical-align: top;\n",
       "    }\n",
       "\n",
       "    .dataframe thead th {\n",
       "        text-align: right;\n",
       "    }\n",
       "</style>\n",
       "<table border=\"1\" class=\"dataframe\">\n",
       "  <thead>\n",
       "    <tr style=\"text-align: right;\">\n",
       "      <th></th>\n",
       "      <th>state</th>\n",
       "      <th>year</th>\n",
       "      <th>pop</th>\n",
       "    </tr>\n",
       "  </thead>\n",
       "  <tbody>\n",
       "    <tr>\n",
       "      <th>0</th>\n",
       "      <td>FL</td>\n",
       "      <td>2010</td>\n",
       "      <td>18.8</td>\n",
       "    </tr>\n",
       "    <tr>\n",
       "      <th>1</th>\n",
       "      <td>FL</td>\n",
       "      <td>2011</td>\n",
       "      <td>19.1</td>\n",
       "    </tr>\n",
       "    <tr>\n",
       "      <th>2</th>\n",
       "      <td>GA</td>\n",
       "      <td>2008</td>\n",
       "      <td>9.7</td>\n",
       "    </tr>\n",
       "    <tr>\n",
       "      <th>3</th>\n",
       "      <td>GA</td>\n",
       "      <td>2010</td>\n",
       "      <td>9.7</td>\n",
       "    </tr>\n",
       "    <tr>\n",
       "      <th>4</th>\n",
       "      <td>GA</td>\n",
       "      <td>2011</td>\n",
       "      <td>9.8</td>\n",
       "    </tr>\n",
       "  </tbody>\n",
       "</table>\n",
       "</div>"
      ],
      "text/plain": [
       "  state  year   pop\n",
       "0    FL  2010  18.8\n",
       "1    FL  2011  19.1\n",
       "2    GA  2008   9.7\n",
       "3    GA  2010   9.7\n",
       "4    GA  2011   9.8"
      ]
     },
     "execution_count": 41,
     "metadata": {},
     "output_type": "execute_result"
    }
   ],
   "source": [
    "df_d.head() # mostra as 5 primeiras linhas do DataFrame."
   ]
  },
  {
   "cell_type": "code",
   "execution_count": 24,
   "metadata": {},
   "outputs": [
    {
     "data": {
      "text/plain": [
       "state     object\n",
       "year       int64\n",
       "pop      float64\n",
       "dtype: object"
      ]
     },
     "execution_count": 24,
     "metadata": {},
     "output_type": "execute_result"
    }
   ],
   "source": [
    "df_d.dtypes # mostra o tipo de dado de cada coluna"
   ]
  },
  {
   "cell_type": "code",
   "execution_count": 53,
   "metadata": {},
   "outputs": [
    {
     "name": "stdout",
     "output_type": "stream",
     "text": [
      "        FL   GA\n",
      "2008   NaN  9.7\n",
      "2010  18.1  9.7\n",
      "2011  19.1  9.8\n"
     ]
    }
   ],
   "source": [
    "# Criando um dataframe com um dicionário de dicionários\n",
    "dod = {'FL' : {2010:18.1, 2011:19.1},\n",
    "       'GA' : {2008: 9.7, 2010: 9.7, 2011:9.8}}\n",
    "\n",
    "df_dod = pd.DataFrame(dod)\n",
    "print(df_dod)"
   ]
  },
  {
   "cell_type": "markdown",
   "metadata": {},
   "source": [
    "#### Manipulando e Acessando Colunas"
   ]
  },
  {
   "cell_type": "markdown",
   "metadata": {},
   "source": [
    "- Colunas podem ser acessadas:\n",
    "  - usando seus rótulos dentro de []\n",
    "  - usando rótulo como atributo\n",
    "  - usando lista de rótulos dentro de [] (acessa várias colunas)"
   ]
  },
  {
   "cell_type": "code",
   "execution_count": 48,
   "metadata": {},
   "outputs": [
    {
     "name": "stdout",
     "output_type": "stream",
     "text": [
      "['state' 'year' 'pop']\n",
      "-----\n",
      "0    18.8\n",
      "1    19.1\n",
      "2     9.7\n",
      "3     9.7\n",
      "4     9.8\n",
      "Name: pop, dtype: float64\n",
      "-----\n",
      "0    FL\n",
      "1    FL\n",
      "2    GA\n",
      "3    GA\n",
      "4    GA\n",
      "Name: state, dtype: object\n",
      "-----\n",
      "    pop  year\n",
      "0  18.8  2010\n",
      "1  19.1  2011\n",
      "2   9.7  2008\n",
      "3   9.7  2010\n",
      "4   9.8  2011\n"
     ]
    }
   ],
   "source": [
    "print(df_d.columns.values)  # imprime o nome das colunas\n",
    "print(5*'-')\n",
    "print(df_d['pop'])\n",
    "print(5*'-')\n",
    "print(df_d.state)\n",
    "print(5*'-')\n",
    "print(df_d[['pop','year']])"
   ]
  },
  {
   "cell_type": "markdown",
   "metadata": {},
   "source": [
    "- Colunas podem ser criadas simplesmente criando um novo rótulo\n",
    "- Colunas podem ser removidas usando o método `drop` ou `del`"
   ]
  },
  {
   "cell_type": "code",
   "execution_count": 50,
   "metadata": {},
   "outputs": [
    {
     "name": "stdout",
     "output_type": "stream",
     "text": [
      "  state  year   pop  new_col\n",
      "0    FL  2010  18.8      0.0\n",
      "1    FL  2011  19.1      0.0\n",
      "2    GA  2008   9.7      0.0\n",
      "3    GA  2010   9.7      0.0\n",
      "4    GA  2011   9.8      0.0\n",
      "  state  year   pop  new_col\n",
      "0    FL  2010  18.8      0.0\n",
      "1    FL  2011  19.1      0.0\n",
      "2    GA  2008   9.7      0.0\n",
      "3    GA  2010   9.7      0.0\n",
      "4    GA  2011   9.8      0.0\n",
      "  state  year   pop\n",
      "0    FL  2010  18.8\n",
      "1    FL  2011  19.1\n",
      "2    GA  2008   9.7\n",
      "3    GA  2010   9.7\n",
      "4    GA  2011   9.8\n"
     ]
    }
   ],
   "source": [
    "print(df_d)\n",
    "# criando uma nova coluna\n",
    "df_d['new_col'] = np.zeros((df_d.shape[0])) # o comando shape funciona como no numpy\n",
    "print(df_d)\n",
    "# removendo a nova coluna\n",
    "df_d = df_d.drop(['new_col'], axis=1) # OU del df_d['new_col']\n",
    "print(df_d)"
   ]
  },
  {
   "cell_type": "markdown",
   "metadata": {},
   "source": [
    "#### Manipulando e Acessando Linhas"
   ]
  },
  {
   "cell_type": "markdown",
   "metadata": {},
   "source": [
    "- linhas podem ser acessadas usando:\n",
    "  - iloc: manipula o DataFrame como uma matriz com índices inteiros, assim como no Numpy\n",
    "  - loc: seleciona linhas pelos rótulos (índices) ou por máscara booleana"
   ]
  },
  {
   "cell_type": "code",
   "execution_count": 51,
   "metadata": {},
   "outputs": [
    {
     "name": "stdout",
     "output_type": "stream",
     "text": [
      "  state  year   pop\n",
      "0    FL  2010  18.8\n",
      "1    FL  2011  19.1\n",
      "2    GA  2008   9.7\n",
      "3    GA  2010   9.7\n",
      "4    GA  2011   9.8\n",
      "-----\n",
      "state      GA\n",
      "year     2008\n",
      "pop       9.7\n",
      "Name: 2, dtype: object\n",
      "-----\n",
      "<class 'pandas.core.series.Series'>\n",
      "-----\n",
      "   year  pop\n",
      "2  2008  9.7\n",
      "3  2010  9.7\n",
      "-----\n",
      "<class 'pandas.core.frame.DataFrame'>\n"
     ]
    }
   ],
   "source": [
    "print(df_d)\n",
    "print(5*'-')\n",
    "print(df_d.iloc[2]) # retorna uma linha como uma série (rótulo da linha se torna o rótulo de coluna)\n",
    "print(5*'-')\n",
    "print(type(df_d.iloc[2]))\n",
    "print(5*'-')\n",
    "print(df_d.iloc[2:4,1:])  \n",
    "print(5*'-')\n",
    "print(type(df_d.iloc[2:4,1:]))"
   ]
  },
  {
   "cell_type": "code",
   "execution_count": 54,
   "metadata": {},
   "outputs": [
    {
     "name": "stdout",
     "output_type": "stream",
     "text": [
      "        FL   GA\n",
      "2008   NaN  9.7\n",
      "2010  18.1  9.7\n",
      "2011  19.1  9.8\n",
      "\n",
      "FL    NaN\n",
      "GA    9.7\n",
      "Name: 2008, dtype: float64\n",
      "\n",
      "        FL   GA\n",
      "2010  18.1  9.7\n",
      "2011  19.1  9.8\n",
      "\n",
      "        FL   GA\n",
      "2008   NaN  9.7\n",
      "2010  18.1  9.7\n"
     ]
    }
   ],
   "source": [
    "print(df_dod)\n",
    "print()\n",
    "print(df_dod.loc[2008])\n",
    "print()\n",
    "print(df_dod.loc[[2010, 2011]])\n",
    "print()\n",
    "print(df_dod.loc[df_dod['GA'] == 9.7]) # loc aceita expressoes booleanas"
   ]
  },
  {
   "cell_type": "code",
   "execution_count": 56,
   "metadata": {},
   "outputs": [
    {
     "name": "stdout",
     "output_type": "stream",
     "text": [
      "  state  year  pop\n",
      "3    GA  2010  9.7\n",
      "4    GA  2011  9.8\n"
     ]
    }
   ],
   "source": [
    "# as expressoes booleanas podem ser combinadas\n",
    "# & é o operador lógico AND\n",
    "# Existe também o operador lógico OR | (barra vertical)\n",
    "print(df_d.loc[(df_d['state'] == 'GA') & (df_d['year'] >= 2010)])"
   ]
  },
  {
   "cell_type": "code",
   "execution_count": 51,
   "metadata": {},
   "outputs": [
    {
     "name": "stdout",
     "output_type": "stream",
     "text": [
      "cond 1\n",
      "0    False\n",
      "1    False\n",
      "2     True\n",
      "3     True\n",
      "4     True\n",
      "Name: state, dtype: bool\n",
      "\n",
      "cond 2\n",
      "0     True\n",
      "1     True\n",
      "2    False\n",
      "3     True\n",
      "4     True\n",
      "Name: year, dtype: bool\n",
      "\n",
      "and (&)\n",
      "0    False\n",
      "1    False\n",
      "2    False\n",
      "3     True\n",
      "4     True\n",
      "dtype: bool\n",
      "\n",
      "or (&)\n",
      "0    True\n",
      "1    True\n",
      "2    True\n",
      "3    True\n",
      "4    True\n",
      "dtype: bool\n"
     ]
    }
   ],
   "source": [
    "# retornando uma lista tipo 'mascara booleana'\n",
    "print('cond 1')\n",
    "print(df_d['state'] == 'GA') \n",
    "\n",
    "print('\\ncond 2')\n",
    "print(df_d['year'] >= 2010)\n",
    "\n",
    "print('\\nand (&)')\n",
    "print((df_d['state'] == 'GA') & (df_d['year'] >= 2010))\n",
    "\n",
    "print('\\nor (&)')\n",
    "print((df_d['state'] == 'GA') | (df_d['year'] >= 2010))"
   ]
  },
  {
   "cell_type": "code",
   "execution_count": 60,
   "metadata": {},
   "outputs": [
    {
     "name": "stdout",
     "output_type": "stream",
     "text": [
      "  state  year  pop\n",
      "3    GA  2010  9.7\n",
      "4    GA  2011  9.8\n"
     ]
    }
   ],
   "source": [
    "# Uma outra forma é utilizar a função query\n",
    "print(df_d.query(\"state == 'GA' and year >= 2010\"))"
   ]
  },
  {
   "cell_type": "markdown",
   "metadata": {},
   "source": [
    "- Assim como nas Séries, também é possível ordernar por índice, mas ao ordernar por valor é necessário definir a coluna"
   ]
  },
  {
   "cell_type": "code",
   "execution_count": 55,
   "metadata": {},
   "outputs": [
    {
     "data": {
      "text/html": [
       "<div>\n",
       "<style scoped>\n",
       "    .dataframe tbody tr th:only-of-type {\n",
       "        vertical-align: middle;\n",
       "    }\n",
       "\n",
       "    .dataframe tbody tr th {\n",
       "        vertical-align: top;\n",
       "    }\n",
       "\n",
       "    .dataframe thead th {\n",
       "        text-align: right;\n",
       "    }\n",
       "</style>\n",
       "<table border=\"1\" class=\"dataframe\">\n",
       "  <thead>\n",
       "    <tr style=\"text-align: right;\">\n",
       "      <th></th>\n",
       "      <th>state</th>\n",
       "      <th>year</th>\n",
       "      <th>pop</th>\n",
       "    </tr>\n",
       "  </thead>\n",
       "  <tbody>\n",
       "    <tr>\n",
       "      <th>2</th>\n",
       "      <td>GA</td>\n",
       "      <td>2008</td>\n",
       "      <td>9.7</td>\n",
       "    </tr>\n",
       "    <tr>\n",
       "      <th>0</th>\n",
       "      <td>FL</td>\n",
       "      <td>2010</td>\n",
       "      <td>18.8</td>\n",
       "    </tr>\n",
       "    <tr>\n",
       "      <th>3</th>\n",
       "      <td>GA</td>\n",
       "      <td>2010</td>\n",
       "      <td>9.7</td>\n",
       "    </tr>\n",
       "    <tr>\n",
       "      <th>1</th>\n",
       "      <td>FL</td>\n",
       "      <td>2011</td>\n",
       "      <td>19.1</td>\n",
       "    </tr>\n",
       "    <tr>\n",
       "      <th>4</th>\n",
       "      <td>GA</td>\n",
       "      <td>2011</td>\n",
       "      <td>9.8</td>\n",
       "    </tr>\n",
       "  </tbody>\n",
       "</table>\n",
       "</div>"
      ],
      "text/plain": [
       "  state  year   pop\n",
       "2    GA  2008   9.7\n",
       "0    FL  2010  18.8\n",
       "3    GA  2010   9.7\n",
       "1    FL  2011  19.1\n",
       "4    GA  2011   9.8"
      ]
     },
     "execution_count": 55,
     "metadata": {},
     "output_type": "execute_result"
    }
   ],
   "source": [
    "df_d.sort_values('year')"
   ]
  },
  {
   "cell_type": "code",
   "execution_count": 62,
   "metadata": {},
   "outputs": [
    {
     "data": {
      "text/html": [
       "<div>\n",
       "<style scoped>\n",
       "    .dataframe tbody tr th:only-of-type {\n",
       "        vertical-align: middle;\n",
       "    }\n",
       "\n",
       "    .dataframe tbody tr th {\n",
       "        vertical-align: top;\n",
       "    }\n",
       "\n",
       "    .dataframe thead th {\n",
       "        text-align: right;\n",
       "    }\n",
       "</style>\n",
       "<table border=\"1\" class=\"dataframe\">\n",
       "  <thead>\n",
       "    <tr style=\"text-align: right;\">\n",
       "      <th></th>\n",
       "      <th>state</th>\n",
       "      <th>year</th>\n",
       "      <th>pop</th>\n",
       "    </tr>\n",
       "  </thead>\n",
       "  <tbody>\n",
       "    <tr>\n",
       "      <th>2</th>\n",
       "      <td>GA</td>\n",
       "      <td>2008</td>\n",
       "      <td>9.7</td>\n",
       "    </tr>\n",
       "    <tr>\n",
       "      <th>3</th>\n",
       "      <td>GA</td>\n",
       "      <td>2010</td>\n",
       "      <td>9.7</td>\n",
       "    </tr>\n",
       "    <tr>\n",
       "      <th>4</th>\n",
       "      <td>GA</td>\n",
       "      <td>2011</td>\n",
       "      <td>9.8</td>\n",
       "    </tr>\n",
       "    <tr>\n",
       "      <th>0</th>\n",
       "      <td>FL</td>\n",
       "      <td>2010</td>\n",
       "      <td>18.8</td>\n",
       "    </tr>\n",
       "    <tr>\n",
       "      <th>1</th>\n",
       "      <td>FL</td>\n",
       "      <td>2011</td>\n",
       "      <td>19.1</td>\n",
       "    </tr>\n",
       "  </tbody>\n",
       "</table>\n",
       "</div>"
      ],
      "text/plain": [
       "  state  year   pop\n",
       "2    GA  2008   9.7\n",
       "3    GA  2010   9.7\n",
       "4    GA  2011   9.8\n",
       "0    FL  2010  18.8\n",
       "1    FL  2011  19.1"
      ]
     },
     "execution_count": 62,
     "metadata": {},
     "output_type": "execute_result"
    }
   ],
   "source": [
    "df_d.sort_values('pop')"
   ]
  },
  {
   "cell_type": "markdown",
   "metadata": {},
   "source": [
    "**Atenção:** sort_values, gera uma cópia. Para modificar o DataFrame, deve-se passar o parâmetro `inplace = True`"
   ]
  },
  {
   "cell_type": "code",
   "execution_count": 70,
   "metadata": {},
   "outputs": [
    {
     "name": "stdout",
     "output_type": "stream",
     "text": [
      "  state  year   pop\n",
      "2    GA  2008   9.7\n",
      "3    GA  2010   9.7\n",
      "4    GA  2011   9.8\n",
      "0    FL  2010  18.8\n",
      "1    FL  2011  19.1\n",
      "  state  year   pop\n",
      "0    FL  2010  18.8\n",
      "1    FL  2011  19.1\n",
      "2    GA  2008   9.7\n",
      "3    GA  2010   9.7\n",
      "4    GA  2011   9.8\n",
      "  state  year   pop\n",
      "2    GA  2008   9.7\n",
      "3    GA  2010   9.7\n",
      "4    GA  2011   9.8\n",
      "0    FL  2010  18.8\n",
      "1    FL  2011  19.1\n"
     ]
    }
   ],
   "source": [
    "print(df_d.sort_values('pop'))\n",
    "print(df_d)\n",
    "df_d.sort_values('pop',inplace=True)\n",
    "print(df_d)"
   ]
  },
  {
   "cell_type": "markdown",
   "metadata": {},
   "source": [
    "## Carregando arquivos\n",
    "Pandas permite diversas maneiras de carregas arquivos:\n",
    "- Arquivos de texto\n",
    "- Dados estruturados (JSON, XML, HTML, CSV)\n",
    "- Excel (depende das biblitoecas xlrd e  openpyxl)\n",
    "- Direto de base de dados\n",
    "  - pandas.io.sql  (read_frame)"
   ]
  },
  {
   "cell_type": "code",
   "execution_count": 71,
   "metadata": {},
   "outputs": [
    {
     "name": "stdout",
     "output_type": "stream",
     "text": [
      "Writing simple.csv\n"
     ]
    }
   ],
   "source": [
    "%%writefile simple.csv\n",
    "a,b,c,d,message\n",
    "1,2,3,4,hello\n",
    "5,6,7,8,world\n",
    "9,10,11,12,foo"
   ]
  },
  {
   "cell_type": "code",
   "execution_count": 73,
   "metadata": {},
   "outputs": [
    {
     "name": "stdout",
     "output_type": "stream",
     "text": [
      "['a' 'b' 'c' 'd' 'message']\n"
     ]
    },
    {
     "data": {
      "text/html": [
       "<div>\n",
       "<style scoped>\n",
       "    .dataframe tbody tr th:only-of-type {\n",
       "        vertical-align: middle;\n",
       "    }\n",
       "\n",
       "    .dataframe tbody tr th {\n",
       "        vertical-align: top;\n",
       "    }\n",
       "\n",
       "    .dataframe thead th {\n",
       "        text-align: right;\n",
       "    }\n",
       "</style>\n",
       "<table border=\"1\" class=\"dataframe\">\n",
       "  <thead>\n",
       "    <tr style=\"text-align: right;\">\n",
       "      <th></th>\n",
       "      <th>a</th>\n",
       "      <th>b</th>\n",
       "      <th>c</th>\n",
       "      <th>d</th>\n",
       "      <th>message</th>\n",
       "    </tr>\n",
       "  </thead>\n",
       "  <tbody>\n",
       "    <tr>\n",
       "      <th>0</th>\n",
       "      <td>1</td>\n",
       "      <td>2</td>\n",
       "      <td>3</td>\n",
       "      <td>4</td>\n",
       "      <td>hello</td>\n",
       "    </tr>\n",
       "    <tr>\n",
       "      <th>1</th>\n",
       "      <td>5</td>\n",
       "      <td>6</td>\n",
       "      <td>7</td>\n",
       "      <td>8</td>\n",
       "      <td>world</td>\n",
       "    </tr>\n",
       "    <tr>\n",
       "      <th>2</th>\n",
       "      <td>9</td>\n",
       "      <td>10</td>\n",
       "      <td>11</td>\n",
       "      <td>12</td>\n",
       "      <td>foo</td>\n",
       "    </tr>\n",
       "  </tbody>\n",
       "</table>\n",
       "</div>"
      ],
      "text/plain": [
       "   a   b   c   d message\n",
       "0  1   2   3   4   hello\n",
       "1  5   6   7   8   world\n",
       "2  9  10  11  12     foo"
      ]
     },
     "execution_count": 73,
     "metadata": {},
     "output_type": "execute_result"
    }
   ],
   "source": [
    "# Carregar um CSV simples\n",
    "import pandas as pd # importamos a bilbioteca\n",
    "\n",
    "# a primeira linha vira os índices das colunas\n",
    "df = pd.read_csv('simple.csv')\n",
    "print(df.columns.values)\n",
    "df.head()"
   ]
  },
  {
   "cell_type": "code",
   "execution_count": 74,
   "metadata": {},
   "outputs": [
    {
     "name": "stdout",
     "output_type": "stream",
     "text": [
      "['message' 'hello' 'world' 'foo']\n"
     ]
    },
    {
     "data": {
      "text/html": [
       "<div>\n",
       "<style scoped>\n",
       "    .dataframe tbody tr th:only-of-type {\n",
       "        vertical-align: middle;\n",
       "    }\n",
       "\n",
       "    .dataframe tbody tr th {\n",
       "        vertical-align: top;\n",
       "    }\n",
       "\n",
       "    .dataframe thead th {\n",
       "        text-align: right;\n",
       "    }\n",
       "</style>\n",
       "<table border=\"1\" class=\"dataframe\">\n",
       "  <thead>\n",
       "    <tr style=\"text-align: right;\">\n",
       "      <th></th>\n",
       "      <th>c0</th>\n",
       "      <th>c1</th>\n",
       "      <th>c2</th>\n",
       "      <th>c3</th>\n",
       "    </tr>\n",
       "    <tr>\n",
       "      <th>c4</th>\n",
       "      <th></th>\n",
       "      <th></th>\n",
       "      <th></th>\n",
       "      <th></th>\n",
       "    </tr>\n",
       "  </thead>\n",
       "  <tbody>\n",
       "    <tr>\n",
       "      <th>message</th>\n",
       "      <td>a</td>\n",
       "      <td>b</td>\n",
       "      <td>c</td>\n",
       "      <td>d</td>\n",
       "    </tr>\n",
       "    <tr>\n",
       "      <th>hello</th>\n",
       "      <td>1</td>\n",
       "      <td>2</td>\n",
       "      <td>3</td>\n",
       "      <td>4</td>\n",
       "    </tr>\n",
       "    <tr>\n",
       "      <th>world</th>\n",
       "      <td>5</td>\n",
       "      <td>6</td>\n",
       "      <td>7</td>\n",
       "      <td>8</td>\n",
       "    </tr>\n",
       "    <tr>\n",
       "      <th>foo</th>\n",
       "      <td>9</td>\n",
       "      <td>10</td>\n",
       "      <td>11</td>\n",
       "      <td>12</td>\n",
       "    </tr>\n",
       "  </tbody>\n",
       "</table>\n",
       "</div>"
      ],
      "text/plain": [
       "        c0  c1  c2  c3\n",
       "c4                    \n",
       "message  a   b   c   d\n",
       "hello    1   2   3   4\n",
       "world    5   6   7   8\n",
       "foo      9  10  11  12"
      ]
     },
     "execution_count": 74,
     "metadata": {},
     "output_type": "execute_result"
    }
   ],
   "source": [
    "# uma coluna pode virar o índice das linhas;\n",
    "# podemos também dar nomes as colunas\n",
    "df = pd.read_csv('simple.csv',\n",
    "                 names=['c0','c1','c2','c3','c4'],\n",
    "                 index_col='c4')\n",
    "#df = pd.read_csv('simple.csv',index_col='c5')\n",
    "print(df.index.values)\n",
    "df.head()"
   ]
  },
  {
   "cell_type": "markdown",
   "metadata": {},
   "source": [
    "`read_csv` possui muitos outros parâmetros\n",
    "\n",
    "[https://pandas.pydata.org/pandas-docs/stable/generated/pandas.read_csv.html](https://pandas.pydata.org/pandas-docs/stable/generated/pandas.read_csv.html)"
   ]
  }
 ],
 "metadata": {
  "kernelspec": {
   "display_name": "Python 3",
   "language": "python",
   "name": "python3"
  },
  "language_info": {
   "codemirror_mode": {
    "name": "ipython",
    "version": 3
   },
   "file_extension": ".py",
   "mimetype": "text/x-python",
   "name": "python",
   "nbconvert_exporter": "python",
   "pygments_lexer": "ipython3",
   "version": "3.7.3"
  }
 },
 "nbformat": 4,
 "nbformat_minor": 2
}

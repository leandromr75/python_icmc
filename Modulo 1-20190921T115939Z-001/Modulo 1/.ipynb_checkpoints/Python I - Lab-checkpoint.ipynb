{
 "cells": [
  {
   "cell_type": "markdown",
   "metadata": {},
   "source": [
    "# <span style=\"color:blue\">Programação Python para Ciência de Dados</span>\n",
    "\n",
    "## <span style=\"color:blue\">Exercícios Python I</span>"
   ]
  },
  {
   "cell_type": "markdown",
   "metadata": {},
   "source": [
    "#### 1) Declare uma variável *preco_dolar* e outra *preco_celular* com os valores 3.98 e 849, respectivamente. Realize a conversão do preço desse celular para real e imprima o resultado"
   ]
  },
  {
   "cell_type": "code",
   "execution_count": 1,
   "metadata": {},
   "outputs": [
    {
     "name": "stdout",
     "output_type": "stream",
     "text": [
      "3379.02\n"
     ]
    }
   ],
   "source": [
    "preco_dolar = 3.98\n",
    "preco_celular = 849\n",
    "preco_real = 849 * 3.98\n",
    "print(preco_real)"
   ]
  },
  {
   "cell_type": "markdown",
   "metadata": {},
   "source": [
    "#### 2) Supondo produtos que custam 35.90, 23.40 e 12.49 calcule a média de preço entre eles utilizando os operadores do Python"
   ]
  },
  {
   "cell_type": "code",
   "execution_count": 8,
   "metadata": {},
   "outputs": [
    {
     "name": "stdout",
     "output_type": "stream",
     "text": [
      "23.929999999999996\n",
      "23.93\n"
     ]
    }
   ],
   "source": [
    "p1 = 35.90\n",
    "p2 = 23.40\n",
    "p3 = 12.49\n",
    "media = (p1 + p2 + p3) / 3\n",
    "print(media)\n",
    "from statistics import mean\n",
    "valores = [35.9, 23.4, 12.49]\n",
    "media2 = mean(valores)\n",
    "print(media2)"
   ]
  },
  {
   "cell_type": "markdown",
   "metadata": {},
   "source": [
    "#### 3) Imprima os primeiros quatro elementos da lista a seguir"
   ]
  },
  {
   "cell_type": "code",
   "execution_count": 9,
   "metadata": {},
   "outputs": [
    {
     "name": "stdout",
     "output_type": "stream",
     "text": [
      "python\n",
      "java\n",
      "c++\n",
      "javascript\n",
      "Usando Slice\n",
      "['python', 'java', 'c++', 'javascript', 'c#']\n",
      "python\n",
      "java\n",
      "c++\n",
      "javascript\n"
     ]
    }
   ],
   "source": [
    "minha_lista = ['python', 'java', 'c++', 'javascript', 'c#', 'go', 'r']\n",
    "\n",
    "# Insira seu código a partir daqui\n",
    "print(minha_lista[0])\n",
    "print(minha_lista[1])\n",
    "print(minha_lista[2])\n",
    "print(minha_lista[3])\n",
    "\n",
    "print(\"Usando Slice\")\n",
    "print(minha_lista[0:5])\n",
    "\n",
    "for elemento in minha_lista[:4]:\n",
    "    print(elemento)\n",
    "    \n",
    "\n",
    "\n"
   ]
  },
  {
   "cell_type": "markdown",
   "metadata": {},
   "source": [
    "#### 4) Dada a seguinte lista com valores calcule e imprima a soma total"
   ]
  },
  {
   "cell_type": "code",
   "execution_count": 24,
   "metadata": {},
   "outputs": [
    {
     "name": "stdout",
     "output_type": "stream",
     "text": [
      "368\n",
      "368\n"
     ]
    }
   ],
   "source": [
    "lista_valores = [4, 6, 2, 34, 76, 123, 1, 9, 5, 76, 32]\n",
    "soma = 0\n",
    "# Insira seu código a partir daqui\n",
    "for elemento in lista_valores:\n",
    "    soma += elemento\n",
    "print(soma)\n",
    "\n",
    "print(sum(lista_valores))\n",
    "\n"
   ]
  },
  {
   "cell_type": "markdown",
   "metadata": {},
   "source": [
    "#### 5) Dada lista de nomes a seguir:"
   ]
  },
  {
   "cell_type": "code",
   "execution_count": 32,
   "metadata": {},
   "outputs": [],
   "source": [
    "meus_nomes = ['Matheus', 'Gabriel', 'Gustavo', 'Hugo', 'Ricardo', 'Rui', 'Guilherme', 'Luiz']"
   ]
  },
  {
   "cell_type": "markdown",
   "metadata": {},
   "source": [
    "##### a) Imprima apenas nomes que começam com a letra G"
   ]
  },
  {
   "cell_type": "code",
   "execution_count": 35,
   "metadata": {},
   "outputs": [
    {
     "name": "stdout",
     "output_type": "stream",
     "text": [
      "Gabriel\n",
      "Gustavo\n",
      "Guilherme\n"
     ]
    }
   ],
   "source": [
    "for nome in meus_nomes:\n",
    "    if nome[0] == 'G' :\n",
    "        print(nome)"
   ]
  },
  {
   "cell_type": "markdown",
   "metadata": {},
   "source": [
    "##### b) Imprima apenas nomes que começam com seis ou menos letras"
   ]
  },
  {
   "cell_type": "code",
   "execution_count": 34,
   "metadata": {},
   "outputs": [
    {
     "name": "stdout",
     "output_type": "stream",
     "text": [
      "Hugo\n",
      "Rui\n",
      "Luiz\n"
     ]
    }
   ],
   "source": [
    "for nome in meus_nomes:\n",
    "    if len(nome) <= 6:\n",
    "        print(nome)"
   ]
  },
  {
   "cell_type": "markdown",
   "metadata": {},
   "source": [
    "#### 6) Dada a lista de números a seguir, crie uma lista apenas com os números multiplos de 3"
   ]
  },
  {
   "cell_type": "code",
   "execution_count": 41,
   "metadata": {},
   "outputs": [
    {
     "name": "stdout",
     "output_type": "stream",
     "text": [
      "342\n",
      "12\n",
      "45\n",
      "123\n",
      "567\n",
      "[342, 12, 45, 123, 567]\n"
     ]
    }
   ],
   "source": [
    "meus_numeros = [1, 56, 342, 12, 781, 23, 43, 45, 123, 567]\n",
    "# Insira seu código a partir daqui\n",
    "for number in meus_numeros:\n",
    "    if (number % 3) == 0:\n",
    "        print(number)\n",
    "        \n",
    "lista = []\n",
    "for numero in meus_numeros:\n",
    "    if (numero % 3) == 0:\n",
    "        lista.append(numero)\n",
    "print(lista)\n",
    "    "
   ]
  },
  {
   "cell_type": "markdown",
   "metadata": {},
   "source": [
    "#### 7) Considerando uma lista onde cada elemento é uma lista que representa notas dadas a um produto, calcule a média de notas de cada produto, salvando o resultado em uma nova lista"
   ]
  },
  {
   "cell_type": "code",
   "execution_count": 39,
   "metadata": {},
   "outputs": [
    {
     "name": "stdout",
     "output_type": "stream",
     "text": [
      "[2.6666666666666665, 5.775, 8.16, 8.7, 3.525]\n"
     ]
    }
   ],
   "source": [
    "minhas_notas = [[2.3, 4.5, 1.2], # Notas do produto 1\n",
    "                [5.4, 3.6, 7.9, 6.2], # Notas do produto 2\n",
    "                [8.1, 8.9, 6.5, 7.9, 9.4], # ...\n",
    "                [9.8, 7.6],\n",
    "                [3.2, 4.5, 1.6, 4.8]]\n",
    "\n",
    "# Insira seu código a partir daqui\n",
    "nova_lista = []\n",
    "from statistics import mean\n",
    "for prod in minhas_notas:\n",
    "    nova_lista.append(mean(prod))\n",
    "    \n",
    "print(nova_lista)\n",
    "    \n",
    "    \n"
   ]
  },
  {
   "cell_type": "markdown",
   "metadata": {},
   "source": [
    "#### 8) Dado o dicionário abaixo, o qual contém preços de imóveis em uma cidade, escreva códigos para encontrar:"
   ]
  },
  {
   "cell_type": "code",
   "execution_count": 42,
   "metadata": {},
   "outputs": [],
   "source": [
    "preco_imoveis = {'Apartamento centro': 1250000,\n",
    "               'Apartamento suburbio': 500000,\n",
    "               'Casa cinco quartos': 750000,\n",
    "               'Casa com garagem': 300000,\n",
    "               'Casa com piscina': 1200000,\n",
    "               'Sitio pequeno': 3000000,\n",
    "               'Sitio com lago': 5500000}"
   ]
  },
  {
   "cell_type": "markdown",
   "metadata": {},
   "source": [
    "##### a) Qual é o preço total?"
   ]
  },
  {
   "cell_type": "code",
   "execution_count": 53,
   "metadata": {},
   "outputs": [
    {
     "name": "stdout",
     "output_type": "stream",
     "text": [
      "12500000\n",
      "12500000\n"
     ]
    }
   ],
   "source": [
    "total = 0\n",
    "for k,v in preco_imoveis.items():\n",
    "    total += v\n",
    "print(total)\n",
    "\n",
    "soma = 0\n",
    "for preco in preco_imoveis.values():\n",
    "    soma += preco\n",
    "print(soma)\n",
    "\n"
   ]
  },
  {
   "cell_type": "markdown",
   "metadata": {},
   "source": [
    "##### b) Quem possui o maior preço?"
   ]
  },
  {
   "cell_type": "code",
   "execution_count": 46,
   "metadata": {},
   "outputs": [
    {
     "name": "stdout",
     "output_type": "stream",
     "text": [
      "5500000\n"
     ]
    }
   ],
   "source": [
    "anterior = 0\n",
    "maior = 0\n",
    "nome = \"\"\n",
    "for k,v in preco_imoveis.items():\n",
    "    anterior = v\n",
    "    if anterior > maior:\n",
    "        maior = v\n",
    "print(maior)\n",
    "\n",
    "#como fazer sem o for\n",
    "#Dica: Extrair todos os valores, descobrir maior\n"
   ]
  },
  {
   "cell_type": "markdown",
   "metadata": {},
   "source": [
    "#### 9) Escreva código para contar o número de ocorrencias de cada letra na string fornecida"
   ]
  },
  {
   "cell_type": "code",
   "execution_count": 57,
   "metadata": {},
   "outputs": [
    {
     "data": {
      "text/plain": [
       "Counter({'s': 2,\n",
       "         'c': 2,\n",
       "         'i': 3,\n",
       "         'e': 2,\n",
       "         'n': 2,\n",
       "         't': 1,\n",
       "         'a': 1,\n",
       "         ' ': 1,\n",
       "         'v': 1})"
      ]
     },
     "execution_count": 57,
     "metadata": {},
     "output_type": "execute_result"
    }
   ],
   "source": [
    "minha_string = \"scientia vinces\"\n",
    "ocor = {}\n",
    "# Insira seu código a partir daqui\n",
    "for letra in minha_string:\n",
    "    if letra not in ocor:\n",
    "        ocor[letra] = 1\n",
    "    else:\n",
    "        ocor[letra] += 1\n",
    "ocor\n",
    "\n",
    "from collections import Counter\n",
    "Counter(minha_string)"
   ]
  },
  {
   "cell_type": "markdown",
   "metadata": {},
   "source": [
    "#### 10) Escreva código que seleciona aleatóriamente um nome da lista de nomes fornecida"
   ]
  },
  {
   "cell_type": "code",
   "execution_count": 49,
   "metadata": {},
   "outputs": [
    {
     "name": "stdout",
     "output_type": "stream",
     "text": [
      "Waldir Peres\n"
     ]
    }
   ],
   "source": [
    "meus_nomes = ['Waldir Peres', 'Luizinho', 'Oscar', \n",
    "              'Junior', 'Leandro', 'Cerezo', \n",
    "              'Falcão', 'Éder', 'Zico', 'Sócrates', 'Serginho']\n",
    "\n",
    "\n",
    "# Insira seu código a partir daqui\n",
    "from random import randint\n",
    "print(meus_nomes[randint(0, len(meus_nomes))])"
   ]
  },
  {
   "cell_type": "code",
   "execution_count": null,
   "metadata": {},
   "outputs": [],
   "source": []
  },
  {
   "cell_type": "code",
   "execution_count": null,
   "metadata": {},
   "outputs": [],
   "source": []
  }
 ],
 "metadata": {
  "kernelspec": {
   "display_name": "Python 3",
   "language": "python",
   "name": "python3"
  },
  "language_info": {
   "codemirror_mode": {
    "name": "ipython",
    "version": 3
   },
   "file_extension": ".py",
   "mimetype": "text/x-python",
   "name": "python",
   "nbconvert_exporter": "python",
   "pygments_lexer": "ipython3",
   "version": "3.7.3"
  },
  "toc": {
   "base_numbering": 1,
   "nav_menu": {},
   "number_sections": true,
   "sideBar": true,
   "skip_h1_title": false,
   "title_cell": "Table of Contents",
   "title_sidebar": "Contents",
   "toc_cell": false,
   "toc_position": {},
   "toc_section_display": true,
   "toc_window_display": false
  }
 },
 "nbformat": 4,
 "nbformat_minor": 2
}
